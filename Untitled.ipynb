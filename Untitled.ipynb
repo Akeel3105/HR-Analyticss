{
 "cells": [
  {
   "cell_type": "code",
   "execution_count": null,
   "metadata": {},
   "outputs": [],
   "source": [
    "le=LabelEncoder()\n",
    "train[\"city\"]=le.fit_transform(train[\"city\"])\n",
    "gender=pd.get_dummies(train[\"gender\"],drop_first=True)\n",
    "train=pd.concat([train,gender],axis=1)\n",
    "del train[\"gender\"]\n",
    "relevent_experience=pd.get_dummies(train[\"relevent_experience\"],drop_first=True)\n",
    "train=pd.concat([train,relevent_experience],axis=1)\n",
    "del train[\"relevent_experience\"]\n",
    "enrolled = {\"no_enrollment\": 0, \"Part time course\": 1, \"Full time course\":2}\n",
    "train['enrolled_university'] = train['enrolled_university'].map(enrolled)\n",
    "edu = {\"Primary School\": 0, \"High School\": 1, \"Graduate\":2,\"Masters\":3, \"Phd\":4}\n",
    "train['education_level'] = train['education_level'].map(edu)\n",
    "major_discipline=pd.get_dummies(train[\"major_discipline\"],drop_first=True)\n",
    "train=pd.concat([train,major_discipline],axis=1)\n",
    "del train[\"major_discipline\"]\n",
    "exp = {\"<1\": 0, \"2\": 1, \"3\":2,\"4\":3, \"5\":4,\"6\":5,\"7\":6,\"8\":7,\"9\":8,\"10\":9,\"11\":10,\"12\":11,\"13\":12,\"14\":13,\"15\":14,\"16\":15,\"17\":16,\"18\":17,\"19\":18,\"20\":19,\">20\":20}\n",
    "train['experience'] = train['experience'].map(exp)\n",
    "size = {\"<10\": 0, \"10/49\": 1, \"50-99\":2,\"100-500\":3, \"500-999\":4,\"1000-4999\":5,\"5000-9999\":6,\"10000+\":7}\n",
    "train['company_size'] = train['company_size'].map(size)\n",
    "company_type=pd.get_dummies(train[\"company_type\"],drop_first=True)\n",
    "train=pd.concat([train,company_type],axis=1)\n",
    "del train[\"company_type\"]\n",
    "last_new_job=pd.get_dummies(train[\"last_new_job\"],drop_first=True,prefix=\"job\")\n",
    "train=pd.concat([train,last_new_job],axis=1).head(1)\n",
    "del train[\"last_new_job\"]\n"
   ]
  },
  {
   "cell_type": "code",
   "execution_count": null,
   "metadata": {},
   "outputs": [],
   "source": []
  },
  {
   "cell_type": "code",
   "execution_count": null,
   "metadata": {},
   "outputs": [],
   "source": []
  },
  {
   "cell_type": "code",
   "execution_count": null,
   "metadata": {},
   "outputs": [],
   "source": []
  },
  {
   "cell_type": "code",
   "execution_count": null,
   "metadata": {},
   "outputs": [],
   "source": []
  }
 ],
 "metadata": {
  "kernelspec": {
   "display_name": "Python 3",
   "language": "python",
   "name": "python3"
  },
  "language_info": {
   "codemirror_mode": {
    "name": "ipython",
    "version": 3
   },
   "file_extension": ".py",
   "mimetype": "text/x-python",
   "name": "python",
   "nbconvert_exporter": "python",
   "pygments_lexer": "ipython3",
   "version": "3.6.5"
  }
 },
 "nbformat": 4,
 "nbformat_minor": 2
}
