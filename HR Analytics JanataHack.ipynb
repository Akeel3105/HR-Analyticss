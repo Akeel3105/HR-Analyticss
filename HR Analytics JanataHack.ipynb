{
 "cells": [
  {
   "cell_type": "code",
   "execution_count": null,
   "metadata": {},
   "outputs": [],
   "source": [
    "# Project name"
   ]
  },
  {
   "cell_type": "code",
   "execution_count": 1,
   "metadata": {},
   "outputs": [
    {
     "name": "stdout",
     "output_type": "stream",
     "text": [
      "project name: HR Analytics JanataHack\n"
     ]
    }
   ],
   "source": [
    "print(\"project name: HR Analytics JanataHack\")"
   ]
  },
  {
   "cell_type": "code",
   "execution_count": null,
   "metadata": {},
   "outputs": [],
   "source": [
    "# A brief about problem statement"
   ]
  },
  {
   "cell_type": "code",
   "execution_count": null,
   "metadata": {},
   "outputs": [],
   "source": [
    "'''\n",
    "A training institute which conducts training for analytics/ data science wants to expand their business to manpower recruitment\n",
    "(data science only) as well. \n",
    " \n",
    "Company gets large number of signups for their trainings. Now, company wants to connect these enrollees with their clients who \n",
    "are looking to hire employees working in the same domain. Before that, it is important to know which of these candidates are \n",
    "really looking for a new employment. They have student information related to demographics, education, experience and features\n",
    "related to training as well.\n",
    " \n",
    "To understand the factors that lead a person to look for a job change, the agency wants you to design a model that uses the \n",
    "current credentials/demographics/experience to predict the probability of an enrollee to look for a new job.\n",
    "'''"
   ]
  },
  {
   "cell_type": "code",
   "execution_count": null,
   "metadata": {},
   "outputs": [],
   "source": [
    "# Importing required libraries"
   ]
  },
  {
   "cell_type": "code",
   "execution_count": null,
   "metadata": {},
   "outputs": [],
   "source": []
  },
  {
   "cell_type": "code",
   "execution_count": null,
   "metadata": {},
   "outputs": [],
   "source": []
  },
  {
   "cell_type": "code",
   "execution_count": 124,
   "metadata": {},
   "outputs": [],
   "source": [
    "import pandas as pd\n",
    "import numpy as np\n",
    "import matplotlib.pyplot as plt\n",
    "import seaborn as sns\n",
    "%matplotlib inline\n",
    "sns.set_style(\"whitegrid\")\n",
    "from sklearn.preprocessing import LabelEncoder,StandardScaler\n",
    "from sklearn.model_selection import train_test_split\n",
    "from sklearn.tree import DecisionTreeClassifier\n",
    "from sklearn.ensemble import RandomForestClassifier,BaggingClassifier,ExtraTreesClassifier\n",
    "from sklearn.metrics import f1_score,roc_curve, auc ,accuracy_score,cohen_kappa_score,confusion_matrix,classification_report,recall_score,precision_score\n",
    "from sklearn.decomposition import PCA\n",
    "from sklearn.neighbors import KNeighborsClassifier\n",
    "from sklearn.linear_model import SGDClassifier\n",
    "from xgboost import XGBClassifier"
   ]
  },
  {
   "cell_type": "code",
   "execution_count": null,
   "metadata": {},
   "outputs": [],
   "source": [
    "# Loading train and test dataset"
   ]
  },
  {
   "cell_type": "code",
   "execution_count": 40,
   "metadata": {},
   "outputs": [],
   "source": [
    "train=pd.read_csv(\"train.csv\")\n",
    "test=pd.read_csv(\"test.csv\")"
   ]
  },
  {
   "cell_type": "code",
   "execution_count": null,
   "metadata": {},
   "outputs": [],
   "source": [
    "# Lets have a look at few rows from training dataset"
   ]
  },
  {
   "cell_type": "code",
   "execution_count": 3,
   "metadata": {},
   "outputs": [
    {
     "data": {
      "text/html": [
       "<div>\n",
       "<style scoped>\n",
       "    .dataframe tbody tr th:only-of-type {\n",
       "        vertical-align: middle;\n",
       "    }\n",
       "\n",
       "    .dataframe tbody tr th {\n",
       "        vertical-align: top;\n",
       "    }\n",
       "\n",
       "    .dataframe thead th {\n",
       "        text-align: right;\n",
       "    }\n",
       "</style>\n",
       "<table border=\"1\" class=\"dataframe\">\n",
       "  <thead>\n",
       "    <tr style=\"text-align: right;\">\n",
       "      <th></th>\n",
       "      <th>enrollee_id</th>\n",
       "      <th>city</th>\n",
       "      <th>city_development_index</th>\n",
       "      <th>gender</th>\n",
       "      <th>relevent_experience</th>\n",
       "      <th>enrolled_university</th>\n",
       "      <th>education_level</th>\n",
       "      <th>major_discipline</th>\n",
       "      <th>experience</th>\n",
       "      <th>company_size</th>\n",
       "      <th>company_type</th>\n",
       "      <th>last_new_job</th>\n",
       "      <th>training_hours</th>\n",
       "      <th>target</th>\n",
       "    </tr>\n",
       "  </thead>\n",
       "  <tbody>\n",
       "    <tr>\n",
       "      <th>0</th>\n",
       "      <td>23798</td>\n",
       "      <td>city_149</td>\n",
       "      <td>0.689</td>\n",
       "      <td>Male</td>\n",
       "      <td>Has relevent experience</td>\n",
       "      <td>no_enrollment</td>\n",
       "      <td>Graduate</td>\n",
       "      <td>STEM</td>\n",
       "      <td>3</td>\n",
       "      <td>100-500</td>\n",
       "      <td>Pvt Ltd</td>\n",
       "      <td>1</td>\n",
       "      <td>106</td>\n",
       "      <td>0</td>\n",
       "    </tr>\n",
       "    <tr>\n",
       "      <th>1</th>\n",
       "      <td>29166</td>\n",
       "      <td>city_83</td>\n",
       "      <td>0.923</td>\n",
       "      <td>Male</td>\n",
       "      <td>Has relevent experience</td>\n",
       "      <td>no_enrollment</td>\n",
       "      <td>Graduate</td>\n",
       "      <td>STEM</td>\n",
       "      <td>14</td>\n",
       "      <td>&lt;10</td>\n",
       "      <td>Funded Startup</td>\n",
       "      <td>1</td>\n",
       "      <td>69</td>\n",
       "      <td>0</td>\n",
       "    </tr>\n",
       "    <tr>\n",
       "      <th>2</th>\n",
       "      <td>46</td>\n",
       "      <td>city_16</td>\n",
       "      <td>0.910</td>\n",
       "      <td>NaN</td>\n",
       "      <td>Has relevent experience</td>\n",
       "      <td>no_enrollment</td>\n",
       "      <td>Graduate</td>\n",
       "      <td>STEM</td>\n",
       "      <td>6</td>\n",
       "      <td>50-99</td>\n",
       "      <td>Public Sector</td>\n",
       "      <td>2</td>\n",
       "      <td>4</td>\n",
       "      <td>0</td>\n",
       "    </tr>\n",
       "    <tr>\n",
       "      <th>3</th>\n",
       "      <td>18527</td>\n",
       "      <td>city_64</td>\n",
       "      <td>0.666</td>\n",
       "      <td>Male</td>\n",
       "      <td>Has relevent experience</td>\n",
       "      <td>no_enrollment</td>\n",
       "      <td>Graduate</td>\n",
       "      <td>STEM</td>\n",
       "      <td>14</td>\n",
       "      <td>50-99</td>\n",
       "      <td>Pvt Ltd</td>\n",
       "      <td>1</td>\n",
       "      <td>26</td>\n",
       "      <td>0</td>\n",
       "    </tr>\n",
       "    <tr>\n",
       "      <th>4</th>\n",
       "      <td>21751</td>\n",
       "      <td>city_100</td>\n",
       "      <td>0.887</td>\n",
       "      <td>NaN</td>\n",
       "      <td>No relevent experience</td>\n",
       "      <td>no_enrollment</td>\n",
       "      <td>Masters</td>\n",
       "      <td>STEM</td>\n",
       "      <td>8</td>\n",
       "      <td>NaN</td>\n",
       "      <td>NaN</td>\n",
       "      <td>2</td>\n",
       "      <td>88</td>\n",
       "      <td>1</td>\n",
       "    </tr>\n",
       "  </tbody>\n",
       "</table>\n",
       "</div>"
      ],
      "text/plain": [
       "   enrollee_id      city  city_development_index gender  \\\n",
       "0        23798  city_149                   0.689   Male   \n",
       "1        29166   city_83                   0.923   Male   \n",
       "2           46   city_16                   0.910    NaN   \n",
       "3        18527   city_64                   0.666   Male   \n",
       "4        21751  city_100                   0.887    NaN   \n",
       "\n",
       "       relevent_experience enrolled_university education_level  \\\n",
       "0  Has relevent experience       no_enrollment        Graduate   \n",
       "1  Has relevent experience       no_enrollment        Graduate   \n",
       "2  Has relevent experience       no_enrollment        Graduate   \n",
       "3  Has relevent experience       no_enrollment        Graduate   \n",
       "4   No relevent experience       no_enrollment         Masters   \n",
       "\n",
       "  major_discipline experience company_size    company_type last_new_job  \\\n",
       "0             STEM          3      100-500         Pvt Ltd            1   \n",
       "1             STEM         14          <10  Funded Startup            1   \n",
       "2             STEM          6        50-99   Public Sector            2   \n",
       "3             STEM         14        50-99         Pvt Ltd            1   \n",
       "4             STEM          8          NaN             NaN            2   \n",
       "\n",
       "   training_hours  target  \n",
       "0             106       0  \n",
       "1              69       0  \n",
       "2               4       0  \n",
       "3              26       0  \n",
       "4              88       1  "
      ]
     },
     "execution_count": 3,
     "metadata": {},
     "output_type": "execute_result"
    }
   ],
   "source": [
    "train.head(5)"
   ]
  },
  {
   "cell_type": "code",
   "execution_count": null,
   "metadata": {},
   "outputs": [],
   "source": [
    "# A few rows from bottom"
   ]
  },
  {
   "cell_type": "code",
   "execution_count": 4,
   "metadata": {},
   "outputs": [
    {
     "data": {
      "text/html": [
       "<div>\n",
       "<style scoped>\n",
       "    .dataframe tbody tr th:only-of-type {\n",
       "        vertical-align: middle;\n",
       "    }\n",
       "\n",
       "    .dataframe tbody tr th {\n",
       "        vertical-align: top;\n",
       "    }\n",
       "\n",
       "    .dataframe thead th {\n",
       "        text-align: right;\n",
       "    }\n",
       "</style>\n",
       "<table border=\"1\" class=\"dataframe\">\n",
       "  <thead>\n",
       "    <tr style=\"text-align: right;\">\n",
       "      <th></th>\n",
       "      <th>enrollee_id</th>\n",
       "      <th>city</th>\n",
       "      <th>city_development_index</th>\n",
       "      <th>gender</th>\n",
       "      <th>relevent_experience</th>\n",
       "      <th>enrolled_university</th>\n",
       "      <th>education_level</th>\n",
       "      <th>major_discipline</th>\n",
       "      <th>experience</th>\n",
       "      <th>company_size</th>\n",
       "      <th>company_type</th>\n",
       "      <th>last_new_job</th>\n",
       "      <th>training_hours</th>\n",
       "      <th>target</th>\n",
       "    </tr>\n",
       "  </thead>\n",
       "  <tbody>\n",
       "    <tr>\n",
       "      <th>18354</th>\n",
       "      <td>25366</td>\n",
       "      <td>city_103</td>\n",
       "      <td>0.920</td>\n",
       "      <td>Male</td>\n",
       "      <td>Has relevent experience</td>\n",
       "      <td>Full time course</td>\n",
       "      <td>Graduate</td>\n",
       "      <td>STEM</td>\n",
       "      <td>5</td>\n",
       "      <td>&lt;10</td>\n",
       "      <td>Pvt Ltd</td>\n",
       "      <td>1</td>\n",
       "      <td>71</td>\n",
       "      <td>0</td>\n",
       "    </tr>\n",
       "    <tr>\n",
       "      <th>18355</th>\n",
       "      <td>25545</td>\n",
       "      <td>city_160</td>\n",
       "      <td>0.920</td>\n",
       "      <td>Male</td>\n",
       "      <td>No relevent experience</td>\n",
       "      <td>no_enrollment</td>\n",
       "      <td>Graduate</td>\n",
       "      <td>Humanities</td>\n",
       "      <td>15</td>\n",
       "      <td>50-99</td>\n",
       "      <td>Pvt Ltd</td>\n",
       "      <td>1</td>\n",
       "      <td>160</td>\n",
       "      <td>0</td>\n",
       "    </tr>\n",
       "    <tr>\n",
       "      <th>18356</th>\n",
       "      <td>11514</td>\n",
       "      <td>city_114</td>\n",
       "      <td>0.926</td>\n",
       "      <td>Male</td>\n",
       "      <td>Has relevent experience</td>\n",
       "      <td>no_enrollment</td>\n",
       "      <td>Masters</td>\n",
       "      <td>STEM</td>\n",
       "      <td>11</td>\n",
       "      <td>50-99</td>\n",
       "      <td>Pvt Ltd</td>\n",
       "      <td>3</td>\n",
       "      <td>18</td>\n",
       "      <td>0</td>\n",
       "    </tr>\n",
       "    <tr>\n",
       "      <th>18357</th>\n",
       "      <td>1689</td>\n",
       "      <td>city_75</td>\n",
       "      <td>0.939</td>\n",
       "      <td>Male</td>\n",
       "      <td>Has relevent experience</td>\n",
       "      <td>no_enrollment</td>\n",
       "      <td>Graduate</td>\n",
       "      <td>STEM</td>\n",
       "      <td>&gt;20</td>\n",
       "      <td>10/49</td>\n",
       "      <td>Pvt Ltd</td>\n",
       "      <td>3</td>\n",
       "      <td>41</td>\n",
       "      <td>0</td>\n",
       "    </tr>\n",
       "    <tr>\n",
       "      <th>18358</th>\n",
       "      <td>5995</td>\n",
       "      <td>city_105</td>\n",
       "      <td>0.794</td>\n",
       "      <td>Female</td>\n",
       "      <td>Has relevent experience</td>\n",
       "      <td>no_enrollment</td>\n",
       "      <td>Graduate</td>\n",
       "      <td>STEM</td>\n",
       "      <td>&gt;20</td>\n",
       "      <td>100-500</td>\n",
       "      <td>Pvt Ltd</td>\n",
       "      <td>2</td>\n",
       "      <td>84</td>\n",
       "      <td>0</td>\n",
       "    </tr>\n",
       "  </tbody>\n",
       "</table>\n",
       "</div>"
      ],
      "text/plain": [
       "       enrollee_id      city  city_development_index  gender  \\\n",
       "18354        25366  city_103                   0.920    Male   \n",
       "18355        25545  city_160                   0.920    Male   \n",
       "18356        11514  city_114                   0.926    Male   \n",
       "18357         1689   city_75                   0.939    Male   \n",
       "18358         5995  city_105                   0.794  Female   \n",
       "\n",
       "           relevent_experience enrolled_university education_level  \\\n",
       "18354  Has relevent experience    Full time course        Graduate   \n",
       "18355   No relevent experience       no_enrollment        Graduate   \n",
       "18356  Has relevent experience       no_enrollment         Masters   \n",
       "18357  Has relevent experience       no_enrollment        Graduate   \n",
       "18358  Has relevent experience       no_enrollment        Graduate   \n",
       "\n",
       "      major_discipline experience company_size company_type last_new_job  \\\n",
       "18354             STEM          5          <10      Pvt Ltd            1   \n",
       "18355       Humanities         15        50-99      Pvt Ltd            1   \n",
       "18356             STEM         11        50-99      Pvt Ltd            3   \n",
       "18357             STEM        >20        10/49      Pvt Ltd            3   \n",
       "18358             STEM        >20      100-500      Pvt Ltd            2   \n",
       "\n",
       "       training_hours  target  \n",
       "18354              71       0  \n",
       "18355             160       0  \n",
       "18356              18       0  \n",
       "18357              41       0  \n",
       "18358              84       0  "
      ]
     },
     "execution_count": 4,
     "metadata": {},
     "output_type": "execute_result"
    }
   ],
   "source": [
    "train.tail(5)"
   ]
  },
  {
   "cell_type": "code",
   "execution_count": null,
   "metadata": {},
   "outputs": [],
   "source": [
    "# A few rows selected randomly"
   ]
  },
  {
   "cell_type": "code",
   "execution_count": 5,
   "metadata": {},
   "outputs": [
    {
     "data": {
      "text/html": [
       "<div>\n",
       "<style scoped>\n",
       "    .dataframe tbody tr th:only-of-type {\n",
       "        vertical-align: middle;\n",
       "    }\n",
       "\n",
       "    .dataframe tbody tr th {\n",
       "        vertical-align: top;\n",
       "    }\n",
       "\n",
       "    .dataframe thead th {\n",
       "        text-align: right;\n",
       "    }\n",
       "</style>\n",
       "<table border=\"1\" class=\"dataframe\">\n",
       "  <thead>\n",
       "    <tr style=\"text-align: right;\">\n",
       "      <th></th>\n",
       "      <th>enrollee_id</th>\n",
       "      <th>city</th>\n",
       "      <th>city_development_index</th>\n",
       "      <th>gender</th>\n",
       "      <th>relevent_experience</th>\n",
       "      <th>enrolled_university</th>\n",
       "      <th>education_level</th>\n",
       "      <th>major_discipline</th>\n",
       "      <th>experience</th>\n",
       "      <th>company_size</th>\n",
       "      <th>company_type</th>\n",
       "      <th>last_new_job</th>\n",
       "      <th>training_hours</th>\n",
       "      <th>target</th>\n",
       "    </tr>\n",
       "  </thead>\n",
       "  <tbody>\n",
       "    <tr>\n",
       "      <th>16616</th>\n",
       "      <td>13925</td>\n",
       "      <td>city_103</td>\n",
       "      <td>0.92</td>\n",
       "      <td>Male</td>\n",
       "      <td>Has relevent experience</td>\n",
       "      <td>no_enrollment</td>\n",
       "      <td>Phd</td>\n",
       "      <td>STEM</td>\n",
       "      <td>9</td>\n",
       "      <td>100-500</td>\n",
       "      <td>Funded Startup</td>\n",
       "      <td>1</td>\n",
       "      <td>79</td>\n",
       "      <td>0</td>\n",
       "    </tr>\n",
       "    <tr>\n",
       "      <th>14023</th>\n",
       "      <td>14491</td>\n",
       "      <td>city_144</td>\n",
       "      <td>0.84</td>\n",
       "      <td>Male</td>\n",
       "      <td>Has relevent experience</td>\n",
       "      <td>no_enrollment</td>\n",
       "      <td>High School</td>\n",
       "      <td>NaN</td>\n",
       "      <td>13</td>\n",
       "      <td>50-99</td>\n",
       "      <td>Funded Startup</td>\n",
       "      <td>1</td>\n",
       "      <td>36</td>\n",
       "      <td>0</td>\n",
       "    </tr>\n",
       "    <tr>\n",
       "      <th>15199</th>\n",
       "      <td>25577</td>\n",
       "      <td>city_103</td>\n",
       "      <td>0.92</td>\n",
       "      <td>Male</td>\n",
       "      <td>Has relevent experience</td>\n",
       "      <td>no_enrollment</td>\n",
       "      <td>Graduate</td>\n",
       "      <td>Other</td>\n",
       "      <td>5</td>\n",
       "      <td>1000-4999</td>\n",
       "      <td>Pvt Ltd</td>\n",
       "      <td>1</td>\n",
       "      <td>54</td>\n",
       "      <td>0</td>\n",
       "    </tr>\n",
       "    <tr>\n",
       "      <th>14107</th>\n",
       "      <td>26773</td>\n",
       "      <td>city_16</td>\n",
       "      <td>0.91</td>\n",
       "      <td>Male</td>\n",
       "      <td>Has relevent experience</td>\n",
       "      <td>no_enrollment</td>\n",
       "      <td>Graduate</td>\n",
       "      <td>STEM</td>\n",
       "      <td>&gt;20</td>\n",
       "      <td>50-99</td>\n",
       "      <td>Pvt Ltd</td>\n",
       "      <td>&gt;4</td>\n",
       "      <td>135</td>\n",
       "      <td>0</td>\n",
       "    </tr>\n",
       "    <tr>\n",
       "      <th>11153</th>\n",
       "      <td>3927</td>\n",
       "      <td>city_16</td>\n",
       "      <td>0.91</td>\n",
       "      <td>Male</td>\n",
       "      <td>Has relevent experience</td>\n",
       "      <td>no_enrollment</td>\n",
       "      <td>Masters</td>\n",
       "      <td>Business Degree</td>\n",
       "      <td>&gt;20</td>\n",
       "      <td>10000+</td>\n",
       "      <td>Pvt Ltd</td>\n",
       "      <td>2</td>\n",
       "      <td>48</td>\n",
       "      <td>0</td>\n",
       "    </tr>\n",
       "  </tbody>\n",
       "</table>\n",
       "</div>"
      ],
      "text/plain": [
       "       enrollee_id      city  city_development_index gender  \\\n",
       "16616        13925  city_103                    0.92   Male   \n",
       "14023        14491  city_144                    0.84   Male   \n",
       "15199        25577  city_103                    0.92   Male   \n",
       "14107        26773   city_16                    0.91   Male   \n",
       "11153         3927   city_16                    0.91   Male   \n",
       "\n",
       "           relevent_experience enrolled_university education_level  \\\n",
       "16616  Has relevent experience       no_enrollment             Phd   \n",
       "14023  Has relevent experience       no_enrollment     High School   \n",
       "15199  Has relevent experience       no_enrollment        Graduate   \n",
       "14107  Has relevent experience       no_enrollment        Graduate   \n",
       "11153  Has relevent experience       no_enrollment         Masters   \n",
       "\n",
       "      major_discipline experience company_size    company_type last_new_job  \\\n",
       "16616             STEM          9      100-500  Funded Startup            1   \n",
       "14023              NaN         13        50-99  Funded Startup            1   \n",
       "15199            Other          5    1000-4999         Pvt Ltd            1   \n",
       "14107             STEM        >20        50-99         Pvt Ltd           >4   \n",
       "11153  Business Degree        >20       10000+         Pvt Ltd            2   \n",
       "\n",
       "       training_hours  target  \n",
       "16616              79       0  \n",
       "14023              36       0  \n",
       "15199              54       0  \n",
       "14107             135       0  \n",
       "11153              48       0  "
      ]
     },
     "execution_count": 5,
     "metadata": {},
     "output_type": "execute_result"
    }
   ],
   "source": [
    "train.sample(5)"
   ]
  },
  {
   "cell_type": "code",
   "execution_count": null,
   "metadata": {},
   "outputs": [],
   "source": [
    "# basic stats value "
   ]
  },
  {
   "cell_type": "code",
   "execution_count": 6,
   "metadata": {},
   "outputs": [
    {
     "data": {
      "text/html": [
       "<div>\n",
       "<style scoped>\n",
       "    .dataframe tbody tr th:only-of-type {\n",
       "        vertical-align: middle;\n",
       "    }\n",
       "\n",
       "    .dataframe tbody tr th {\n",
       "        vertical-align: top;\n",
       "    }\n",
       "\n",
       "    .dataframe thead th {\n",
       "        text-align: right;\n",
       "    }\n",
       "</style>\n",
       "<table border=\"1\" class=\"dataframe\">\n",
       "  <thead>\n",
       "    <tr style=\"text-align: right;\">\n",
       "      <th></th>\n",
       "      <th>enrollee_id</th>\n",
       "      <th>city_development_index</th>\n",
       "      <th>training_hours</th>\n",
       "      <th>target</th>\n",
       "    </tr>\n",
       "  </thead>\n",
       "  <tbody>\n",
       "    <tr>\n",
       "      <th>count</th>\n",
       "      <td>18359.000000</td>\n",
       "      <td>18359.000000</td>\n",
       "      <td>18359.000000</td>\n",
       "      <td>18359.000000</td>\n",
       "    </tr>\n",
       "    <tr>\n",
       "      <th>mean</th>\n",
       "      <td>16729.360096</td>\n",
       "      <td>0.847140</td>\n",
       "      <td>65.899014</td>\n",
       "      <td>0.132088</td>\n",
       "    </tr>\n",
       "    <tr>\n",
       "      <th>std</th>\n",
       "      <td>9643.749725</td>\n",
       "      <td>0.110189</td>\n",
       "      <td>60.885300</td>\n",
       "      <td>0.338595</td>\n",
       "    </tr>\n",
       "    <tr>\n",
       "      <th>min</th>\n",
       "      <td>1.000000</td>\n",
       "      <td>0.448000</td>\n",
       "      <td>1.000000</td>\n",
       "      <td>0.000000</td>\n",
       "    </tr>\n",
       "    <tr>\n",
       "      <th>25%</th>\n",
       "      <td>8378.500000</td>\n",
       "      <td>0.796000</td>\n",
       "      <td>23.000000</td>\n",
       "      <td>0.000000</td>\n",
       "    </tr>\n",
       "    <tr>\n",
       "      <th>50%</th>\n",
       "      <td>16706.000000</td>\n",
       "      <td>0.910000</td>\n",
       "      <td>47.000000</td>\n",
       "      <td>0.000000</td>\n",
       "    </tr>\n",
       "    <tr>\n",
       "      <th>75%</th>\n",
       "      <td>25148.500000</td>\n",
       "      <td>0.920000</td>\n",
       "      <td>89.000000</td>\n",
       "      <td>0.000000</td>\n",
       "    </tr>\n",
       "    <tr>\n",
       "      <th>max</th>\n",
       "      <td>33380.000000</td>\n",
       "      <td>0.949000</td>\n",
       "      <td>336.000000</td>\n",
       "      <td>1.000000</td>\n",
       "    </tr>\n",
       "  </tbody>\n",
       "</table>\n",
       "</div>"
      ],
      "text/plain": [
       "        enrollee_id  city_development_index  training_hours        target\n",
       "count  18359.000000            18359.000000    18359.000000  18359.000000\n",
       "mean   16729.360096                0.847140       65.899014      0.132088\n",
       "std     9643.749725                0.110189       60.885300      0.338595\n",
       "min        1.000000                0.448000        1.000000      0.000000\n",
       "25%     8378.500000                0.796000       23.000000      0.000000\n",
       "50%    16706.000000                0.910000       47.000000      0.000000\n",
       "75%    25148.500000                0.920000       89.000000      0.000000\n",
       "max    33380.000000                0.949000      336.000000      1.000000"
      ]
     },
     "execution_count": 6,
     "metadata": {},
     "output_type": "execute_result"
    }
   ],
   "source": [
    "train.describe()"
   ]
  },
  {
   "cell_type": "code",
   "execution_count": null,
   "metadata": {},
   "outputs": [],
   "source": [
    "# shape of dataset"
   ]
  },
  {
   "cell_type": "code",
   "execution_count": 7,
   "metadata": {},
   "outputs": [
    {
     "name": "stdout",
     "output_type": "stream",
     "text": [
      "shape of training dataset: (18359, 14)\n",
      "shape of test dataset: (15021, 13)\n"
     ]
    }
   ],
   "source": [
    "print(\"shape of training dataset:\",train.shape)\n",
    "print(\"shape of test dataset:\",test.shape)"
   ]
  },
  {
   "cell_type": "code",
   "execution_count": null,
   "metadata": {},
   "outputs": [],
   "source": [
    "# Detailed summary of training dataset"
   ]
  },
  {
   "cell_type": "code",
   "execution_count": 10,
   "metadata": {},
   "outputs": [
    {
     "data": {
      "text/html": [
       "<div>\n",
       "<style scoped>\n",
       "    .dataframe tbody tr th:only-of-type {\n",
       "        vertical-align: middle;\n",
       "    }\n",
       "\n",
       "    .dataframe tbody tr th {\n",
       "        vertical-align: top;\n",
       "    }\n",
       "\n",
       "    .dataframe thead th {\n",
       "        text-align: right;\n",
       "    }\n",
       "</style>\n",
       "<table border=\"1\" class=\"dataframe\">\n",
       "  <thead>\n",
       "    <tr style=\"text-align: right;\">\n",
       "      <th></th>\n",
       "      <th>Total missing</th>\n",
       "      <th>% missing</th>\n",
       "      <th>DataType</th>\n",
       "      <th>Unique</th>\n",
       "    </tr>\n",
       "  </thead>\n",
       "  <tbody>\n",
       "    <tr>\n",
       "      <th>enrollee_id</th>\n",
       "      <td>0</td>\n",
       "      <td>0.000000</td>\n",
       "      <td>int64</td>\n",
       "      <td>18359</td>\n",
       "    </tr>\n",
       "    <tr>\n",
       "      <th>city</th>\n",
       "      <td>0</td>\n",
       "      <td>0.000000</td>\n",
       "      <td>object</td>\n",
       "      <td>123</td>\n",
       "    </tr>\n",
       "    <tr>\n",
       "      <th>city_development_index</th>\n",
       "      <td>0</td>\n",
       "      <td>0.000000</td>\n",
       "      <td>float64</td>\n",
       "      <td>93</td>\n",
       "    </tr>\n",
       "    <tr>\n",
       "      <th>gender</th>\n",
       "      <td>4098</td>\n",
       "      <td>0.223215</td>\n",
       "      <td>object</td>\n",
       "      <td>3</td>\n",
       "    </tr>\n",
       "    <tr>\n",
       "      <th>relevent_experience</th>\n",
       "      <td>0</td>\n",
       "      <td>0.000000</td>\n",
       "      <td>object</td>\n",
       "      <td>2</td>\n",
       "    </tr>\n",
       "    <tr>\n",
       "      <th>enrolled_university</th>\n",
       "      <td>342</td>\n",
       "      <td>0.018628</td>\n",
       "      <td>object</td>\n",
       "      <td>3</td>\n",
       "    </tr>\n",
       "    <tr>\n",
       "      <th>education_level</th>\n",
       "      <td>457</td>\n",
       "      <td>0.024892</td>\n",
       "      <td>object</td>\n",
       "      <td>5</td>\n",
       "    </tr>\n",
       "    <tr>\n",
       "      <th>major_discipline</th>\n",
       "      <td>2838</td>\n",
       "      <td>0.154584</td>\n",
       "      <td>object</td>\n",
       "      <td>6</td>\n",
       "    </tr>\n",
       "    <tr>\n",
       "      <th>experience</th>\n",
       "      <td>59</td>\n",
       "      <td>0.003214</td>\n",
       "      <td>object</td>\n",
       "      <td>22</td>\n",
       "    </tr>\n",
       "    <tr>\n",
       "      <th>company_size</th>\n",
       "      <td>4779</td>\n",
       "      <td>0.260308</td>\n",
       "      <td>object</td>\n",
       "      <td>8</td>\n",
       "    </tr>\n",
       "    <tr>\n",
       "      <th>company_type</th>\n",
       "      <td>5039</td>\n",
       "      <td>0.274470</td>\n",
       "      <td>object</td>\n",
       "      <td>6</td>\n",
       "    </tr>\n",
       "    <tr>\n",
       "      <th>last_new_job</th>\n",
       "      <td>367</td>\n",
       "      <td>0.019990</td>\n",
       "      <td>object</td>\n",
       "      <td>6</td>\n",
       "    </tr>\n",
       "    <tr>\n",
       "      <th>training_hours</th>\n",
       "      <td>0</td>\n",
       "      <td>0.000000</td>\n",
       "      <td>int64</td>\n",
       "      <td>241</td>\n",
       "    </tr>\n",
       "    <tr>\n",
       "      <th>target</th>\n",
       "      <td>0</td>\n",
       "      <td>0.000000</td>\n",
       "      <td>int64</td>\n",
       "      <td>2</td>\n",
       "    </tr>\n",
       "  </tbody>\n",
       "</table>\n",
       "</div>"
      ],
      "text/plain": [
       "                        Total missing  % missing DataType  Unique\n",
       "enrollee_id                         0   0.000000    int64   18359\n",
       "city                                0   0.000000   object     123\n",
       "city_development_index              0   0.000000  float64      93\n",
       "gender                           4098   0.223215   object       3\n",
       "relevent_experience                 0   0.000000   object       2\n",
       "enrolled_university               342   0.018628   object       3\n",
       "education_level                   457   0.024892   object       5\n",
       "major_discipline                 2838   0.154584   object       6\n",
       "experience                         59   0.003214   object      22\n",
       "company_size                     4779   0.260308   object       8\n",
       "company_type                     5039   0.274470   object       6\n",
       "last_new_job                      367   0.019990   object       6\n",
       "training_hours                      0   0.000000    int64     241\n",
       "target                              0   0.000000    int64       2"
      ]
     },
     "execution_count": 10,
     "metadata": {},
     "output_type": "execute_result"
    }
   ],
   "source": [
    "pd.DataFrame({\"Total missing\":train.isna().sum(),\"% missing\":train.isna().mean(),\"DataType\":train.dtypes,\"Unique\":train.nunique()})"
   ]
  },
  {
   "cell_type": "code",
   "execution_count": null,
   "metadata": {},
   "outputs": [],
   "source": [
    "# Lets see a few rows from test dataset"
   ]
  },
  {
   "cell_type": "code",
   "execution_count": 9,
   "metadata": {},
   "outputs": [
    {
     "data": {
      "text/html": [
       "<div>\n",
       "<style scoped>\n",
       "    .dataframe tbody tr th:only-of-type {\n",
       "        vertical-align: middle;\n",
       "    }\n",
       "\n",
       "    .dataframe tbody tr th {\n",
       "        vertical-align: top;\n",
       "    }\n",
       "\n",
       "    .dataframe thead th {\n",
       "        text-align: right;\n",
       "    }\n",
       "</style>\n",
       "<table border=\"1\" class=\"dataframe\">\n",
       "  <thead>\n",
       "    <tr style=\"text-align: right;\">\n",
       "      <th></th>\n",
       "      <th>enrollee_id</th>\n",
       "      <th>city</th>\n",
       "      <th>city_development_index</th>\n",
       "      <th>gender</th>\n",
       "      <th>relevent_experience</th>\n",
       "      <th>enrolled_university</th>\n",
       "      <th>education_level</th>\n",
       "      <th>major_discipline</th>\n",
       "      <th>experience</th>\n",
       "      <th>company_size</th>\n",
       "      <th>company_type</th>\n",
       "      <th>last_new_job</th>\n",
       "      <th>training_hours</th>\n",
       "    </tr>\n",
       "  </thead>\n",
       "  <tbody>\n",
       "    <tr>\n",
       "      <th>5989</th>\n",
       "      <td>7505</td>\n",
       "      <td>city_103</td>\n",
       "      <td>0.920</td>\n",
       "      <td>NaN</td>\n",
       "      <td>Has relevent experience</td>\n",
       "      <td>no_enrollment</td>\n",
       "      <td>Graduate</td>\n",
       "      <td>STEM</td>\n",
       "      <td>16</td>\n",
       "      <td>&lt;10</td>\n",
       "      <td>Pvt Ltd</td>\n",
       "      <td>&gt;4</td>\n",
       "      <td>44</td>\n",
       "    </tr>\n",
       "    <tr>\n",
       "      <th>9315</th>\n",
       "      <td>1395</td>\n",
       "      <td>city_173</td>\n",
       "      <td>0.878</td>\n",
       "      <td>Male</td>\n",
       "      <td>No relevent experience</td>\n",
       "      <td>no_enrollment</td>\n",
       "      <td>Primary School</td>\n",
       "      <td>NaN</td>\n",
       "      <td>8</td>\n",
       "      <td>NaN</td>\n",
       "      <td>NaN</td>\n",
       "      <td>never</td>\n",
       "      <td>170</td>\n",
       "    </tr>\n",
       "    <tr>\n",
       "      <th>8089</th>\n",
       "      <td>20951</td>\n",
       "      <td>city_103</td>\n",
       "      <td>0.920</td>\n",
       "      <td>Male</td>\n",
       "      <td>Has relevent experience</td>\n",
       "      <td>no_enrollment</td>\n",
       "      <td>Graduate</td>\n",
       "      <td>STEM</td>\n",
       "      <td>&gt;20</td>\n",
       "      <td>10000+</td>\n",
       "      <td>Pvt Ltd</td>\n",
       "      <td>&gt;4</td>\n",
       "      <td>178</td>\n",
       "    </tr>\n",
       "  </tbody>\n",
       "</table>\n",
       "</div>"
      ],
      "text/plain": [
       "      enrollee_id      city  city_development_index gender  \\\n",
       "5989         7505  city_103                   0.920    NaN   \n",
       "9315         1395  city_173                   0.878   Male   \n",
       "8089        20951  city_103                   0.920   Male   \n",
       "\n",
       "          relevent_experience enrolled_university education_level  \\\n",
       "5989  Has relevent experience       no_enrollment        Graduate   \n",
       "9315   No relevent experience       no_enrollment  Primary School   \n",
       "8089  Has relevent experience       no_enrollment        Graduate   \n",
       "\n",
       "     major_discipline experience company_size company_type last_new_job  \\\n",
       "5989             STEM         16          <10      Pvt Ltd           >4   \n",
       "9315              NaN          8          NaN          NaN        never   \n",
       "8089             STEM        >20       10000+      Pvt Ltd           >4   \n",
       "\n",
       "      training_hours  \n",
       "5989              44  \n",
       "9315             170  \n",
       "8089             178  "
      ]
     },
     "execution_count": 9,
     "metadata": {},
     "output_type": "execute_result"
    }
   ],
   "source": [
    "test.sample(3)"
   ]
  },
  {
   "cell_type": "code",
   "execution_count": null,
   "metadata": {},
   "outputs": [],
   "source": [
    "# Detailed summary of test dataset"
   ]
  },
  {
   "cell_type": "code",
   "execution_count": 11,
   "metadata": {},
   "outputs": [
    {
     "data": {
      "text/html": [
       "<div>\n",
       "<style scoped>\n",
       "    .dataframe tbody tr th:only-of-type {\n",
       "        vertical-align: middle;\n",
       "    }\n",
       "\n",
       "    .dataframe tbody tr th {\n",
       "        vertical-align: top;\n",
       "    }\n",
       "\n",
       "    .dataframe thead th {\n",
       "        text-align: right;\n",
       "    }\n",
       "</style>\n",
       "<table border=\"1\" class=\"dataframe\">\n",
       "  <thead>\n",
       "    <tr style=\"text-align: right;\">\n",
       "      <th></th>\n",
       "      <th>Total missing</th>\n",
       "      <th>% missing</th>\n",
       "      <th>DataType</th>\n",
       "      <th>Unique</th>\n",
       "    </tr>\n",
       "  </thead>\n",
       "  <tbody>\n",
       "    <tr>\n",
       "      <th>enrollee_id</th>\n",
       "      <td>0</td>\n",
       "      <td>0.000000</td>\n",
       "      <td>int64</td>\n",
       "      <td>15021</td>\n",
       "    </tr>\n",
       "    <tr>\n",
       "      <th>city</th>\n",
       "      <td>0</td>\n",
       "      <td>0.000000</td>\n",
       "      <td>object</td>\n",
       "      <td>123</td>\n",
       "    </tr>\n",
       "    <tr>\n",
       "      <th>city_development_index</th>\n",
       "      <td>0</td>\n",
       "      <td>0.000000</td>\n",
       "      <td>float64</td>\n",
       "      <td>93</td>\n",
       "    </tr>\n",
       "    <tr>\n",
       "      <th>gender</th>\n",
       "      <td>3388</td>\n",
       "      <td>0.225551</td>\n",
       "      <td>object</td>\n",
       "      <td>3</td>\n",
       "    </tr>\n",
       "    <tr>\n",
       "      <th>relevent_experience</th>\n",
       "      <td>0</td>\n",
       "      <td>0.000000</td>\n",
       "      <td>object</td>\n",
       "      <td>2</td>\n",
       "    </tr>\n",
       "    <tr>\n",
       "      <th>enrolled_university</th>\n",
       "      <td>279</td>\n",
       "      <td>0.018574</td>\n",
       "      <td>object</td>\n",
       "      <td>3</td>\n",
       "    </tr>\n",
       "    <tr>\n",
       "      <th>education_level</th>\n",
       "      <td>395</td>\n",
       "      <td>0.026297</td>\n",
       "      <td>object</td>\n",
       "      <td>5</td>\n",
       "    </tr>\n",
       "    <tr>\n",
       "      <th>major_discipline</th>\n",
       "      <td>2393</td>\n",
       "      <td>0.159310</td>\n",
       "      <td>object</td>\n",
       "      <td>6</td>\n",
       "    </tr>\n",
       "    <tr>\n",
       "      <th>experience</th>\n",
       "      <td>44</td>\n",
       "      <td>0.002929</td>\n",
       "      <td>object</td>\n",
       "      <td>22</td>\n",
       "    </tr>\n",
       "    <tr>\n",
       "      <th>company_size</th>\n",
       "      <td>4051</td>\n",
       "      <td>0.269689</td>\n",
       "      <td>object</td>\n",
       "      <td>8</td>\n",
       "    </tr>\n",
       "    <tr>\n",
       "      <th>company_type</th>\n",
       "      <td>4330</td>\n",
       "      <td>0.288263</td>\n",
       "      <td>object</td>\n",
       "      <td>6</td>\n",
       "    </tr>\n",
       "    <tr>\n",
       "      <th>last_new_job</th>\n",
       "      <td>304</td>\n",
       "      <td>0.020238</td>\n",
       "      <td>object</td>\n",
       "      <td>6</td>\n",
       "    </tr>\n",
       "    <tr>\n",
       "      <th>training_hours</th>\n",
       "      <td>0</td>\n",
       "      <td>0.000000</td>\n",
       "      <td>int64</td>\n",
       "      <td>241</td>\n",
       "    </tr>\n",
       "  </tbody>\n",
       "</table>\n",
       "</div>"
      ],
      "text/plain": [
       "                        Total missing  % missing DataType  Unique\n",
       "enrollee_id                         0   0.000000    int64   15021\n",
       "city                                0   0.000000   object     123\n",
       "city_development_index              0   0.000000  float64      93\n",
       "gender                           3388   0.225551   object       3\n",
       "relevent_experience                 0   0.000000   object       2\n",
       "enrolled_university               279   0.018574   object       3\n",
       "education_level                   395   0.026297   object       5\n",
       "major_discipline                 2393   0.159310   object       6\n",
       "experience                         44   0.002929   object      22\n",
       "company_size                     4051   0.269689   object       8\n",
       "company_type                     4330   0.288263   object       6\n",
       "last_new_job                      304   0.020238   object       6\n",
       "training_hours                      0   0.000000    int64     241"
      ]
     },
     "execution_count": 11,
     "metadata": {},
     "output_type": "execute_result"
    }
   ],
   "source": [
    "pd.DataFrame({\"Total missing\":test.isna().sum(),\"% missing\":test.isna().mean(),\"DataType\":test.dtypes,\"Unique\":test.nunique()})"
   ]
  },
  {
   "cell_type": "code",
   "execution_count": null,
   "metadata": {},
   "outputs": [],
   "source": [
    "# Listing all columns of training dataset"
   ]
  },
  {
   "cell_type": "code",
   "execution_count": 12,
   "metadata": {},
   "outputs": [
    {
     "data": {
      "text/plain": [
       "Index(['enrollee_id', 'city', 'city_development_index', 'gender',\n",
       "       'relevent_experience', 'enrolled_university', 'education_level',\n",
       "       'major_discipline', 'experience', 'company_size', 'company_type',\n",
       "       'last_new_job', 'training_hours', 'target'],\n",
       "      dtype='object')"
      ]
     },
     "execution_count": 12,
     "metadata": {},
     "output_type": "execute_result"
    }
   ],
   "source": [
    "train.columns"
   ]
  },
  {
   "cell_type": "code",
   "execution_count": 13,
   "metadata": {},
   "outputs": [],
   "source": [
    "# Listing all columns of test dataset"
   ]
  },
  {
   "cell_type": "code",
   "execution_count": 14,
   "metadata": {},
   "outputs": [
    {
     "data": {
      "text/plain": [
       "Index(['enrollee_id', 'city', 'city_development_index', 'gender',\n",
       "       'relevent_experience', 'enrolled_university', 'education_level',\n",
       "       'major_discipline', 'experience', 'company_size', 'company_type',\n",
       "       'last_new_job', 'training_hours'],\n",
       "      dtype='object')"
      ]
     },
     "execution_count": 14,
     "metadata": {},
     "output_type": "execute_result"
    }
   ],
   "source": [
    "test.columns"
   ]
  },
  {
   "cell_type": "code",
   "execution_count": null,
   "metadata": {},
   "outputs": [],
   "source": [
    "# EDA"
   ]
  },
  {
   "cell_type": "code",
   "execution_count": 19,
   "metadata": {},
   "outputs": [
    {
     "data": {
      "image/png": "[encoded data removed]",
      "text/plain": [
       "<Figure size 1800x720 with 4 Axes>"
      ]
     },
     "metadata": {},
     "output_type": "display_data"
    },
    {
     "data": {
      "text/plain": [
       "<Figure size 432x288 with 0 Axes>"
      ]
     },
     "metadata": {},
     "output_type": "display_data"
    }
   ],
   "source": [
    "train.hist(figsize=(25,10))\n",
    "plt.show()\n",
    "plt.savefig(\"hr-hist.png\")"
   ]
  },
  {
   "cell_type": "code",
   "execution_count": null,
   "metadata": {},
   "outputs": [],
   "source": [
    "# Imputing values inplace of null"
   ]
  },
  {
   "cell_type": "code",
   "execution_count": 29,
   "metadata": {},
   "outputs": [
    {
     "data": {
      "image/png": "[encoded data removed]",
      "text/plain": [
       "<Figure size 432x288 with 1 Axes>"
      ]
     },
     "metadata": {},
     "output_type": "display_data"
    }
   ],
   "source": [
    "sns.countplot(train[\"gender\"])\n",
    "plt.savefig(\"hr-gender.png\")"
   ]
  },
  {
   "cell_type": "code",
   "execution_count": 21,
   "metadata": {},
   "outputs": [
    {
     "data": {
      "text/plain": [
       "Male      0.903443\n",
       "Female    0.083304\n",
       "Other     0.013253\n",
       "Name: gender, dtype: float64"
      ]
     },
     "execution_count": 21,
     "metadata": {},
     "output_type": "execute_result"
    }
   ],
   "source": [
    "train[\"gender\"].value_counts(normalize=True)"
   ]
  },
  {
   "cell_type": "code",
   "execution_count": null,
   "metadata": {},
   "outputs": [],
   "source": [
    "# Imputing mode "
   ]
  },
  {
   "cell_type": "code",
   "execution_count": 41,
   "metadata": {},
   "outputs": [],
   "source": [
    "train[\"gender\"]=train[\"gender\"].fillna(train[\"gender\"].value_counts().sort_values(ascending=False).index[0])"
   ]
  },
  {
   "cell_type": "code",
   "execution_count": null,
   "metadata": {},
   "outputs": [],
   "source": [
    "# enrolled_university"
   ]
  },
  {
   "cell_type": "code",
   "execution_count": 31,
   "metadata": {},
   "outputs": [
    {
     "data": {
      "image/png": "[encoded data removed]",
      "text/plain": [
       "<Figure size 432x288 with 1 Axes>"
      ]
     },
     "metadata": {},
     "output_type": "display_data"
    }
   ],
   "source": [
    "sns.countplot(train[\"enrolled_university\"])\n",
    "plt.savefig(\"hr-enrolled_university.png\")"
   ]
  },
  {
   "cell_type": "code",
   "execution_count": null,
   "metadata": {},
   "outputs": [],
   "source": [
    "# Imputing mode inplace of nan"
   ]
  },
  {
   "cell_type": "code",
   "execution_count": 42,
   "metadata": {},
   "outputs": [],
   "source": [
    "train[\"enrolled_university\"]=train[\"enrolled_university\"].fillna(train[\"enrolled_university\"].value_counts().sort_values(ascending=False).index[0])"
   ]
  },
  {
   "cell_type": "code",
   "execution_count": null,
   "metadata": {},
   "outputs": [],
   "source": [
    "# education_level"
   ]
  },
  {
   "cell_type": "code",
   "execution_count": 35,
   "metadata": {},
   "outputs": [
    {
     "data": {
      "text/plain": [
       "Graduate          10769\n",
       "Masters            4319\n",
       "High School        2032\n",
       "Phd                 459\n",
       "Primary School      323\n",
       "Name: education_level, dtype: int64"
      ]
     },
     "execution_count": 35,
     "metadata": {},
     "output_type": "execute_result"
    }
   ],
   "source": [
    "train[\"education_level\"].value_counts()"
   ]
  },
  {
   "cell_type": "code",
   "execution_count": 37,
   "metadata": {},
   "outputs": [
    {
     "data": {
      "image/png": "[encoded data removed]",
      "text/plain": [
       "<Figure size 432x288 with 1 Axes>"
      ]
     },
     "metadata": {},
     "output_type": "display_data"
    }
   ],
   "source": [
    "sns.countplot(train[\"education_level\"])\n",
    "plt.savefig(\"hr-edulevel.png\")"
   ]
  },
  {
   "cell_type": "code",
   "execution_count": 43,
   "metadata": {},
   "outputs": [],
   "source": [
    "train[\"education_level\"]=train[\"education_level\"].fillna(train[\"education_level\"].value_counts().sort_values(ascending=False).index[0])"
   ]
  },
  {
   "cell_type": "code",
   "execution_count": null,
   "metadata": {},
   "outputs": [],
   "source": [
    "# major_discipline"
   ]
  },
  {
   "cell_type": "code",
   "execution_count": 40,
   "metadata": {},
   "outputs": [
    {
     "data": {
      "image/png": "[encoded data removed]",
      "text/plain": [
       "<Figure size 432x288 with 1 Axes>"
      ]
     },
     "metadata": {},
     "output_type": "display_data"
    }
   ],
   "source": [
    "sns.countplot(train[\"major_discipline\"])\n",
    "plt.savefig(\"hr-discipline.png\")"
   ]
  },
  {
   "cell_type": "code",
   "execution_count": 44,
   "metadata": {},
   "outputs": [],
   "source": [
    "train[\"major_discipline\"]=train[\"major_discipline\"].fillna(train[\"major_discipline\"].value_counts().sort_values(ascending=False).index[0])"
   ]
  },
  {
   "cell_type": "code",
   "execution_count": null,
   "metadata": {},
   "outputs": [],
   "source": [
    "# experience"
   ]
  },
  {
   "cell_type": "code",
   "execution_count": 44,
   "metadata": {},
   "outputs": [
    {
     "data": {
      "image/png": "[encoded data removed]",
      "text/plain": [
       "<Figure size 1080x360 with 1 Axes>"
      ]
     },
     "metadata": {},
     "output_type": "display_data"
    }
   ],
   "source": [
    "plt.figure(figsize=(15,5))\n",
    "sns.countplot(train[\"experience\"])\n",
    "plt.savefig(\"hr-exp.png\")"
   ]
  },
  {
   "cell_type": "code",
   "execution_count": 45,
   "metadata": {},
   "outputs": [],
   "source": [
    "train[\"experience\"]=train[\"experience\"].fillna(train[\"experience\"].value_counts().sort_values(ascending=False).index[0])"
   ]
  },
  {
   "cell_type": "code",
   "execution_count": null,
   "metadata": {},
   "outputs": [],
   "source": [
    "# company_size"
   ]
  },
  {
   "cell_type": "code",
   "execution_count": 48,
   "metadata": {},
   "outputs": [
    {
     "data": {
      "image/png": "[encoded data removed]",
      "text/plain": [
       "<Figure size 1080x360 with 1 Axes>"
      ]
     },
     "metadata": {},
     "output_type": "display_data"
    }
   ],
   "source": [
    "plt.figure(figsize=(15,5))\n",
    "sns.countplot(train[\"company_size\"])\n",
    "plt.savefig(\"hr-cosize.png\")"
   ]
  },
  {
   "cell_type": "code",
   "execution_count": 46,
   "metadata": {},
   "outputs": [],
   "source": [
    "train[\"company_size\"]=train[\"company_size\"].fillna(train[\"company_size\"].value_counts().sort_values(ascending=False).index[0])"
   ]
  },
  {
   "cell_type": "code",
   "execution_count": null,
   "metadata": {},
   "outputs": [],
   "source": [
    "# company_type"
   ]
  },
  {
   "cell_type": "code",
   "execution_count": 55,
   "metadata": {},
   "outputs": [
    {
     "data": {
      "image/png": "[encoded data removed]",
      "text/plain": [
       "<Figure size 792x504 with 1 Axes>"
      ]
     },
     "metadata": {},
     "output_type": "display_data"
    }
   ],
   "source": [
    "plt.figure(figsize=(11,7))\n",
    "sns.countplot(train[\"company_type\"])\n",
    "plt.savefig(\"hr-cotype.png\")"
   ]
  },
  {
   "cell_type": "code",
   "execution_count": 47,
   "metadata": {},
   "outputs": [],
   "source": [
    "train[\"company_type\"]=train[\"company_type\"].fillna(train[\"company_type\"].value_counts().sort_values(ascending=False).index[0])"
   ]
  },
  {
   "cell_type": "code",
   "execution_count": null,
   "metadata": {},
   "outputs": [],
   "source": [
    "# last_new_job"
   ]
  },
  {
   "cell_type": "code",
   "execution_count": 57,
   "metadata": {},
   "outputs": [
    {
     "data": {
      "text/plain": [
       "<matplotlib.axes._subplots.AxesSubplot at 0x233ee546d30>"
      ]
     },
     "execution_count": 57,
     "metadata": {},
     "output_type": "execute_result"
    },
    {
     "data": {
      "image/png": "[encoded data removed]",
      "text/plain": [
       "<Figure size 432x288 with 1 Axes>"
      ]
     },
     "metadata": {},
     "output_type": "display_data"
    }
   ],
   "source": [
    "sns.countplot(train[\"last_new_job\"])"
   ]
  },
  {
   "cell_type": "code",
   "execution_count": 48,
   "metadata": {},
   "outputs": [],
   "source": [
    "train[\"last_new_job\"]=train[\"last_new_job\"].fillna(train[\"last_new_job\"].value_counts().sort_values(ascending=False).index[0])"
   ]
  },
  {
   "cell_type": "code",
   "execution_count": null,
   "metadata": {},
   "outputs": [],
   "source": [
    "# Till here we have seen the count of categorical variables and also imputted mode. So we have clean data with no null values"
   ]
  },
  {
   "cell_type": "code",
   "execution_count": null,
   "metadata": {},
   "outputs": [],
   "source": [
    "# Now we have to convert our categorical col into numeric"
   ]
  },
  {
   "cell_type": "code",
   "execution_count": 49,
   "metadata": {},
   "outputs": [
    {
     "data": {
      "text/plain": [
       "enrollee_id               0\n",
       "city                      0\n",
       "city_development_index    0\n",
       "gender                    0\n",
       "relevent_experience       0\n",
       "enrolled_university       0\n",
       "education_level           0\n",
       "major_discipline          0\n",
       "experience                0\n",
       "company_size              0\n",
       "company_type              0\n",
       "last_new_job              0\n",
       "training_hours            0\n",
       "target                    0\n",
       "dtype: int64"
      ]
     },
     "execution_count": 49,
     "metadata": {},
     "output_type": "execute_result"
    }
   ],
   "source": [
    "train.isna().sum()"
   ]
  },
  {
   "cell_type": "code",
   "execution_count": null,
   "metadata": {},
   "outputs": [],
   "source": [
    "# City"
   ]
  },
  {
   "cell_type": "code",
   "execution_count": 18,
   "metadata": {},
   "outputs": [
    {
     "data": {
      "text/plain": [
       "0    city_149\n",
       "1     city_83\n",
       "Name: city, dtype: object"
      ]
     },
     "execution_count": 18,
     "metadata": {},
     "output_type": "execute_result"
    }
   ],
   "source": [
    "train.city.head(2)"
   ]
  },
  {
   "cell_type": "code",
   "execution_count": null,
   "metadata": {},
   "outputs": [],
   "source": [
    "# we can see city are already coded in some form and also it can be said as nominal variable"
   ]
  },
  {
   "cell_type": "code",
   "execution_count": 50,
   "metadata": {},
   "outputs": [],
   "source": [
    "le=LabelEncoder()\n",
    "train[\"city\"]=le.fit_transform(train[\"city\"])"
   ]
  },
  {
   "cell_type": "code",
   "execution_count": null,
   "metadata": {},
   "outputs": [],
   "source": [
    "# Gender: ordinal variable"
   ]
  },
  {
   "cell_type": "code",
   "execution_count": 51,
   "metadata": {},
   "outputs": [],
   "source": [
    "gender=pd.get_dummies(train[\"gender\"],drop_first=True,prefix=\"gender\")"
   ]
  },
  {
   "cell_type": "code",
   "execution_count": 52,
   "metadata": {},
   "outputs": [],
   "source": [
    "train=pd.concat([train,gender],axis=1)"
   ]
  },
  {
   "cell_type": "code",
   "execution_count": 53,
   "metadata": {},
   "outputs": [],
   "source": [
    "del train[\"gender\"]"
   ]
  },
  {
   "cell_type": "code",
   "execution_count": null,
   "metadata": {},
   "outputs": [],
   "source": [
    "# relevent_experience: nominal"
   ]
  },
  {
   "cell_type": "code",
   "execution_count": 30,
   "metadata": {},
   "outputs": [
    {
     "data": {
      "text/plain": [
       "array(['Has relevent experience', 'No relevent experience'], dtype=object)"
      ]
     },
     "execution_count": 30,
     "metadata": {},
     "output_type": "execute_result"
    }
   ],
   "source": [
    "train[\"relevent_experience\"].unique()"
   ]
  },
  {
   "cell_type": "code",
   "execution_count": 54,
   "metadata": {},
   "outputs": [],
   "source": [
    "relevent_experience=pd.get_dummies(train[\"relevent_experience\"],drop_first=True,prefix=\"exp\")"
   ]
  },
  {
   "cell_type": "code",
   "execution_count": 55,
   "metadata": {},
   "outputs": [],
   "source": [
    "train=pd.concat([train,relevent_experience],axis=1)"
   ]
  },
  {
   "cell_type": "code",
   "execution_count": 56,
   "metadata": {},
   "outputs": [],
   "source": [
    "del train[\"relevent_experience\"]"
   ]
  },
  {
   "cell_type": "code",
   "execution_count": null,
   "metadata": {},
   "outputs": [],
   "source": [
    "# enrolled_university: ordinal"
   ]
  },
  {
   "cell_type": "code",
   "execution_count": 37,
   "metadata": {},
   "outputs": [
    {
     "data": {
      "text/plain": [
       "array(['no_enrollment', 'Full time course', 'Part time course'],\n",
       "      dtype=object)"
      ]
     },
     "execution_count": 37,
     "metadata": {},
     "output_type": "execute_result"
    }
   ],
   "source": [
    "train[\"enrolled_university\"].unique()"
   ]
  },
  {
   "cell_type": "code",
   "execution_count": 57,
   "metadata": {},
   "outputs": [],
   "source": [
    "enrolled = {\"no_enrollment\": 0, \"Part time course\": 1, \"Full time course\":2}\n",
    "train['enrolled_university'] = train['enrolled_university'].map(enrolled)"
   ]
  },
  {
   "cell_type": "code",
   "execution_count": 58,
   "metadata": {},
   "outputs": [],
   "source": [
    "# education_level: ordinal"
   ]
  },
  {
   "cell_type": "code",
   "execution_count": 39,
   "metadata": {},
   "outputs": [
    {
     "data": {
      "text/plain": [
       "array(['Graduate', 'Masters', 'High School', 'Phd', 'Primary School'],\n",
       "      dtype=object)"
      ]
     },
     "execution_count": 39,
     "metadata": {},
     "output_type": "execute_result"
    }
   ],
   "source": [
    "train[\"education_level\"].unique()"
   ]
  },
  {
   "cell_type": "code",
   "execution_count": 59,
   "metadata": {},
   "outputs": [],
   "source": [
    "edu = {\"Primary School\": 0, \"High School\": 1, \"Graduate\":2,\"Masters\":3, \"Phd\":4}\n",
    "train['education_level'] = train['education_level'].map(edu)"
   ]
  },
  {
   "cell_type": "code",
   "execution_count": null,
   "metadata": {},
   "outputs": [],
   "source": [
    "# major_discipline: nominal"
   ]
  },
  {
   "cell_type": "code",
   "execution_count": 41,
   "metadata": {},
   "outputs": [
    {
     "data": {
      "text/plain": [
       "array(['STEM', 'Other', 'No Major', 'Business Degree', 'Arts',\n",
       "       'Humanities'], dtype=object)"
      ]
     },
     "execution_count": 41,
     "metadata": {},
     "output_type": "execute_result"
    }
   ],
   "source": [
    "train[\"major_discipline\"].unique()"
   ]
  },
  {
   "cell_type": "code",
   "execution_count": 60,
   "metadata": {},
   "outputs": [],
   "source": [
    "major_discipline=pd.get_dummies(train[\"major_discipline\"],drop_first=True,prefix=\"disc\")"
   ]
  },
  {
   "cell_type": "code",
   "execution_count": 61,
   "metadata": {},
   "outputs": [],
   "source": [
    "train=pd.concat([train,major_discipline],axis=1)"
   ]
  },
  {
   "cell_type": "code",
   "execution_count": 62,
   "metadata": {},
   "outputs": [],
   "source": [
    "del train[\"major_discipline\"]"
   ]
  },
  {
   "cell_type": "code",
   "execution_count": null,
   "metadata": {},
   "outputs": [],
   "source": [
    "# experience: ordinal"
   ]
  },
  {
   "cell_type": "code",
   "execution_count": 48,
   "metadata": {},
   "outputs": [
    {
     "data": {
      "text/plain": [
       "array(['3', '14', '6', '8', '>20', '4', '9', '15', '10', '1', '5', '16',\n",
       "       '11', '12', '7', '2', '13', '<1', '19', '18', '17', '20'],\n",
       "      dtype=object)"
      ]
     },
     "execution_count": 48,
     "metadata": {},
     "output_type": "execute_result"
    }
   ],
   "source": [
    "train[\"experience\"].unique()"
   ]
  },
  {
   "cell_type": "code",
   "execution_count": 63,
   "metadata": {},
   "outputs": [],
   "source": [
    "exp = {\"<1\": 0, \"1\":1,\"2\": 2, \"3\":3,\"4\":4, \"5\":5,\"6\":6,\"7\":7,\"8\":8,\"9\":9,\"10\":10,\"11\":10,\"12\":12,\"13\":13,\"14\":14,\"15\":15,\"16\":16,\"17\":17,\"18\":18,\"19\":19,\"20\":20,\">20\":21}\n",
    "train['experience'] = train['experience'].map(exp)"
   ]
  },
  {
   "cell_type": "code",
   "execution_count": null,
   "metadata": {},
   "outputs": [],
   "source": [
    "# company_size:ordinal"
   ]
  },
  {
   "cell_type": "code",
   "execution_count": 50,
   "metadata": {},
   "outputs": [
    {
     "data": {
      "text/plain": [
       "array(['100-500', '<10', '50-99', '5000-9999', '10000+', '1000-4999',\n",
       "       '500-999', '10/49'], dtype=object)"
      ]
     },
     "execution_count": 50,
     "metadata": {},
     "output_type": "execute_result"
    }
   ],
   "source": [
    "train[\"company_size\"].unique()"
   ]
  },
  {
   "cell_type": "code",
   "execution_count": 64,
   "metadata": {},
   "outputs": [],
   "source": [
    "size = {\"<10\": 0, \"10/49\": 1, \"50-99\":2,\"100-500\":3, \"500-999\":4,\"1000-4999\":5,\"5000-9999\":6,\"10000+\":7}\n",
    "train['company_size'] = train['company_size'].map(size)"
   ]
  },
  {
   "cell_type": "code",
   "execution_count": null,
   "metadata": {},
   "outputs": [],
   "source": [
    "# company_type: nominal"
   ]
  },
  {
   "cell_type": "code",
   "execution_count": 52,
   "metadata": {},
   "outputs": [
    {
     "data": {
      "text/plain": [
       "array(['Pvt Ltd', 'Funded Startup', 'Public Sector',\n",
       "       'Early Stage Startup', 'NGO', 'Other'], dtype=object)"
      ]
     },
     "execution_count": 52,
     "metadata": {},
     "output_type": "execute_result"
    }
   ],
   "source": [
    "train[\"company_type\"].unique()"
   ]
  },
  {
   "cell_type": "code",
   "execution_count": 65,
   "metadata": {},
   "outputs": [],
   "source": [
    "company_type=pd.get_dummies(train[\"company_type\"],drop_first=True,prefix=\"type\")"
   ]
  },
  {
   "cell_type": "code",
   "execution_count": 66,
   "metadata": {},
   "outputs": [],
   "source": [
    "train=pd.concat([train,company_type],axis=1)"
   ]
  },
  {
   "cell_type": "code",
   "execution_count": 67,
   "metadata": {},
   "outputs": [],
   "source": [
    "del train[\"company_type\"]"
   ]
  },
  {
   "cell_type": "code",
   "execution_count": null,
   "metadata": {},
   "outputs": [],
   "source": [
    "# last_new_job: nominal"
   ]
  },
  {
   "cell_type": "code",
   "execution_count": 58,
   "metadata": {},
   "outputs": [
    {
     "data": {
      "text/plain": [
       "array(['1', '2', '3', '>4', 'never', '4'], dtype=object)"
      ]
     },
     "execution_count": 58,
     "metadata": {},
     "output_type": "execute_result"
    }
   ],
   "source": [
    "train[\"last_new_job\"].unique()"
   ]
  },
  {
   "cell_type": "code",
   "execution_count": 68,
   "metadata": {},
   "outputs": [],
   "source": [
    "last_new_job=pd.get_dummies(train[\"last_new_job\"],drop_first=True,prefix=\"job\")"
   ]
  },
  {
   "cell_type": "code",
   "execution_count": 69,
   "metadata": {},
   "outputs": [],
   "source": [
    "train=pd.concat([train,last_new_job],axis=1)"
   ]
  },
  {
   "cell_type": "code",
   "execution_count": 70,
   "metadata": {},
   "outputs": [],
   "source": [
    "del train[\"last_new_job\"]"
   ]
  },
  {
   "cell_type": "code",
   "execution_count": null,
   "metadata": {},
   "outputs": [],
   "source": [
    "# Till now we have processed training dataset, lets have a look to the datatset"
   ]
  },
  {
   "cell_type": "code",
   "execution_count": 109,
   "metadata": {},
   "outputs": [
    {
     "data": {
      "text/html": [
       "<div>\n",
       "<style scoped>\n",
       "    .dataframe tbody tr th:only-of-type {\n",
       "        vertical-align: middle;\n",
       "    }\n",
       "\n",
       "    .dataframe tbody tr th {\n",
       "        vertical-align: top;\n",
       "    }\n",
       "\n",
       "    .dataframe thead th {\n",
       "        text-align: right;\n",
       "    }\n",
       "</style>\n",
       "<table border=\"1\" class=\"dataframe\">\n",
       "  <thead>\n",
       "    <tr style=\"text-align: right;\">\n",
       "      <th></th>\n",
       "      <th>enrollee_id</th>\n",
       "      <th>city</th>\n",
       "      <th>city_development_index</th>\n",
       "      <th>enrolled_university</th>\n",
       "      <th>education_level</th>\n",
       "      <th>experience</th>\n",
       "      <th>company_size</th>\n",
       "      <th>training_hours</th>\n",
       "      <th>target</th>\n",
       "      <th>Male</th>\n",
       "      <th>...</th>\n",
       "      <th>Funded Startup</th>\n",
       "      <th>NGO</th>\n",
       "      <th>Other</th>\n",
       "      <th>Public Sector</th>\n",
       "      <th>Pvt Ltd</th>\n",
       "      <th>job_2</th>\n",
       "      <th>job_3</th>\n",
       "      <th>job_4</th>\n",
       "      <th>job_&gt;4</th>\n",
       "      <th>job_never</th>\n",
       "    </tr>\n",
       "  </thead>\n",
       "  <tbody>\n",
       "    <tr>\n",
       "      <th>0</th>\n",
       "      <td>23798</td>\n",
       "      <td>41</td>\n",
       "      <td>0.689</td>\n",
       "      <td>0</td>\n",
       "      <td>2</td>\n",
       "      <td>2.0</td>\n",
       "      <td>3</td>\n",
       "      <td>106</td>\n",
       "      <td>0</td>\n",
       "      <td>1</td>\n",
       "      <td>...</td>\n",
       "      <td>0</td>\n",
       "      <td>0</td>\n",
       "      <td>0</td>\n",
       "      <td>0</td>\n",
       "      <td>1</td>\n",
       "      <td>0</td>\n",
       "      <td>0</td>\n",
       "      <td>0</td>\n",
       "      <td>0</td>\n",
       "      <td>0</td>\n",
       "    </tr>\n",
       "    <tr>\n",
       "      <th>1</th>\n",
       "      <td>29166</td>\n",
       "      <td>112</td>\n",
       "      <td>0.923</td>\n",
       "      <td>0</td>\n",
       "      <td>2</td>\n",
       "      <td>13.0</td>\n",
       "      <td>0</td>\n",
       "      <td>69</td>\n",
       "      <td>0</td>\n",
       "      <td>1</td>\n",
       "      <td>...</td>\n",
       "      <td>1</td>\n",
       "      <td>0</td>\n",
       "      <td>0</td>\n",
       "      <td>0</td>\n",
       "      <td>0</td>\n",
       "      <td>0</td>\n",
       "      <td>0</td>\n",
       "      <td>0</td>\n",
       "      <td>0</td>\n",
       "      <td>0</td>\n",
       "    </tr>\n",
       "    <tr>\n",
       "      <th>2</th>\n",
       "      <td>46</td>\n",
       "      <td>48</td>\n",
       "      <td>0.910</td>\n",
       "      <td>0</td>\n",
       "      <td>2</td>\n",
       "      <td>5.0</td>\n",
       "      <td>2</td>\n",
       "      <td>4</td>\n",
       "      <td>0</td>\n",
       "      <td>1</td>\n",
       "      <td>...</td>\n",
       "      <td>0</td>\n",
       "      <td>0</td>\n",
       "      <td>0</td>\n",
       "      <td>1</td>\n",
       "      <td>0</td>\n",
       "      <td>1</td>\n",
       "      <td>0</td>\n",
       "      <td>0</td>\n",
       "      <td>0</td>\n",
       "      <td>0</td>\n",
       "    </tr>\n",
       "  </tbody>\n",
       "</table>\n",
       "<p>3 rows × 27 columns</p>\n",
       "</div>"
      ],
      "text/plain": [
       "   enrollee_id  city  city_development_index  enrolled_university  \\\n",
       "0        23798    41                   0.689                    0   \n",
       "1        29166   112                   0.923                    0   \n",
       "2           46    48                   0.910                    0   \n",
       "\n",
       "   education_level  experience  company_size  training_hours  target  Male  \\\n",
       "0                2         2.0             3             106       0     1   \n",
       "1                2        13.0             0              69       0     1   \n",
       "2                2         5.0             2               4       0     1   \n",
       "\n",
       "   ...  Funded Startup  NGO  Other  Public Sector  Pvt Ltd  job_2  job_3  \\\n",
       "0  ...               0    0      0              0        1      0      0   \n",
       "1  ...               1    0      0              0        0      0      0   \n",
       "2  ...               0    0      0              1        0      1      0   \n",
       "\n",
       "   job_4  job_>4  job_never  \n",
       "0      0       0          0  \n",
       "1      0       0          0  \n",
       "2      0       0          0  \n",
       "\n",
       "[3 rows x 27 columns]"
      ]
     },
     "execution_count": 109,
     "metadata": {},
     "output_type": "execute_result"
    }
   ],
   "source": [
    "train.head(3)"
   ]
  },
  {
   "cell_type": "code",
   "execution_count": 71,
   "metadata": {},
   "outputs": [
    {
     "data": {
      "text/plain": [
       "enrollee_id                   0\n",
       "city                          0\n",
       "city_development_index        0\n",
       "enrolled_university           0\n",
       "education_level               0\n",
       "experience                    0\n",
       "company_size                  0\n",
       "training_hours                0\n",
       "target                        0\n",
       "gender_Male                   0\n",
       "gender_Other                  0\n",
       "exp_No relevent experience    0\n",
       "disc_Business Degree          0\n",
       "disc_Humanities               0\n",
       "disc_No Major                 0\n",
       "disc_Other                    0\n",
       "disc_STEM                     0\n",
       "type_Funded Startup           0\n",
       "type_NGO                      0\n",
       "type_Other                    0\n",
       "type_Public Sector            0\n",
       "type_Pvt Ltd                  0\n",
       "job_2                         0\n",
       "job_3                         0\n",
       "job_4                         0\n",
       "job_>4                        0\n",
       "job_never                     0\n",
       "dtype: int64"
      ]
     },
     "execution_count": 71,
     "metadata": {},
     "output_type": "execute_result"
    }
   ],
   "source": [
    "train.isna().sum()"
   ]
  },
  {
   "cell_type": "code",
   "execution_count": null,
   "metadata": {},
   "outputs": [],
   "source": [
    "# Lets process test dataset in the same manner"
   ]
  },
  {
   "cell_type": "code",
   "execution_count": null,
   "metadata": {},
   "outputs": [],
   "source": [
    "# Imputing mode for categorical variables"
   ]
  },
  {
   "cell_type": "code",
   "execution_count": 72,
   "metadata": {},
   "outputs": [],
   "source": [
    "test[\"gender\"]=test[\"gender\"].fillna(test[\"gender\"].value_counts().sort_values(ascending=False).index[0])\n",
    "test[\"enrolled_university\"]=test[\"enrolled_university\"].fillna(test[\"enrolled_university\"].value_counts().sort_values(ascending=False).index[0])\n",
    "test[\"education_level\"]=test[\"education_level\"].fillna(test[\"education_level\"].value_counts().sort_values(ascending=False).index[0])\n",
    "test[\"major_discipline\"]=test[\"major_discipline\"].fillna(test[\"major_discipline\"].value_counts().sort_values(ascending=False).index[0])\n",
    "test[\"experience\"]=test[\"experience\"].fillna(test[\"experience\"].value_counts().sort_values(ascending=False).index[0])\n",
    "test[\"company_size\"]=test[\"company_size\"].fillna(test[\"company_size\"].value_counts().sort_values(ascending=False).index[0])\n",
    "test[\"company_type\"]=test[\"company_type\"].fillna(test[\"company_type\"].value_counts().sort_values(ascending=False).index[0])\n",
    "test[\"last_new_job\"]=test[\"last_new_job\"].fillna(test[\"last_new_job\"].value_counts().sort_values(ascending=False).index[0])"
   ]
  },
  {
   "cell_type": "code",
   "execution_count": null,
   "metadata": {},
   "outputs": [],
   "source": [
    "# Processing data"
   ]
  },
  {
   "cell_type": "code",
   "execution_count": 73,
   "metadata": {},
   "outputs": [],
   "source": [
    "le=LabelEncoder()\n",
    "test[\"city\"]=le.fit_transform(test[\"city\"])\n",
    "gender=pd.get_dummies(test[\"gender\"],drop_first=True,prefix=\"gender\")\n",
    "test=pd.concat([test,gender],axis=1)\n",
    "del test[\"gender\"]\n",
    "relevent_experience=pd.get_dummies(test[\"relevent_experience\"],drop_first=True,prefix=\"exp\")\n",
    "test=pd.concat([test,relevent_experience],axis=1)\n",
    "del test[\"relevent_experience\"]\n",
    "enrolled = {\"no_enrollment\": 0, \"Part time course\": 1, \"Full time course\":2}\n",
    "test['enrolled_university'] = test['enrolled_university'].map(enrolled)\n",
    "edu = {\"Primary School\": 0, \"High School\": 1, \"Graduate\":2,\"Masters\":3, \"Phd\":4}\n",
    "test['education_level'] = test['education_level'].map(edu)\n",
    "major_discipline=pd.get_dummies(test[\"major_discipline\"],drop_first=True,prefix=\"disc\")\n",
    "test=pd.concat([test,major_discipline],axis=1)\n",
    "del test[\"major_discipline\"]\n",
    "exp = {\"<1\": 0, \"1\":1,\"2\": 2, \"3\":3,\"4\":4, \"5\":5,\"6\":6,\"7\":7,\"8\":8,\"9\":9,\"10\":10,\"11\":10,\"12\":12,\"13\":13,\"14\":14,\"15\":15,\"16\":16,\"17\":17,\"18\":18,\"19\":19,\"20\":20,\">20\":21}\n",
    "test['experience'] = test['experience'].map(exp)\n",
    "size = {\"<10\": 0, \"10/49\": 1, \"50-99\":2,\"100-500\":3, \"500-999\":4,\"1000-4999\":5,\"5000-9999\":6,\"10000+\":7}\n",
    "test['company_size'] = test['company_size'].map(size)\n",
    "company_type=pd.get_dummies(test[\"company_type\"],drop_first=True,prefix=\"type\")\n",
    "test=pd.concat([test,company_type],axis=1)\n",
    "del test[\"company_type\"]\n",
    "last_new_job=pd.get_dummies(test[\"last_new_job\"],drop_first=True,prefix=\"job\")\n",
    "test=pd.concat([test,last_new_job],axis=1)\n",
    "del test[\"last_new_job\"]"
   ]
  },
  {
   "cell_type": "code",
   "execution_count": null,
   "metadata": {},
   "outputs": [],
   "source": [
    "# Lets see test dataset"
   ]
  },
  {
   "cell_type": "code",
   "execution_count": 74,
   "metadata": {},
   "outputs": [
    {
     "data": {
      "text/plain": [
       "enrollee_id                   0\n",
       "city                          0\n",
       "city_development_index        0\n",
       "enrolled_university           0\n",
       "education_level               0\n",
       "experience                    0\n",
       "company_size                  0\n",
       "training_hours                0\n",
       "gender_Male                   0\n",
       "gender_Other                  0\n",
       "exp_No relevent experience    0\n",
       "disc_Business Degree          0\n",
       "disc_Humanities               0\n",
       "disc_No Major                 0\n",
       "disc_Other                    0\n",
       "disc_STEM                     0\n",
       "type_Funded Startup           0\n",
       "type_NGO                      0\n",
       "type_Other                    0\n",
       "type_Public Sector            0\n",
       "type_Pvt Ltd                  0\n",
       "job_2                         0\n",
       "job_3                         0\n",
       "job_4                         0\n",
       "job_>4                        0\n",
       "job_never                     0\n",
       "dtype: int64"
      ]
     },
     "execution_count": 74,
     "metadata": {},
     "output_type": "execute_result"
    }
   ],
   "source": [
    "test.isna().sum()"
   ]
  },
  {
   "cell_type": "code",
   "execution_count": 112,
   "metadata": {},
   "outputs": [
    {
     "data": {
      "text/html": [
       "<div>\n",
       "<style scoped>\n",
       "    .dataframe tbody tr th:only-of-type {\n",
       "        vertical-align: middle;\n",
       "    }\n",
       "\n",
       "    .dataframe tbody tr th {\n",
       "        vertical-align: top;\n",
       "    }\n",
       "\n",
       "    .dataframe thead th {\n",
       "        text-align: right;\n",
       "    }\n",
       "</style>\n",
       "<table border=\"1\" class=\"dataframe\">\n",
       "  <thead>\n",
       "    <tr style=\"text-align: right;\">\n",
       "      <th></th>\n",
       "      <th>enrollee_id</th>\n",
       "      <th>city</th>\n",
       "      <th>city_development_index</th>\n",
       "      <th>enrolled_university</th>\n",
       "      <th>education_level</th>\n",
       "      <th>experience</th>\n",
       "      <th>company_size</th>\n",
       "      <th>training_hours</th>\n",
       "      <th>Male</th>\n",
       "      <th>Other</th>\n",
       "      <th>...</th>\n",
       "      <th>Funded Startup</th>\n",
       "      <th>NGO</th>\n",
       "      <th>Other</th>\n",
       "      <th>Public Sector</th>\n",
       "      <th>Pvt Ltd</th>\n",
       "      <th>job_2</th>\n",
       "      <th>job_3</th>\n",
       "      <th>job_4</th>\n",
       "      <th>job_&gt;4</th>\n",
       "      <th>job_never</th>\n",
       "    </tr>\n",
       "  </thead>\n",
       "  <tbody>\n",
       "    <tr>\n",
       "      <th>0</th>\n",
       "      <td>16548</td>\n",
       "      <td>73</td>\n",
       "      <td>0.448</td>\n",
       "      <td>2</td>\n",
       "      <td>2</td>\n",
       "      <td>0.0</td>\n",
       "      <td>5</td>\n",
       "      <td>15</td>\n",
       "      <td>1</td>\n",
       "      <td>0</td>\n",
       "      <td>...</td>\n",
       "      <td>0</td>\n",
       "      <td>0</td>\n",
       "      <td>0</td>\n",
       "      <td>1</td>\n",
       "      <td>0</td>\n",
       "      <td>0</td>\n",
       "      <td>0</td>\n",
       "      <td>0</td>\n",
       "      <td>0</td>\n",
       "      <td>0</td>\n",
       "    </tr>\n",
       "    <tr>\n",
       "      <th>1</th>\n",
       "      <td>12036</td>\n",
       "      <td>70</td>\n",
       "      <td>0.939</td>\n",
       "      <td>0</td>\n",
       "      <td>2</td>\n",
       "      <td>20.0</td>\n",
       "      <td>2</td>\n",
       "      <td>94</td>\n",
       "      <td>1</td>\n",
       "      <td>0</td>\n",
       "      <td>...</td>\n",
       "      <td>0</td>\n",
       "      <td>0</td>\n",
       "      <td>0</td>\n",
       "      <td>0</td>\n",
       "      <td>1</td>\n",
       "      <td>0</td>\n",
       "      <td>0</td>\n",
       "      <td>0</td>\n",
       "      <td>0</td>\n",
       "      <td>0</td>\n",
       "    </tr>\n",
       "    <tr>\n",
       "      <th>2</th>\n",
       "      <td>11061</td>\n",
       "      <td>5</td>\n",
       "      <td>0.920</td>\n",
       "      <td>2</td>\n",
       "      <td>2</td>\n",
       "      <td>2.0</td>\n",
       "      <td>2</td>\n",
       "      <td>17</td>\n",
       "      <td>1</td>\n",
       "      <td>0</td>\n",
       "      <td>...</td>\n",
       "      <td>0</td>\n",
       "      <td>0</td>\n",
       "      <td>0</td>\n",
       "      <td>0</td>\n",
       "      <td>1</td>\n",
       "      <td>0</td>\n",
       "      <td>0</td>\n",
       "      <td>0</td>\n",
       "      <td>0</td>\n",
       "      <td>0</td>\n",
       "    </tr>\n",
       "  </tbody>\n",
       "</table>\n",
       "<p>3 rows × 26 columns</p>\n",
       "</div>"
      ],
      "text/plain": [
       "   enrollee_id  city  city_development_index  enrolled_university  \\\n",
       "0        16548    73                   0.448                    2   \n",
       "1        12036    70                   0.939                    0   \n",
       "2        11061     5                   0.920                    2   \n",
       "\n",
       "   education_level  experience  company_size  training_hours  Male  Other  \\\n",
       "0                2         0.0             5              15     1      0   \n",
       "1                2        20.0             2              94     1      0   \n",
       "2                2         2.0             2              17     1      0   \n",
       "\n",
       "   ...  Funded Startup  NGO  Other  Public Sector  Pvt Ltd  job_2  job_3  \\\n",
       "0  ...               0    0      0              1        0      0      0   \n",
       "1  ...               0    0      0              0        1      0      0   \n",
       "2  ...               0    0      0              0        1      0      0   \n",
       "\n",
       "   job_4  job_>4  job_never  \n",
       "0      0       0          0  \n",
       "1      0       0          0  \n",
       "2      0       0          0  \n",
       "\n",
       "[3 rows x 26 columns]"
      ]
     },
     "execution_count": 112,
     "metadata": {},
     "output_type": "execute_result"
    }
   ],
   "source": [
    "test.head(3)"
   ]
  },
  {
   "cell_type": "code",
   "execution_count": null,
   "metadata": {},
   "outputs": [],
   "source": [
    "# Dropping emp id as it serves no purpose in predicting"
   ]
  },
  {
   "cell_type": "code",
   "execution_count": 75,
   "metadata": {},
   "outputs": [],
   "source": [
    "del train[\"enrollee_id\"]\n",
    "del test[\"enrollee_id\"]"
   ]
  },
  {
   "cell_type": "code",
   "execution_count": null,
   "metadata": {},
   "outputs": [],
   "source": [
    "# Lets split training dataset into dependent and independent dataset"
   ]
  },
  {
   "cell_type": "code",
   "execution_count": 76,
   "metadata": {},
   "outputs": [],
   "source": [
    "y=train[\"target\"]\n",
    "x=train.drop(\"target\",axis=1)"
   ]
  },
  {
   "cell_type": "code",
   "execution_count": null,
   "metadata": {},
   "outputs": [],
   "source": [
    "# splitting the dataset using train test split"
   ]
  },
  {
   "cell_type": "code",
   "execution_count": 77,
   "metadata": {},
   "outputs": [],
   "source": [
    "x_train,x_test,y_train,y_test=train_test_split(x,y,test_size=0.3,random_state=0)"
   ]
  },
  {
   "cell_type": "code",
   "execution_count": null,
   "metadata": {},
   "outputs": [],
   "source": [
    "# Printing the shape of splitted dataset"
   ]
  },
  {
   "cell_type": "code",
   "execution_count": 78,
   "metadata": {},
   "outputs": [
    {
     "name": "stdout",
     "output_type": "stream",
     "text": [
      "shape of x_train: (12851, 25)\n",
      "shape of y_train: (12851,)\n",
      "shape of x_test: (5508, 25)\n",
      "shape of y_test: (5508,)\n"
     ]
    }
   ],
   "source": [
    "print(\"shape of x_train:\",x_train.shape)\n",
    "print(\"shape of y_train:\",y_train.shape)\n",
    "print(\"shape of x_test:\",x_test.shape)\n",
    "print(\"shape of y_test:\",y_test.shape)"
   ]
  },
  {
   "cell_type": "code",
   "execution_count": null,
   "metadata": {},
   "outputs": [],
   "source": [
    "# Applying machine learning algorithm on train dataset"
   ]
  },
  {
   "cell_type": "code",
   "execution_count": null,
   "metadata": {},
   "outputs": [],
   "source": [
    "# Extra trees classifier"
   ]
  },
  {
   "cell_type": "code",
   "execution_count": 79,
   "metadata": {},
   "outputs": [],
   "source": [
    "etc=ExtraTreesClassifier(n_estimators=100)\n",
    "etc.fit(x_train,y_train)\n",
    "prediction=etc.predict(x_test)"
   ]
  },
  {
   "cell_type": "code",
   "execution_count": 80,
   "metadata": {},
   "outputs": [
    {
     "name": "stdout",
     "output_type": "stream",
     "text": [
      "accuracy score is 0.8413217138707335\n",
      "Kappa is : 0.03977193847508975\n",
      "Sensitiviy is : 0.06200527704485488\n",
      "Precision is : 0.22380952380952382\n",
      "R2 score is: -0.33703430079155683\n",
      "Area under curve is  :0.5138447437855854\n",
      "[[4587  163]\n",
      " [ 711   47]]\n",
      "              precision    recall  f1-score   support\n",
      "\n",
      "           0       0.87      0.97      0.91      4750\n",
      "           1       0.22      0.06      0.10       758\n",
      "\n",
      "    accuracy                           0.84      5508\n",
      "   macro avg       0.54      0.51      0.51      5508\n",
      "weighted avg       0.78      0.84      0.80      5508\n",
      "\n"
     ]
    }
   ],
   "source": [
    "print(\"accuracy score is {}\".format(accuracy_score(y_test,prediction)))\n",
    "print(\"Kappa is :\",cohen_kappa_score(y_test,prediction))\n",
    "print(\"Sensitiviy is :\",recall_score(y_test, prediction))\n",
    "print(\"Precision is :\",precision_score(y_test, prediction))\n",
    "print(\"R2 score is:\",r2_score(y_test,prediction))\n",
    "fpr, tpr, thresholds = roc_curve(y_test,prediction)\n",
    "print(\"Area under curve is  :{}\".format(auc(fpr,tpr)))\n",
    "print(confusion_matrix(y_test, prediction))\n",
    "print(classification_report(y_test, prediction))"
   ]
  },
  {
   "cell_type": "code",
   "execution_count": null,
   "metadata": {},
   "outputs": [],
   "source": [
    "# Bagging classifier"
   ]
  },
  {
   "cell_type": "code",
   "execution_count": 81,
   "metadata": {},
   "outputs": [],
   "source": [
    "bc=BaggingClassifier()\n",
    "bc.fit(x_train,y_train)\n",
    "prediction=bc.predict(x_test)"
   ]
  },
  {
   "cell_type": "code",
   "execution_count": 82,
   "metadata": {},
   "outputs": [
    {
     "name": "stdout",
     "output_type": "stream",
     "text": [
      "accuracy score is 0.8418663761801016\n",
      "Kappa is : 0.03150012597143359\n",
      "Sensitiviy is : 0.05408970976253298\n",
      "Precision is : 0.21025641025641026\n",
      "R2 score is: -0.33244493820302745\n",
      "Area under curve is  :0.5108343285654771\n",
      "[[4596  154]\n",
      " [ 717   41]]\n",
      "              precision    recall  f1-score   support\n",
      "\n",
      "           0       0.87      0.97      0.91      4750\n",
      "           1       0.21      0.05      0.09       758\n",
      "\n",
      "    accuracy                           0.84      5508\n",
      "   macro avg       0.54      0.51      0.50      5508\n",
      "weighted avg       0.77      0.84      0.80      5508\n",
      "\n"
     ]
    }
   ],
   "source": [
    "print(\"accuracy score is {}\".format(accuracy_score(y_test,prediction)))\n",
    "print(\"Kappa is :\",cohen_kappa_score(y_test,prediction))\n",
    "print(\"Sensitiviy is :\",recall_score(y_test, prediction))\n",
    "print(\"Precision is :\",precision_score(y_test, prediction))\n",
    "print(\"R2 score is:\",r2_score(y_test,prediction))\n",
    "fpr, tpr, thresholds = roc_curve(y_test,prediction)\n",
    "print(\"Area under curve is  :{}\".format(auc(fpr,tpr)))\n",
    "print(confusion_matrix(y_test, prediction))\n",
    "print(classification_report(y_test, prediction))"
   ]
  },
  {
   "cell_type": "code",
   "execution_count": null,
   "metadata": {},
   "outputs": [],
   "source": [
    "# KNN"
   ]
  },
  {
   "cell_type": "code",
   "execution_count": 83,
   "metadata": {},
   "outputs": [],
   "source": [
    "knn=KNeighborsClassifier()\n",
    "knn.fit(x_train,y_train)\n",
    "prediction=knn.predict(x_test)"
   ]
  },
  {
   "cell_type": "code",
   "execution_count": 84,
   "metadata": {},
   "outputs": [
    {
     "name": "stdout",
     "output_type": "stream",
     "text": [
      "accuracy score is 0.8462236746550472\n",
      "Kappa is : 0.01533579178781641\n",
      "Sensitiviy is : 0.03430079155672823\n",
      "Precision is : 0.18439716312056736\n",
      "R2 score is: -0.29573003749479243\n",
      "Area under curve is  :0.5050451326204694\n",
      "[[4635  115]\n",
      " [ 732   26]]\n",
      "              precision    recall  f1-score   support\n",
      "\n",
      "           0       0.86      0.98      0.92      4750\n",
      "           1       0.18      0.03      0.06       758\n",
      "\n",
      "    accuracy                           0.85      5508\n",
      "   macro avg       0.52      0.51      0.49      5508\n",
      "weighted avg       0.77      0.85      0.80      5508\n",
      "\n"
     ]
    }
   ],
   "source": [
    "print(\"accuracy score is {}\".format(accuracy_score(y_test,prediction)))\n",
    "print(\"Kappa is :\",cohen_kappa_score(y_test,prediction))\n",
    "print(\"Sensitiviy is :\",recall_score(y_test, prediction))\n",
    "print(\"Precision is :\",precision_score(y_test, prediction))\n",
    "print(\"R2 score is:\",r2_score(y_test,prediction))\n",
    "fpr, tpr, thresholds = roc_curve(y_test,prediction)\n",
    "print(\"Area under curve is  :{}\".format(auc(fpr,tpr)))\n",
    "print(confusion_matrix(y_test, prediction))\n",
    "print(classification_report(y_test, prediction))"
   ]
  },
  {
   "cell_type": "code",
   "execution_count": null,
   "metadata": {},
   "outputs": [],
   "source": [
    "# Random forest"
   ]
  },
  {
   "cell_type": "code",
   "execution_count": 85,
   "metadata": {},
   "outputs": [],
   "source": [
    "rf=RandomForestClassifier(n_estimators=100)\n",
    "rf.fit(x_train,y_train)\n",
    "prediction=rf.predict(x_test)"
   ]
  },
  {
   "cell_type": "code",
   "execution_count": 86,
   "metadata": {},
   "outputs": [
    {
     "name": "stdout",
     "output_type": "stream",
     "text": [
      "accuracy score is 0.8554829339143064\n",
      "Kappa is : 0.031370019176556796\n",
      "Sensitiviy is : 0.032981530343007916\n",
      "Precision is : 0.2840909090909091\n",
      "R2 score is: -0.217710873489793\n",
      "Area under curve is  :0.5098591862241355\n",
      "[[4687   63]\n",
      " [ 733   25]]\n",
      "              precision    recall  f1-score   support\n",
      "\n",
      "           0       0.86      0.99      0.92      4750\n",
      "           1       0.28      0.03      0.06       758\n",
      "\n",
      "    accuracy                           0.86      5508\n",
      "   macro avg       0.57      0.51      0.49      5508\n",
      "weighted avg       0.78      0.86      0.80      5508\n",
      "\n"
     ]
    }
   ],
   "source": [
    "print(\"accuracy score is {}\".format(accuracy_score(y_test,prediction)))\n",
    "print(\"Kappa is :\",cohen_kappa_score(y_test,prediction))\n",
    "print(\"Sensitiviy is :\",recall_score(y_test, prediction))\n",
    "print(\"Precision is :\",precision_score(y_test, prediction))\n",
    "print(\"R2 score is:\",r2_score(y_test,prediction))\n",
    "fpr, tpr, thresholds = roc_curve(y_test,prediction)\n",
    "print(\"Area under curve is  :{}\".format(auc(fpr,tpr)))\n",
    "print(confusion_matrix(y_test, prediction))\n",
    "print(classification_report(y_test, prediction))"
   ]
  },
  {
   "cell_type": "code",
   "execution_count": null,
   "metadata": {},
   "outputs": [],
   "source": [
    "# Decision tree"
   ]
  },
  {
   "cell_type": "code",
   "execution_count": 87,
   "metadata": {},
   "outputs": [],
   "source": [
    "dt=DecisionTreeClassifier(criterion=\"entropy\",max_depth=20)\n",
    "dt.fit(x_train,y_train)\n",
    "prediction=dt.predict(x_test)"
   ]
  },
  {
   "cell_type": "code",
   "execution_count": 88,
   "metadata": {},
   "outputs": [
    {
     "name": "stdout",
     "output_type": "stream",
     "text": [
      "accuracy score is 0.8062817719680465\n",
      "Kappa is : 0.05071665042810358\n",
      "Sensitiviy is : 0.12928759894459102\n",
      "Precision is : 0.19405940594059407\n",
      "R2 score is: -0.6322832939869463\n",
      "Area under curve is  :0.5218016942091377\n",
      "[[4343  407]\n",
      " [ 660   98]]\n",
      "              precision    recall  f1-score   support\n",
      "\n",
      "           0       0.87      0.91      0.89      4750\n",
      "           1       0.19      0.13      0.16       758\n",
      "\n",
      "    accuracy                           0.81      5508\n",
      "   macro avg       0.53      0.52      0.52      5508\n",
      "weighted avg       0.78      0.81      0.79      5508\n",
      "\n"
     ]
    }
   ],
   "source": [
    "print(\"accuracy score is {}\".format(accuracy_score(y_test,prediction)))\n",
    "print(\"Kappa is :\",cohen_kappa_score(y_test,prediction))\n",
    "print(\"Sensitiviy is :\",recall_score(y_test, prediction))\n",
    "print(\"Precision is :\",precision_score(y_test, prediction))\n",
    "print(\"R2 score is:\",r2_score(y_test,prediction))\n",
    "fpr, tpr, thresholds = roc_curve(y_test,prediction)\n",
    "print(\"Area under curve is  :{}\".format(auc(fpr,tpr)))\n",
    "print(confusion_matrix(y_test, prediction))\n",
    "print(classification_report(y_test, prediction))"
   ]
  },
  {
   "cell_type": "code",
   "execution_count": 90,
   "metadata": {},
   "outputs": [],
   "source": [
    "import catboost as cb"
   ]
  },
  {
   "cell_type": "code",
   "execution_count": 91,
   "metadata": {},
   "outputs": [
    {
     "name": "stdout",
     "output_type": "stream",
     "text": [
      "Learning rate set to 0.030651\n",
      "0:\tlearn: 0.6716005\ttotal: 251ms\tremaining: 4m 10s\n",
      "1:\tlearn: 0.6506742\ttotal: 271ms\tremaining: 2m 15s\n",
      "2:\tlearn: 0.6312110\ttotal: 292ms\tremaining: 1m 37s\n",
      "3:\tlearn: 0.6131207\ttotal: 308ms\tremaining: 1m 16s\n",
      "4:\tlearn: 0.5965853\ttotal: 328ms\tremaining: 1m 5s\n",
      "5:\tlearn: 0.5812840\ttotal: 348ms\tremaining: 57.6s\n",
      "6:\tlearn: 0.5668086\ttotal: 365ms\tremaining: 51.8s\n",
      "7:\tlearn: 0.5534360\ttotal: 386ms\tremaining: 47.8s\n",
      "8:\tlearn: 0.5412862\ttotal: 400ms\tremaining: 44s\n",
      "9:\tlearn: 0.5301013\ttotal: 419ms\tremaining: 41.5s\n",
      "10:\tlearn: 0.5194291\ttotal: 437ms\tremaining: 39.3s\n",
      "11:\tlearn: 0.5091748\ttotal: 451ms\tremaining: 37.2s\n",
      "12:\tlearn: 0.4997885\ttotal: 463ms\tremaining: 35.1s\n",
      "13:\tlearn: 0.4915654\ttotal: 469ms\tremaining: 33s\n",
      "14:\tlearn: 0.4833456\ttotal: 479ms\tremaining: 31.4s\n",
      "15:\tlearn: 0.4758713\ttotal: 498ms\tremaining: 30.6s\n",
      "16:\tlearn: 0.4690289\ttotal: 516ms\tremaining: 29.8s\n",
      "17:\tlearn: 0.4629474\ttotal: 541ms\tremaining: 29.5s\n",
      "18:\tlearn: 0.4572027\ttotal: 558ms\tremaining: 28.8s\n",
      "19:\tlearn: 0.4516242\ttotal: 577ms\tremaining: 28.3s\n",
      "20:\tlearn: 0.4466241\ttotal: 589ms\tremaining: 27.5s\n",
      "21:\tlearn: 0.4415600\ttotal: 602ms\tremaining: 26.7s\n",
      "22:\tlearn: 0.4371372\ttotal: 611ms\tremaining: 26s\n",
      "23:\tlearn: 0.4328007\ttotal: 621ms\tremaining: 25.3s\n",
      "24:\tlearn: 0.4289528\ttotal: 640ms\tremaining: 25s\n",
      "25:\tlearn: 0.4250327\ttotal: 653ms\tremaining: 24.5s\n",
      "26:\tlearn: 0.4214782\ttotal: 663ms\tremaining: 23.9s\n",
      "27:\tlearn: 0.4180035\ttotal: 674ms\tremaining: 23.4s\n",
      "28:\tlearn: 0.4148770\ttotal: 689ms\tremaining: 23.1s\n",
      "29:\tlearn: 0.4120638\ttotal: 704ms\tremaining: 22.8s\n",
      "30:\tlearn: 0.4093723\ttotal: 720ms\tremaining: 22.5s\n",
      "31:\tlearn: 0.4069003\ttotal: 739ms\tremaining: 22.3s\n",
      "32:\tlearn: 0.4047389\ttotal: 757ms\tremaining: 22.2s\n",
      "33:\tlearn: 0.4026439\ttotal: 777ms\tremaining: 22.1s\n",
      "34:\tlearn: 0.4005338\ttotal: 792ms\tremaining: 21.8s\n",
      "35:\tlearn: 0.3987756\ttotal: 807ms\tremaining: 21.6s\n",
      "36:\tlearn: 0.3970189\ttotal: 822ms\tremaining: 21.4s\n",
      "37:\tlearn: 0.3952600\ttotal: 832ms\tremaining: 21.1s\n",
      "38:\tlearn: 0.3936238\ttotal: 848ms\tremaining: 20.9s\n",
      "39:\tlearn: 0.3921314\ttotal: 867ms\tremaining: 20.8s\n",
      "40:\tlearn: 0.3908141\ttotal: 891ms\tremaining: 20.8s\n",
      "41:\tlearn: 0.3895169\ttotal: 911ms\tremaining: 20.8s\n",
      "42:\tlearn: 0.3882076\ttotal: 928ms\tremaining: 20.6s\n",
      "43:\tlearn: 0.3868251\ttotal: 950ms\tremaining: 20.6s\n",
      "44:\tlearn: 0.3856930\ttotal: 969ms\tremaining: 20.6s\n",
      "45:\tlearn: 0.3846849\ttotal: 997ms\tremaining: 20.7s\n",
      "46:\tlearn: 0.3837454\ttotal: 1.01s\tremaining: 20.4s\n",
      "47:\tlearn: 0.3829894\ttotal: 1.02s\tremaining: 20.3s\n",
      "48:\tlearn: 0.3821933\ttotal: 1.06s\tremaining: 20.5s\n",
      "49:\tlearn: 0.3812909\ttotal: 1.07s\tremaining: 20.4s\n",
      "50:\tlearn: 0.3804963\ttotal: 1.09s\tremaining: 20.4s\n",
      "51:\tlearn: 0.3797583\ttotal: 1.12s\tremaining: 20.4s\n",
      "52:\tlearn: 0.3788982\ttotal: 1.14s\tremaining: 20.3s\n",
      "53:\tlearn: 0.3781122\ttotal: 1.17s\tremaining: 20.5s\n",
      "54:\tlearn: 0.3774592\ttotal: 1.18s\tremaining: 20.3s\n",
      "55:\tlearn: 0.3768729\ttotal: 1.19s\tremaining: 20.1s\n",
      "56:\tlearn: 0.3763557\ttotal: 1.21s\tremaining: 20s\n",
      "57:\tlearn: 0.3757545\ttotal: 1.23s\tremaining: 19.9s\n",
      "58:\tlearn: 0.3753118\ttotal: 1.25s\tremaining: 19.9s\n",
      "59:\tlearn: 0.3747557\ttotal: 1.26s\tremaining: 19.8s\n",
      "60:\tlearn: 0.3742276\ttotal: 1.28s\tremaining: 19.8s\n",
      "61:\tlearn: 0.3737076\ttotal: 1.31s\tremaining: 19.8s\n",
      "62:\tlearn: 0.3733012\ttotal: 1.32s\tremaining: 19.7s\n",
      "63:\tlearn: 0.3728345\ttotal: 1.35s\tremaining: 19.7s\n",
      "64:\tlearn: 0.3724659\ttotal: 1.36s\tremaining: 19.5s\n",
      "65:\tlearn: 0.3721384\ttotal: 1.37s\tremaining: 19.4s\n",
      "66:\tlearn: 0.3718738\ttotal: 1.39s\tremaining: 19.4s\n",
      "67:\tlearn: 0.3714537\ttotal: 1.4s\tremaining: 19.2s\n",
      "68:\tlearn: 0.3712686\ttotal: 1.42s\tremaining: 19.1s\n",
      "69:\tlearn: 0.3709335\ttotal: 1.43s\tremaining: 19s\n",
      "70:\tlearn: 0.3705623\ttotal: 1.44s\tremaining: 18.9s\n",
      "71:\tlearn: 0.3702285\ttotal: 1.46s\tremaining: 18.8s\n",
      "72:\tlearn: 0.3699488\ttotal: 1.49s\tremaining: 18.9s\n",
      "73:\tlearn: 0.3695812\ttotal: 1.5s\tremaining: 18.8s\n",
      "74:\tlearn: 0.3693879\ttotal: 1.52s\tremaining: 18.8s\n",
      "75:\tlearn: 0.3691115\ttotal: 1.53s\tremaining: 18.7s\n",
      "76:\tlearn: 0.3687250\ttotal: 1.54s\tremaining: 18.5s\n",
      "77:\tlearn: 0.3684931\ttotal: 1.55s\tremaining: 18.4s\n",
      "78:\tlearn: 0.3682823\ttotal: 1.57s\tremaining: 18.3s\n",
      "79:\tlearn: 0.3680212\ttotal: 1.59s\tremaining: 18.3s\n",
      "80:\tlearn: 0.3678378\ttotal: 1.61s\tremaining: 18.3s\n",
      "81:\tlearn: 0.3675704\ttotal: 1.63s\tremaining: 18.2s\n",
      "82:\tlearn: 0.3673599\ttotal: 1.65s\tremaining: 18.2s\n",
      "83:\tlearn: 0.3671325\ttotal: 1.67s\tremaining: 18.2s\n",
      "84:\tlearn: 0.3669484\ttotal: 1.69s\tremaining: 18.2s\n",
      "85:\tlearn: 0.3667590\ttotal: 1.7s\tremaining: 18.1s\n",
      "86:\tlearn: 0.3665360\ttotal: 1.71s\tremaining: 18s\n",
      "87:\tlearn: 0.3663628\ttotal: 1.72s\tremaining: 17.9s\n",
      "88:\tlearn: 0.3661854\ttotal: 1.74s\tremaining: 17.8s\n",
      "89:\tlearn: 0.3660310\ttotal: 1.76s\tremaining: 17.8s\n",
      "90:\tlearn: 0.3658563\ttotal: 1.78s\tremaining: 17.8s\n",
      "91:\tlearn: 0.3657974\ttotal: 1.79s\tremaining: 17.7s\n",
      "92:\tlearn: 0.3655748\ttotal: 1.81s\tremaining: 17.7s\n",
      "93:\tlearn: 0.3653886\ttotal: 1.82s\tremaining: 17.6s\n",
      "94:\tlearn: 0.3652854\ttotal: 1.84s\tremaining: 17.5s\n",
      "95:\tlearn: 0.3650961\ttotal: 1.86s\tremaining: 17.5s\n",
      "96:\tlearn: 0.3649387\ttotal: 1.88s\tremaining: 17.5s\n",
      "97:\tlearn: 0.3647971\ttotal: 1.89s\tremaining: 17.4s\n",
      "98:\tlearn: 0.3646201\ttotal: 1.91s\tremaining: 17.4s\n",
      "99:\tlearn: 0.3644453\ttotal: 1.92s\tremaining: 17.3s\n",
      "100:\tlearn: 0.3643038\ttotal: 1.93s\tremaining: 17.2s\n",
      "101:\tlearn: 0.3641586\ttotal: 1.95s\tremaining: 17.2s\n",
      "102:\tlearn: 0.3639770\ttotal: 1.97s\tremaining: 17.1s\n",
      "103:\tlearn: 0.3638735\ttotal: 1.99s\tremaining: 17.1s\n",
      "104:\tlearn: 0.3637094\ttotal: 2.01s\tremaining: 17.1s\n",
      "105:\tlearn: 0.3635625\ttotal: 2.03s\tremaining: 17.1s\n",
      "106:\tlearn: 0.3633881\ttotal: 2.04s\tremaining: 17.1s\n",
      "107:\tlearn: 0.3631971\ttotal: 2.06s\tremaining: 17s\n",
      "108:\tlearn: 0.3630542\ttotal: 2.07s\tremaining: 16.9s\n",
      "109:\tlearn: 0.3628904\ttotal: 2.08s\tremaining: 16.9s\n",
      "110:\tlearn: 0.3627567\ttotal: 2.1s\tremaining: 16.8s\n",
      "111:\tlearn: 0.3626782\ttotal: 2.12s\tremaining: 16.8s\n",
      "112:\tlearn: 0.3625713\ttotal: 2.14s\tremaining: 16.8s\n",
      "113:\tlearn: 0.3624574\ttotal: 2.15s\tremaining: 16.7s\n",
      "114:\tlearn: 0.3623607\ttotal: 2.17s\tremaining: 16.7s\n",
      "115:\tlearn: 0.3621749\ttotal: 2.2s\tremaining: 16.7s\n",
      "116:\tlearn: 0.3620290\ttotal: 2.21s\tremaining: 16.7s\n",
      "117:\tlearn: 0.3618656\ttotal: 2.23s\tremaining: 16.6s\n",
      "118:\tlearn: 0.3617825\ttotal: 2.24s\tremaining: 16.6s\n",
      "119:\tlearn: 0.3616272\ttotal: 2.26s\tremaining: 16.6s\n",
      "120:\tlearn: 0.3615001\ttotal: 2.27s\tremaining: 16.5s\n",
      "121:\tlearn: 0.3614067\ttotal: 2.29s\tremaining: 16.5s\n",
      "122:\tlearn: 0.3612711\ttotal: 2.3s\tremaining: 16.4s\n",
      "123:\tlearn: 0.3611501\ttotal: 2.32s\tremaining: 16.4s\n",
      "124:\tlearn: 0.3610296\ttotal: 2.34s\tremaining: 16.4s\n",
      "125:\tlearn: 0.3608995\ttotal: 2.35s\tremaining: 16.3s\n",
      "126:\tlearn: 0.3607794\ttotal: 2.36s\tremaining: 16.2s\n",
      "127:\tlearn: 0.3606877\ttotal: 2.38s\tremaining: 16.2s\n",
      "128:\tlearn: 0.3605455\ttotal: 2.4s\tremaining: 16.2s\n",
      "129:\tlearn: 0.3604359\ttotal: 2.41s\tremaining: 16.2s\n",
      "130:\tlearn: 0.3603127\ttotal: 2.43s\tremaining: 16.1s\n",
      "131:\tlearn: 0.3602178\ttotal: 2.44s\tremaining: 16.1s\n",
      "132:\tlearn: 0.3600664\ttotal: 2.46s\tremaining: 16s\n",
      "133:\tlearn: 0.3599042\ttotal: 2.48s\tremaining: 16s\n",
      "134:\tlearn: 0.3597662\ttotal: 2.49s\tremaining: 15.9s\n",
      "135:\tlearn: 0.3596567\ttotal: 2.5s\tremaining: 15.9s\n",
      "136:\tlearn: 0.3595656\ttotal: 2.52s\tremaining: 15.9s\n",
      "137:\tlearn: 0.3594302\ttotal: 2.54s\tremaining: 15.9s\n",
      "138:\tlearn: 0.3593288\ttotal: 2.56s\tremaining: 15.8s\n",
      "139:\tlearn: 0.3591979\ttotal: 2.59s\tremaining: 15.9s\n",
      "140:\tlearn: 0.3590898\ttotal: 2.6s\tremaining: 15.9s\n",
      "141:\tlearn: 0.3590042\ttotal: 2.61s\tremaining: 15.8s\n",
      "142:\tlearn: 0.3589139\ttotal: 2.63s\tremaining: 15.8s\n",
      "143:\tlearn: 0.3587657\ttotal: 2.65s\tremaining: 15.7s\n",
      "144:\tlearn: 0.3586647\ttotal: 2.67s\tremaining: 15.7s\n",
      "145:\tlearn: 0.3585440\ttotal: 2.69s\tremaining: 15.7s\n",
      "146:\tlearn: 0.3584803\ttotal: 2.7s\tremaining: 15.7s\n",
      "147:\tlearn: 0.3583679\ttotal: 2.72s\tremaining: 15.7s\n",
      "148:\tlearn: 0.3582253\ttotal: 2.74s\tremaining: 15.7s\n",
      "149:\tlearn: 0.3581298\ttotal: 2.76s\tremaining: 15.7s\n",
      "150:\tlearn: 0.3579566\ttotal: 2.78s\tremaining: 15.6s\n",
      "151:\tlearn: 0.3578158\ttotal: 2.79s\tremaining: 15.6s\n",
      "152:\tlearn: 0.3577546\ttotal: 2.8s\tremaining: 15.5s\n",
      "153:\tlearn: 0.3576819\ttotal: 2.81s\tremaining: 15.5s\n",
      "154:\tlearn: 0.3575921\ttotal: 2.83s\tremaining: 15.4s\n",
      "155:\tlearn: 0.3574972\ttotal: 2.85s\tremaining: 15.4s\n",
      "156:\tlearn: 0.3574135\ttotal: 2.87s\tremaining: 15.4s\n",
      "157:\tlearn: 0.3572772\ttotal: 2.89s\tremaining: 15.4s\n",
      "158:\tlearn: 0.3571259\ttotal: 2.91s\tremaining: 15.4s\n",
      "159:\tlearn: 0.3570433\ttotal: 2.93s\tremaining: 15.4s\n",
      "160:\tlearn: 0.3569400\ttotal: 2.94s\tremaining: 15.3s\n"
     ]
    },
    {
     "name": "stdout",
     "output_type": "stream",
     "text": [
      "161:\tlearn: 0.3567998\ttotal: 2.97s\tremaining: 15.4s\n",
      "162:\tlearn: 0.3567113\ttotal: 2.98s\tremaining: 15.3s\n",
      "163:\tlearn: 0.3566460\ttotal: 2.99s\tremaining: 15.3s\n",
      "164:\tlearn: 0.3565478\ttotal: 3.02s\tremaining: 15.3s\n",
      "165:\tlearn: 0.3564894\ttotal: 3.03s\tremaining: 15.2s\n",
      "166:\tlearn: 0.3564469\ttotal: 3.05s\tremaining: 15.2s\n",
      "167:\tlearn: 0.3563081\ttotal: 3.07s\tremaining: 15.2s\n",
      "168:\tlearn: 0.3561829\ttotal: 3.09s\tremaining: 15.2s\n",
      "169:\tlearn: 0.3560540\ttotal: 3.11s\tremaining: 15.2s\n",
      "170:\tlearn: 0.3559166\ttotal: 3.13s\tremaining: 15.2s\n",
      "171:\tlearn: 0.3558467\ttotal: 3.16s\tremaining: 15.2s\n",
      "172:\tlearn: 0.3557396\ttotal: 3.18s\tremaining: 15.2s\n",
      "173:\tlearn: 0.3556286\ttotal: 3.2s\tremaining: 15.2s\n",
      "174:\tlearn: 0.3555348\ttotal: 3.21s\tremaining: 15.1s\n",
      "175:\tlearn: 0.3554200\ttotal: 3.23s\tremaining: 15.1s\n",
      "176:\tlearn: 0.3553135\ttotal: 3.25s\tremaining: 15.1s\n",
      "177:\tlearn: 0.3551937\ttotal: 3.27s\tremaining: 15.1s\n",
      "178:\tlearn: 0.3550718\ttotal: 3.29s\tremaining: 15.1s\n",
      "179:\tlearn: 0.3549855\ttotal: 3.31s\tremaining: 15.1s\n",
      "180:\tlearn: 0.3548748\ttotal: 3.33s\tremaining: 15.1s\n",
      "181:\tlearn: 0.3547891\ttotal: 3.35s\tremaining: 15s\n",
      "182:\tlearn: 0.3546610\ttotal: 3.36s\tremaining: 15s\n",
      "183:\tlearn: 0.3545378\ttotal: 3.38s\tremaining: 15s\n",
      "184:\tlearn: 0.3544394\ttotal: 3.4s\tremaining: 15s\n",
      "185:\tlearn: 0.3543323\ttotal: 3.42s\tremaining: 15s\n",
      "186:\tlearn: 0.3542604\ttotal: 3.43s\tremaining: 14.9s\n",
      "187:\tlearn: 0.3542030\ttotal: 3.46s\tremaining: 14.9s\n",
      "188:\tlearn: 0.3541268\ttotal: 3.47s\tremaining: 14.9s\n",
      "189:\tlearn: 0.3539802\ttotal: 3.48s\tremaining: 14.9s\n",
      "190:\tlearn: 0.3538760\ttotal: 3.5s\tremaining: 14.8s\n",
      "191:\tlearn: 0.3538133\ttotal: 3.52s\tremaining: 14.8s\n",
      "192:\tlearn: 0.3537452\ttotal: 3.54s\tremaining: 14.8s\n",
      "193:\tlearn: 0.3536403\ttotal: 3.56s\tremaining: 14.8s\n",
      "194:\tlearn: 0.3535653\ttotal: 3.58s\tremaining: 14.8s\n",
      "195:\tlearn: 0.3534683\ttotal: 3.6s\tremaining: 14.8s\n",
      "196:\tlearn: 0.3533651\ttotal: 3.62s\tremaining: 14.7s\n",
      "197:\tlearn: 0.3532657\ttotal: 3.64s\tremaining: 14.8s\n",
      "198:\tlearn: 0.3532054\ttotal: 3.66s\tremaining: 14.7s\n",
      "199:\tlearn: 0.3531100\ttotal: 3.69s\tremaining: 14.7s\n",
      "200:\tlearn: 0.3530054\ttotal: 3.7s\tremaining: 14.7s\n",
      "201:\tlearn: 0.3529021\ttotal: 3.73s\tremaining: 14.7s\n",
      "202:\tlearn: 0.3527405\ttotal: 3.75s\tremaining: 14.7s\n",
      "203:\tlearn: 0.3526731\ttotal: 3.76s\tremaining: 14.7s\n",
      "204:\tlearn: 0.3525902\ttotal: 3.79s\tremaining: 14.7s\n",
      "205:\tlearn: 0.3525125\ttotal: 3.81s\tremaining: 14.7s\n",
      "206:\tlearn: 0.3524502\ttotal: 3.84s\tremaining: 14.7s\n",
      "207:\tlearn: 0.3522687\ttotal: 3.86s\tremaining: 14.7s\n",
      "208:\tlearn: 0.3522122\ttotal: 3.89s\tremaining: 14.7s\n",
      "209:\tlearn: 0.3520741\ttotal: 3.91s\tremaining: 14.7s\n",
      "210:\tlearn: 0.3519740\ttotal: 3.93s\tremaining: 14.7s\n",
      "211:\tlearn: 0.3519123\ttotal: 3.95s\tremaining: 14.7s\n",
      "212:\tlearn: 0.3518102\ttotal: 3.96s\tremaining: 14.6s\n",
      "213:\tlearn: 0.3517437\ttotal: 3.98s\tremaining: 14.6s\n",
      "214:\tlearn: 0.3516798\ttotal: 4s\tremaining: 14.6s\n",
      "215:\tlearn: 0.3516298\ttotal: 4.02s\tremaining: 14.6s\n",
      "216:\tlearn: 0.3514882\ttotal: 4.04s\tremaining: 14.6s\n",
      "217:\tlearn: 0.3513952\ttotal: 4.06s\tremaining: 14.6s\n",
      "218:\tlearn: 0.3513160\ttotal: 4.08s\tremaining: 14.5s\n",
      "219:\tlearn: 0.3512004\ttotal: 4.1s\tremaining: 14.5s\n",
      "220:\tlearn: 0.3511176\ttotal: 4.11s\tremaining: 14.5s\n",
      "221:\tlearn: 0.3510063\ttotal: 4.13s\tremaining: 14.5s\n",
      "222:\tlearn: 0.3509270\ttotal: 4.14s\tremaining: 14.4s\n",
      "223:\tlearn: 0.3508169\ttotal: 4.16s\tremaining: 14.4s\n",
      "224:\tlearn: 0.3507442\ttotal: 4.18s\tremaining: 14.4s\n",
      "225:\tlearn: 0.3505961\ttotal: 4.2s\tremaining: 14.4s\n",
      "226:\tlearn: 0.3504865\ttotal: 4.22s\tremaining: 14.4s\n",
      "227:\tlearn: 0.3503810\ttotal: 4.23s\tremaining: 14.3s\n",
      "228:\tlearn: 0.3503083\ttotal: 4.25s\tremaining: 14.3s\n",
      "229:\tlearn: 0.3502517\ttotal: 4.26s\tremaining: 14.3s\n",
      "230:\tlearn: 0.3501634\ttotal: 4.28s\tremaining: 14.2s\n",
      "231:\tlearn: 0.3501014\ttotal: 4.29s\tremaining: 14.2s\n",
      "232:\tlearn: 0.3500636\ttotal: 4.3s\tremaining: 14.2s\n",
      "233:\tlearn: 0.3499779\ttotal: 4.34s\tremaining: 14.2s\n",
      "234:\tlearn: 0.3498619\ttotal: 4.36s\tremaining: 14.2s\n",
      "235:\tlearn: 0.3497065\ttotal: 4.39s\tremaining: 14.2s\n",
      "236:\tlearn: 0.3496375\ttotal: 4.4s\tremaining: 14.2s\n",
      "237:\tlearn: 0.3495575\ttotal: 4.42s\tremaining: 14.1s\n",
      "238:\tlearn: 0.3494631\ttotal: 4.43s\tremaining: 14.1s\n",
      "239:\tlearn: 0.3493702\ttotal: 4.46s\tremaining: 14.1s\n",
      "240:\tlearn: 0.3492827\ttotal: 4.48s\tremaining: 14.1s\n",
      "241:\tlearn: 0.3492270\ttotal: 4.5s\tremaining: 14.1s\n",
      "242:\tlearn: 0.3491428\ttotal: 4.52s\tremaining: 14.1s\n",
      "243:\tlearn: 0.3490990\ttotal: 4.54s\tremaining: 14.1s\n",
      "244:\tlearn: 0.3490190\ttotal: 4.56s\tremaining: 14s\n",
      "245:\tlearn: 0.3489297\ttotal: 4.58s\tremaining: 14s\n",
      "246:\tlearn: 0.3488430\ttotal: 4.61s\tremaining: 14.1s\n",
      "247:\tlearn: 0.3487556\ttotal: 4.63s\tremaining: 14.1s\n",
      "248:\tlearn: 0.3487060\ttotal: 4.66s\tremaining: 14.1s\n",
      "249:\tlearn: 0.3486509\ttotal: 4.68s\tremaining: 14s\n",
      "250:\tlearn: 0.3485234\ttotal: 4.7s\tremaining: 14s\n",
      "251:\tlearn: 0.3483517\ttotal: 4.72s\tremaining: 14s\n",
      "252:\tlearn: 0.3482594\ttotal: 4.74s\tremaining: 14s\n",
      "253:\tlearn: 0.3481051\ttotal: 4.76s\tremaining: 14s\n",
      "254:\tlearn: 0.3479925\ttotal: 4.78s\tremaining: 14s\n",
      "255:\tlearn: 0.3478383\ttotal: 4.8s\tremaining: 14s\n",
      "256:\tlearn: 0.3477180\ttotal: 4.82s\tremaining: 13.9s\n",
      "257:\tlearn: 0.3475828\ttotal: 4.85s\tremaining: 13.9s\n",
      "258:\tlearn: 0.3475121\ttotal: 4.87s\tremaining: 13.9s\n",
      "259:\tlearn: 0.3474391\ttotal: 4.88s\tremaining: 13.9s\n",
      "260:\tlearn: 0.3473256\ttotal: 4.9s\tremaining: 13.9s\n",
      "261:\tlearn: 0.3472322\ttotal: 4.92s\tremaining: 13.9s\n",
      "262:\tlearn: 0.3470848\ttotal: 4.93s\tremaining: 13.8s\n",
      "263:\tlearn: 0.3469932\ttotal: 4.96s\tremaining: 13.8s\n",
      "264:\tlearn: 0.3468326\ttotal: 4.98s\tremaining: 13.8s\n",
      "265:\tlearn: 0.3467370\ttotal: 5s\tremaining: 13.8s\n",
      "266:\tlearn: 0.3466018\ttotal: 5.02s\tremaining: 13.8s\n",
      "267:\tlearn: 0.3465394\ttotal: 5.04s\tremaining: 13.8s\n",
      "268:\tlearn: 0.3464646\ttotal: 5.05s\tremaining: 13.7s\n",
      "269:\tlearn: 0.3463468\ttotal: 5.08s\tremaining: 13.7s\n",
      "270:\tlearn: 0.3462434\ttotal: 5.09s\tremaining: 13.7s\n",
      "271:\tlearn: 0.3461512\ttotal: 5.12s\tremaining: 13.7s\n",
      "272:\tlearn: 0.3460384\ttotal: 5.13s\tremaining: 13.7s\n",
      "273:\tlearn: 0.3459843\ttotal: 5.15s\tremaining: 13.7s\n",
      "274:\tlearn: 0.3459035\ttotal: 5.17s\tremaining: 13.6s\n",
      "275:\tlearn: 0.3457520\ttotal: 5.2s\tremaining: 13.6s\n",
      "276:\tlearn: 0.3456352\ttotal: 5.21s\tremaining: 13.6s\n",
      "277:\tlearn: 0.3455264\ttotal: 5.22s\tremaining: 13.6s\n",
      "278:\tlearn: 0.3454570\ttotal: 5.23s\tremaining: 13.5s\n",
      "279:\tlearn: 0.3453595\ttotal: 5.25s\tremaining: 13.5s\n",
      "280:\tlearn: 0.3452797\ttotal: 5.27s\tremaining: 13.5s\n",
      "281:\tlearn: 0.3451944\ttotal: 5.29s\tremaining: 13.5s\n",
      "282:\tlearn: 0.3450107\ttotal: 5.31s\tremaining: 13.4s\n",
      "283:\tlearn: 0.3449445\ttotal: 5.33s\tremaining: 13.4s\n",
      "284:\tlearn: 0.3447968\ttotal: 5.35s\tremaining: 13.4s\n",
      "285:\tlearn: 0.3446545\ttotal: 5.37s\tremaining: 13.4s\n",
      "286:\tlearn: 0.3445619\ttotal: 5.39s\tremaining: 13.4s\n",
      "287:\tlearn: 0.3445047\ttotal: 5.4s\tremaining: 13.4s\n",
      "288:\tlearn: 0.3444273\ttotal: 5.42s\tremaining: 13.3s\n",
      "289:\tlearn: 0.3443570\ttotal: 5.43s\tremaining: 13.3s\n",
      "290:\tlearn: 0.3442374\ttotal: 5.45s\tremaining: 13.3s\n",
      "291:\tlearn: 0.3441480\ttotal: 5.47s\tremaining: 13.3s\n",
      "292:\tlearn: 0.3440461\ttotal: 5.48s\tremaining: 13.2s\n",
      "293:\tlearn: 0.3439434\ttotal: 5.5s\tremaining: 13.2s\n",
      "294:\tlearn: 0.3438653\ttotal: 5.52s\tremaining: 13.2s\n",
      "295:\tlearn: 0.3437490\ttotal: 5.54s\tremaining: 13.2s\n",
      "296:\tlearn: 0.3435622\ttotal: 5.55s\tremaining: 13.2s\n",
      "297:\tlearn: 0.3434436\ttotal: 5.58s\tremaining: 13.1s\n",
      "298:\tlearn: 0.3433626\ttotal: 5.6s\tremaining: 13.1s\n",
      "299:\tlearn: 0.3432620\ttotal: 5.62s\tremaining: 13.1s\n",
      "300:\tlearn: 0.3431455\ttotal: 5.63s\tremaining: 13.1s\n",
      "301:\tlearn: 0.3430882\ttotal: 5.65s\tremaining: 13.1s\n",
      "302:\tlearn: 0.3430083\ttotal: 5.67s\tremaining: 13.1s\n",
      "303:\tlearn: 0.3428841\ttotal: 5.69s\tremaining: 13s\n",
      "304:\tlearn: 0.3428213\ttotal: 5.71s\tremaining: 13s\n",
      "305:\tlearn: 0.3427572\ttotal: 5.73s\tremaining: 13s\n",
      "306:\tlearn: 0.3426036\ttotal: 5.75s\tremaining: 13s\n",
      "307:\tlearn: 0.3425000\ttotal: 5.77s\tremaining: 13s\n",
      "308:\tlearn: 0.3423894\ttotal: 5.79s\tremaining: 12.9s\n",
      "309:\tlearn: 0.3422952\ttotal: 5.8s\tremaining: 12.9s\n",
      "310:\tlearn: 0.3421769\ttotal: 5.82s\tremaining: 12.9s\n",
      "311:\tlearn: 0.3421203\ttotal: 5.83s\tremaining: 12.9s\n",
      "312:\tlearn: 0.3420273\ttotal: 5.85s\tremaining: 12.8s\n",
      "313:\tlearn: 0.3419830\ttotal: 5.87s\tremaining: 12.8s\n",
      "314:\tlearn: 0.3418913\ttotal: 5.89s\tremaining: 12.8s\n",
      "315:\tlearn: 0.3418534\ttotal: 5.91s\tremaining: 12.8s\n",
      "316:\tlearn: 0.3417790\ttotal: 5.93s\tremaining: 12.8s\n",
      "317:\tlearn: 0.3417305\ttotal: 5.94s\tremaining: 12.7s\n",
      "318:\tlearn: 0.3415987\ttotal: 5.96s\tremaining: 12.7s\n",
      "319:\tlearn: 0.3415469\ttotal: 5.97s\tremaining: 12.7s\n",
      "320:\tlearn: 0.3414014\ttotal: 5.99s\tremaining: 12.7s\n",
      "321:\tlearn: 0.3413111\ttotal: 6s\tremaining: 12.6s\n",
      "322:\tlearn: 0.3412209\ttotal: 6.03s\tremaining: 12.6s\n",
      "323:\tlearn: 0.3411595\ttotal: 6.04s\tremaining: 12.6s\n",
      "324:\tlearn: 0.3410882\ttotal: 6.06s\tremaining: 12.6s\n",
      "325:\tlearn: 0.3409764\ttotal: 6.08s\tremaining: 12.6s\n",
      "326:\tlearn: 0.3408963\ttotal: 6.09s\tremaining: 12.5s\n",
      "327:\tlearn: 0.3408305\ttotal: 6.11s\tremaining: 12.5s\n"
     ]
    },
    {
     "name": "stdout",
     "output_type": "stream",
     "text": [
      "328:\tlearn: 0.3407754\ttotal: 6.13s\tremaining: 12.5s\n",
      "329:\tlearn: 0.3406906\ttotal: 6.14s\tremaining: 12.5s\n",
      "330:\tlearn: 0.3406002\ttotal: 6.16s\tremaining: 12.4s\n",
      "331:\tlearn: 0.3405349\ttotal: 6.17s\tremaining: 12.4s\n",
      "332:\tlearn: 0.3404188\ttotal: 6.19s\tremaining: 12.4s\n",
      "333:\tlearn: 0.3403598\ttotal: 6.21s\tremaining: 12.4s\n",
      "334:\tlearn: 0.3402864\ttotal: 6.23s\tremaining: 12.4s\n",
      "335:\tlearn: 0.3401794\ttotal: 6.25s\tremaining: 12.4s\n",
      "336:\tlearn: 0.3400852\ttotal: 6.27s\tremaining: 12.3s\n",
      "337:\tlearn: 0.3399866\ttotal: 6.29s\tremaining: 12.3s\n",
      "338:\tlearn: 0.3398914\ttotal: 6.31s\tremaining: 12.3s\n",
      "339:\tlearn: 0.3397731\ttotal: 6.32s\tremaining: 12.3s\n",
      "340:\tlearn: 0.3396542\ttotal: 6.34s\tremaining: 12.3s\n",
      "341:\tlearn: 0.3395245\ttotal: 6.36s\tremaining: 12.2s\n",
      "342:\tlearn: 0.3394371\ttotal: 6.38s\tremaining: 12.2s\n",
      "343:\tlearn: 0.3393486\ttotal: 6.4s\tremaining: 12.2s\n",
      "344:\tlearn: 0.3392856\ttotal: 6.42s\tremaining: 12.2s\n",
      "345:\tlearn: 0.3392189\ttotal: 6.43s\tremaining: 12.2s\n",
      "346:\tlearn: 0.3391584\ttotal: 6.45s\tremaining: 12.1s\n",
      "347:\tlearn: 0.3390860\ttotal: 6.47s\tremaining: 12.1s\n",
      "348:\tlearn: 0.3389986\ttotal: 6.49s\tremaining: 12.1s\n",
      "349:\tlearn: 0.3389205\ttotal: 6.51s\tremaining: 12.1s\n",
      "350:\tlearn: 0.3388270\ttotal: 6.52s\tremaining: 12.1s\n",
      "351:\tlearn: 0.3387505\ttotal: 6.53s\tremaining: 12s\n",
      "352:\tlearn: 0.3386656\ttotal: 6.54s\tremaining: 12s\n",
      "353:\tlearn: 0.3385828\ttotal: 6.56s\tremaining: 12s\n",
      "354:\tlearn: 0.3385376\ttotal: 6.58s\tremaining: 12s\n",
      "355:\tlearn: 0.3384324\ttotal: 6.59s\tremaining: 11.9s\n",
      "356:\tlearn: 0.3383350\ttotal: 6.62s\tremaining: 11.9s\n",
      "357:\tlearn: 0.3381979\ttotal: 6.63s\tremaining: 11.9s\n",
      "358:\tlearn: 0.3380980\ttotal: 6.65s\tremaining: 11.9s\n",
      "359:\tlearn: 0.3380043\ttotal: 6.67s\tremaining: 11.9s\n",
      "360:\tlearn: 0.3378705\ttotal: 6.68s\tremaining: 11.8s\n",
      "361:\tlearn: 0.3377582\ttotal: 6.71s\tremaining: 11.8s\n",
      "362:\tlearn: 0.3376654\ttotal: 6.72s\tremaining: 11.8s\n",
      "363:\tlearn: 0.3375809\ttotal: 6.74s\tremaining: 11.8s\n",
      "364:\tlearn: 0.3374697\ttotal: 6.76s\tremaining: 11.8s\n",
      "365:\tlearn: 0.3374105\ttotal: 6.78s\tremaining: 11.7s\n",
      "366:\tlearn: 0.3373276\ttotal: 6.79s\tremaining: 11.7s\n",
      "367:\tlearn: 0.3371971\ttotal: 6.82s\tremaining: 11.7s\n",
      "368:\tlearn: 0.3371514\ttotal: 6.83s\tremaining: 11.7s\n",
      "369:\tlearn: 0.3370702\ttotal: 6.85s\tremaining: 11.7s\n",
      "370:\tlearn: 0.3369083\ttotal: 6.87s\tremaining: 11.7s\n",
      "371:\tlearn: 0.3368040\ttotal: 6.89s\tremaining: 11.6s\n",
      "372:\tlearn: 0.3367120\ttotal: 6.91s\tremaining: 11.6s\n",
      "373:\tlearn: 0.3366306\ttotal: 6.92s\tremaining: 11.6s\n",
      "374:\tlearn: 0.3365197\ttotal: 6.94s\tremaining: 11.6s\n",
      "375:\tlearn: 0.3363687\ttotal: 6.95s\tremaining: 11.5s\n",
      "376:\tlearn: 0.3363047\ttotal: 6.97s\tremaining: 11.5s\n",
      "377:\tlearn: 0.3362385\ttotal: 6.99s\tremaining: 11.5s\n",
      "378:\tlearn: 0.3361400\ttotal: 7s\tremaining: 11.5s\n",
      "379:\tlearn: 0.3360996\ttotal: 7.01s\tremaining: 11.4s\n",
      "380:\tlearn: 0.3360381\ttotal: 7.03s\tremaining: 11.4s\n",
      "381:\tlearn: 0.3358842\ttotal: 7.05s\tremaining: 11.4s\n",
      "382:\tlearn: 0.3357551\ttotal: 7.07s\tremaining: 11.4s\n",
      "383:\tlearn: 0.3356597\ttotal: 7.08s\tremaining: 11.4s\n",
      "384:\tlearn: 0.3355458\ttotal: 7.1s\tremaining: 11.3s\n",
      "385:\tlearn: 0.3354393\ttotal: 7.12s\tremaining: 11.3s\n",
      "386:\tlearn: 0.3353467\ttotal: 7.14s\tremaining: 11.3s\n",
      "387:\tlearn: 0.3352816\ttotal: 7.16s\tremaining: 11.3s\n",
      "388:\tlearn: 0.3352112\ttotal: 7.17s\tremaining: 11.3s\n",
      "389:\tlearn: 0.3351428\ttotal: 7.19s\tremaining: 11.2s\n",
      "390:\tlearn: 0.3350368\ttotal: 7.2s\tremaining: 11.2s\n",
      "391:\tlearn: 0.3349560\ttotal: 7.21s\tremaining: 11.2s\n",
      "392:\tlearn: 0.3348156\ttotal: 7.23s\tremaining: 11.2s\n",
      "393:\tlearn: 0.3347165\ttotal: 7.25s\tremaining: 11.1s\n",
      "394:\tlearn: 0.3346181\ttotal: 7.27s\tremaining: 11.1s\n",
      "395:\tlearn: 0.3345307\ttotal: 7.28s\tremaining: 11.1s\n",
      "396:\tlearn: 0.3343580\ttotal: 7.3s\tremaining: 11.1s\n",
      "397:\tlearn: 0.3342411\ttotal: 7.33s\tremaining: 11.1s\n",
      "398:\tlearn: 0.3341278\ttotal: 7.34s\tremaining: 11.1s\n",
      "399:\tlearn: 0.3340129\ttotal: 7.36s\tremaining: 11s\n",
      "400:\tlearn: 0.3339137\ttotal: 7.38s\tremaining: 11s\n",
      "401:\tlearn: 0.3338611\ttotal: 7.4s\tremaining: 11s\n",
      "402:\tlearn: 0.3337569\ttotal: 7.42s\tremaining: 11s\n",
      "403:\tlearn: 0.3336443\ttotal: 7.44s\tremaining: 11s\n",
      "404:\tlearn: 0.3334873\ttotal: 7.45s\tremaining: 10.9s\n",
      "405:\tlearn: 0.3334177\ttotal: 7.47s\tremaining: 10.9s\n",
      "406:\tlearn: 0.3333453\ttotal: 7.49s\tremaining: 10.9s\n",
      "407:\tlearn: 0.3332412\ttotal: 7.51s\tremaining: 10.9s\n",
      "408:\tlearn: 0.3331412\ttotal: 7.53s\tremaining: 10.9s\n",
      "409:\tlearn: 0.3330542\ttotal: 7.55s\tremaining: 10.9s\n",
      "410:\tlearn: 0.3329697\ttotal: 7.58s\tremaining: 10.9s\n",
      "411:\tlearn: 0.3329022\ttotal: 7.6s\tremaining: 10.8s\n",
      "412:\tlearn: 0.3328433\ttotal: 7.62s\tremaining: 10.8s\n",
      "413:\tlearn: 0.3327505\ttotal: 7.63s\tremaining: 10.8s\n",
      "414:\tlearn: 0.3326493\ttotal: 7.64s\tremaining: 10.8s\n",
      "415:\tlearn: 0.3325540\ttotal: 7.66s\tremaining: 10.8s\n",
      "416:\tlearn: 0.3324160\ttotal: 7.68s\tremaining: 10.7s\n",
      "417:\tlearn: 0.3323346\ttotal: 7.7s\tremaining: 10.7s\n",
      "418:\tlearn: 0.3322488\ttotal: 7.71s\tremaining: 10.7s\n",
      "419:\tlearn: 0.3321687\ttotal: 7.74s\tremaining: 10.7s\n",
      "420:\tlearn: 0.3320842\ttotal: 7.75s\tremaining: 10.7s\n",
      "421:\tlearn: 0.3320229\ttotal: 7.77s\tremaining: 10.6s\n",
      "422:\tlearn: 0.3319276\ttotal: 7.79s\tremaining: 10.6s\n",
      "423:\tlearn: 0.3318353\ttotal: 7.81s\tremaining: 10.6s\n",
      "424:\tlearn: 0.3317328\ttotal: 7.82s\tremaining: 10.6s\n",
      "425:\tlearn: 0.3316540\ttotal: 7.83s\tremaining: 10.6s\n",
      "426:\tlearn: 0.3315990\ttotal: 7.85s\tremaining: 10.5s\n",
      "427:\tlearn: 0.3315097\ttotal: 7.87s\tremaining: 10.5s\n",
      "428:\tlearn: 0.3314031\ttotal: 7.89s\tremaining: 10.5s\n",
      "429:\tlearn: 0.3313183\ttotal: 7.91s\tremaining: 10.5s\n",
      "430:\tlearn: 0.3311842\ttotal: 7.93s\tremaining: 10.5s\n",
      "431:\tlearn: 0.3311260\ttotal: 7.95s\tremaining: 10.5s\n",
      "432:\tlearn: 0.3310388\ttotal: 7.97s\tremaining: 10.4s\n",
      "433:\tlearn: 0.3309544\ttotal: 7.99s\tremaining: 10.4s\n",
      "434:\tlearn: 0.3308994\ttotal: 8s\tremaining: 10.4s\n",
      "435:\tlearn: 0.3308029\ttotal: 8.01s\tremaining: 10.4s\n",
      "436:\tlearn: 0.3306972\ttotal: 8.03s\tremaining: 10.3s\n",
      "437:\tlearn: 0.3306078\ttotal: 8.05s\tremaining: 10.3s\n",
      "438:\tlearn: 0.3305253\ttotal: 8.07s\tremaining: 10.3s\n",
      "439:\tlearn: 0.3304262\ttotal: 8.09s\tremaining: 10.3s\n",
      "440:\tlearn: 0.3303416\ttotal: 8.1s\tremaining: 10.3s\n",
      "441:\tlearn: 0.3302895\ttotal: 8.13s\tremaining: 10.3s\n",
      "442:\tlearn: 0.3302310\ttotal: 8.14s\tremaining: 10.2s\n",
      "443:\tlearn: 0.3301405\ttotal: 8.17s\tremaining: 10.2s\n",
      "444:\tlearn: 0.3300316\ttotal: 8.18s\tremaining: 10.2s\n",
      "445:\tlearn: 0.3299806\ttotal: 8.2s\tremaining: 10.2s\n",
      "446:\tlearn: 0.3299320\ttotal: 8.21s\tremaining: 10.2s\n",
      "447:\tlearn: 0.3298855\ttotal: 8.22s\tremaining: 10.1s\n",
      "448:\tlearn: 0.3297642\ttotal: 8.24s\tremaining: 10.1s\n",
      "449:\tlearn: 0.3296805\ttotal: 8.26s\tremaining: 10.1s\n",
      "450:\tlearn: 0.3295608\ttotal: 8.28s\tremaining: 10.1s\n",
      "451:\tlearn: 0.3294882\ttotal: 8.3s\tremaining: 10.1s\n",
      "452:\tlearn: 0.3294221\ttotal: 8.32s\tremaining: 10s\n",
      "453:\tlearn: 0.3293376\ttotal: 8.34s\tremaining: 10s\n",
      "454:\tlearn: 0.3292640\ttotal: 8.36s\tremaining: 10s\n",
      "455:\tlearn: 0.3291856\ttotal: 8.38s\tremaining: 9.99s\n",
      "456:\tlearn: 0.3291278\ttotal: 8.39s\tremaining: 9.97s\n",
      "457:\tlearn: 0.3289896\ttotal: 8.4s\tremaining: 9.95s\n",
      "458:\tlearn: 0.3289145\ttotal: 8.42s\tremaining: 9.93s\n",
      "459:\tlearn: 0.3288370\ttotal: 8.44s\tremaining: 9.91s\n",
      "460:\tlearn: 0.3287356\ttotal: 8.46s\tremaining: 9.89s\n",
      "461:\tlearn: 0.3286850\ttotal: 8.48s\tremaining: 9.88s\n",
      "462:\tlearn: 0.3286064\ttotal: 8.5s\tremaining: 9.86s\n",
      "463:\tlearn: 0.3285162\ttotal: 8.52s\tremaining: 9.84s\n",
      "464:\tlearn: 0.3284443\ttotal: 8.54s\tremaining: 9.82s\n",
      "465:\tlearn: 0.3283826\ttotal: 8.55s\tremaining: 9.8s\n",
      "466:\tlearn: 0.3283268\ttotal: 8.56s\tremaining: 9.77s\n",
      "467:\tlearn: 0.3282309\ttotal: 8.58s\tremaining: 9.75s\n",
      "468:\tlearn: 0.3281707\ttotal: 8.6s\tremaining: 9.73s\n",
      "469:\tlearn: 0.3280659\ttotal: 8.62s\tremaining: 9.72s\n",
      "470:\tlearn: 0.3279628\ttotal: 8.64s\tremaining: 9.7s\n",
      "471:\tlearn: 0.3279270\ttotal: 8.65s\tremaining: 9.68s\n",
      "472:\tlearn: 0.3277944\ttotal: 8.67s\tremaining: 9.66s\n",
      "473:\tlearn: 0.3277132\ttotal: 8.69s\tremaining: 9.64s\n",
      "474:\tlearn: 0.3276151\ttotal: 8.71s\tremaining: 9.63s\n",
      "475:\tlearn: 0.3275322\ttotal: 8.72s\tremaining: 9.61s\n",
      "476:\tlearn: 0.3274541\ttotal: 8.73s\tremaining: 9.58s\n",
      "477:\tlearn: 0.3273572\ttotal: 8.75s\tremaining: 9.55s\n",
      "478:\tlearn: 0.3272694\ttotal: 8.76s\tremaining: 9.53s\n",
      "479:\tlearn: 0.3272236\ttotal: 8.78s\tremaining: 9.51s\n",
      "480:\tlearn: 0.3271089\ttotal: 8.79s\tremaining: 9.49s\n",
      "481:\tlearn: 0.3270233\ttotal: 8.81s\tremaining: 9.47s\n",
      "482:\tlearn: 0.3269152\ttotal: 8.83s\tremaining: 9.45s\n",
      "483:\tlearn: 0.3268287\ttotal: 8.85s\tremaining: 9.43s\n",
      "484:\tlearn: 0.3267502\ttotal: 8.86s\tremaining: 9.41s\n",
      "485:\tlearn: 0.3266377\ttotal: 8.88s\tremaining: 9.39s\n",
      "486:\tlearn: 0.3265874\ttotal: 8.9s\tremaining: 9.38s\n"
     ]
    },
    {
     "name": "stdout",
     "output_type": "stream",
     "text": [
      "487:\tlearn: 0.3264663\ttotal: 8.91s\tremaining: 9.35s\n",
      "488:\tlearn: 0.3263773\ttotal: 8.92s\tremaining: 9.33s\n",
      "489:\tlearn: 0.3263153\ttotal: 8.94s\tremaining: 9.3s\n",
      "490:\tlearn: 0.3262486\ttotal: 8.96s\tremaining: 9.29s\n",
      "491:\tlearn: 0.3261741\ttotal: 8.97s\tremaining: 9.27s\n",
      "492:\tlearn: 0.3260788\ttotal: 8.99s\tremaining: 9.25s\n",
      "493:\tlearn: 0.3259854\ttotal: 9.01s\tremaining: 9.23s\n",
      "494:\tlearn: 0.3258692\ttotal: 9.03s\tremaining: 9.21s\n",
      "495:\tlearn: 0.3257867\ttotal: 9.05s\tremaining: 9.19s\n",
      "496:\tlearn: 0.3256399\ttotal: 9.07s\tremaining: 9.18s\n",
      "497:\tlearn: 0.3255766\ttotal: 9.09s\tremaining: 9.16s\n",
      "498:\tlearn: 0.3254450\ttotal: 9.1s\tremaining: 9.13s\n",
      "499:\tlearn: 0.3253441\ttotal: 9.12s\tremaining: 9.12s\n",
      "500:\tlearn: 0.3252857\ttotal: 9.13s\tremaining: 9.1s\n",
      "501:\tlearn: 0.3252034\ttotal: 9.15s\tremaining: 9.08s\n",
      "502:\tlearn: 0.3250810\ttotal: 9.17s\tremaining: 9.06s\n",
      "503:\tlearn: 0.3249870\ttotal: 9.18s\tremaining: 9.03s\n",
      "504:\tlearn: 0.3249032\ttotal: 9.2s\tremaining: 9.01s\n",
      "505:\tlearn: 0.3248386\ttotal: 9.21s\tremaining: 8.99s\n",
      "506:\tlearn: 0.3247897\ttotal: 9.23s\tremaining: 8.97s\n",
      "507:\tlearn: 0.3247107\ttotal: 9.25s\tremaining: 8.96s\n",
      "508:\tlearn: 0.3246632\ttotal: 9.27s\tremaining: 8.94s\n",
      "509:\tlearn: 0.3245981\ttotal: 9.28s\tremaining: 8.92s\n",
      "510:\tlearn: 0.3245110\ttotal: 9.31s\tremaining: 8.91s\n",
      "511:\tlearn: 0.3244919\ttotal: 9.32s\tremaining: 8.89s\n",
      "512:\tlearn: 0.3243729\ttotal: 9.34s\tremaining: 8.87s\n",
      "513:\tlearn: 0.3243060\ttotal: 9.36s\tremaining: 8.85s\n",
      "514:\tlearn: 0.3242249\ttotal: 9.38s\tremaining: 8.83s\n",
      "515:\tlearn: 0.3241252\ttotal: 9.39s\tremaining: 8.81s\n",
      "516:\tlearn: 0.3240291\ttotal: 9.41s\tremaining: 8.8s\n",
      "517:\tlearn: 0.3238698\ttotal: 9.43s\tremaining: 8.78s\n",
      "518:\tlearn: 0.3237873\ttotal: 9.45s\tremaining: 8.76s\n",
      "519:\tlearn: 0.3236782\ttotal: 9.46s\tremaining: 8.74s\n",
      "520:\tlearn: 0.3235427\ttotal: 9.48s\tremaining: 8.72s\n",
      "521:\tlearn: 0.3234860\ttotal: 9.5s\tremaining: 8.7s\n",
      "522:\tlearn: 0.3234241\ttotal: 9.53s\tremaining: 8.69s\n",
      "523:\tlearn: 0.3233018\ttotal: 9.55s\tremaining: 8.67s\n",
      "524:\tlearn: 0.3231946\ttotal: 9.57s\tremaining: 8.65s\n",
      "525:\tlearn: 0.3230870\ttotal: 9.59s\tremaining: 8.64s\n",
      "526:\tlearn: 0.3230020\ttotal: 9.61s\tremaining: 8.62s\n",
      "527:\tlearn: 0.3229773\ttotal: 9.63s\tremaining: 8.61s\n",
      "528:\tlearn: 0.3229190\ttotal: 9.65s\tremaining: 8.59s\n",
      "529:\tlearn: 0.3228603\ttotal: 9.66s\tremaining: 8.57s\n",
      "530:\tlearn: 0.3227883\ttotal: 9.68s\tremaining: 8.55s\n",
      "531:\tlearn: 0.3227526\ttotal: 9.71s\tremaining: 8.54s\n",
      "532:\tlearn: 0.3226853\ttotal: 9.72s\tremaining: 8.52s\n",
      "533:\tlearn: 0.3225819\ttotal: 9.74s\tremaining: 8.5s\n",
      "534:\tlearn: 0.3224187\ttotal: 9.76s\tremaining: 8.48s\n",
      "535:\tlearn: 0.3223321\ttotal: 9.78s\tremaining: 8.46s\n",
      "536:\tlearn: 0.3222338\ttotal: 9.79s\tremaining: 8.44s\n",
      "537:\tlearn: 0.3221332\ttotal: 9.81s\tremaining: 8.42s\n",
      "538:\tlearn: 0.3220738\ttotal: 9.82s\tremaining: 8.4s\n",
      "539:\tlearn: 0.3220286\ttotal: 9.84s\tremaining: 8.38s\n",
      "540:\tlearn: 0.3219486\ttotal: 9.86s\tremaining: 8.36s\n",
      "541:\tlearn: 0.3218273\ttotal: 9.87s\tremaining: 8.34s\n",
      "542:\tlearn: 0.3217581\ttotal: 9.9s\tremaining: 8.33s\n",
      "543:\tlearn: 0.3217064\ttotal: 9.91s\tremaining: 8.31s\n",
      "544:\tlearn: 0.3215556\ttotal: 9.93s\tremaining: 8.29s\n",
      "545:\tlearn: 0.3215083\ttotal: 9.95s\tremaining: 8.27s\n",
      "546:\tlearn: 0.3213882\ttotal: 9.98s\tremaining: 8.27s\n",
      "547:\tlearn: 0.3213348\ttotal: 10s\tremaining: 8.25s\n",
      "548:\tlearn: 0.3212304\ttotal: 10s\tremaining: 8.23s\n",
      "549:\tlearn: 0.3211378\ttotal: 10s\tremaining: 8.22s\n",
      "550:\tlearn: 0.3210958\ttotal: 10.1s\tremaining: 8.2s\n",
      "551:\tlearn: 0.3210160\ttotal: 10.1s\tremaining: 8.18s\n",
      "552:\tlearn: 0.3208956\ttotal: 10.1s\tremaining: 8.17s\n",
      "553:\tlearn: 0.3208258\ttotal: 10.1s\tremaining: 8.15s\n",
      "554:\tlearn: 0.3207538\ttotal: 10.1s\tremaining: 8.12s\n",
      "555:\tlearn: 0.3207099\ttotal: 10.2s\tremaining: 8.11s\n",
      "556:\tlearn: 0.3206101\ttotal: 10.2s\tremaining: 8.09s\n",
      "557:\tlearn: 0.3205605\ttotal: 10.2s\tremaining: 8.07s\n",
      "558:\tlearn: 0.3204798\ttotal: 10.2s\tremaining: 8.05s\n",
      "559:\tlearn: 0.3203959\ttotal: 10.2s\tremaining: 8.03s\n",
      "560:\tlearn: 0.3203439\ttotal: 10.2s\tremaining: 8.01s\n",
      "561:\tlearn: 0.3202709\ttotal: 10.3s\tremaining: 8s\n",
      "562:\tlearn: 0.3202086\ttotal: 10.3s\tremaining: 7.98s\n",
      "563:\tlearn: 0.3201260\ttotal: 10.3s\tremaining: 7.96s\n",
      "564:\tlearn: 0.3200605\ttotal: 10.3s\tremaining: 7.94s\n",
      "565:\tlearn: 0.3200030\ttotal: 10.3s\tremaining: 7.93s\n",
      "566:\tlearn: 0.3199324\ttotal: 10.4s\tremaining: 7.91s\n",
      "567:\tlearn: 0.3198386\ttotal: 10.4s\tremaining: 7.89s\n",
      "568:\tlearn: 0.3197476\ttotal: 10.4s\tremaining: 7.87s\n",
      "569:\tlearn: 0.3196709\ttotal: 10.4s\tremaining: 7.84s\n",
      "570:\tlearn: 0.3195517\ttotal: 10.4s\tremaining: 7.83s\n",
      "571:\tlearn: 0.3194849\ttotal: 10.4s\tremaining: 7.81s\n",
      "572:\tlearn: 0.3193802\ttotal: 10.5s\tremaining: 7.79s\n",
      "573:\tlearn: 0.3192587\ttotal: 10.5s\tremaining: 7.78s\n",
      "574:\tlearn: 0.3191978\ttotal: 10.5s\tremaining: 7.76s\n",
      "575:\tlearn: 0.3190966\ttotal: 10.5s\tremaining: 7.74s\n",
      "576:\tlearn: 0.3189987\ttotal: 10.5s\tremaining: 7.72s\n",
      "577:\tlearn: 0.3189532\ttotal: 10.5s\tremaining: 7.7s\n",
      "578:\tlearn: 0.3188476\ttotal: 10.6s\tremaining: 7.68s\n",
      "579:\tlearn: 0.3187652\ttotal: 10.6s\tremaining: 7.66s\n",
      "580:\tlearn: 0.3186657\ttotal: 10.6s\tremaining: 7.63s\n",
      "581:\tlearn: 0.3185947\ttotal: 10.6s\tremaining: 7.62s\n",
      "582:\tlearn: 0.3185162\ttotal: 10.6s\tremaining: 7.6s\n",
      "583:\tlearn: 0.3184176\ttotal: 10.6s\tremaining: 7.58s\n",
      "584:\tlearn: 0.3183290\ttotal: 10.7s\tremaining: 7.56s\n",
      "585:\tlearn: 0.3181830\ttotal: 10.7s\tremaining: 7.54s\n",
      "586:\tlearn: 0.3180943\ttotal: 10.7s\tremaining: 7.52s\n",
      "587:\tlearn: 0.3180133\ttotal: 10.7s\tremaining: 7.5s\n",
      "588:\tlearn: 0.3179365\ttotal: 10.7s\tremaining: 7.47s\n",
      "589:\tlearn: 0.3178565\ttotal: 10.7s\tremaining: 7.45s\n",
      "590:\tlearn: 0.3177416\ttotal: 10.7s\tremaining: 7.43s\n",
      "591:\tlearn: 0.3176710\ttotal: 10.8s\tremaining: 7.41s\n",
      "592:\tlearn: 0.3176073\ttotal: 10.8s\tremaining: 7.39s\n",
      "593:\tlearn: 0.3174979\ttotal: 10.8s\tremaining: 7.37s\n",
      "594:\tlearn: 0.3174675\ttotal: 10.8s\tremaining: 7.35s\n",
      "595:\tlearn: 0.3173830\ttotal: 10.8s\tremaining: 7.33s\n",
      "596:\tlearn: 0.3173354\ttotal: 10.8s\tremaining: 7.31s\n",
      "597:\tlearn: 0.3172559\ttotal: 10.9s\tremaining: 7.29s\n",
      "598:\tlearn: 0.3171780\ttotal: 10.9s\tremaining: 7.27s\n",
      "599:\tlearn: 0.3170929\ttotal: 10.9s\tremaining: 7.26s\n",
      "600:\tlearn: 0.3170054\ttotal: 10.9s\tremaining: 7.24s\n",
      "601:\tlearn: 0.3169668\ttotal: 10.9s\tremaining: 7.22s\n",
      "602:\tlearn: 0.3169101\ttotal: 10.9s\tremaining: 7.2s\n",
      "603:\tlearn: 0.3168272\ttotal: 11s\tremaining: 7.18s\n",
      "604:\tlearn: 0.3167318\ttotal: 11s\tremaining: 7.16s\n",
      "605:\tlearn: 0.3166650\ttotal: 11s\tremaining: 7.14s\n",
      "606:\tlearn: 0.3166329\ttotal: 11s\tremaining: 7.13s\n",
      "607:\tlearn: 0.3165857\ttotal: 11s\tremaining: 7.11s\n",
      "608:\tlearn: 0.3165129\ttotal: 11s\tremaining: 7.09s\n",
      "609:\tlearn: 0.3164514\ttotal: 11.1s\tremaining: 7.07s\n",
      "610:\tlearn: 0.3163628\ttotal: 11.1s\tremaining: 7.05s\n",
      "611:\tlearn: 0.3162632\ttotal: 11.1s\tremaining: 7.03s\n",
      "612:\tlearn: 0.3162194\ttotal: 11.1s\tremaining: 7.01s\n",
      "613:\tlearn: 0.3161553\ttotal: 11.1s\tremaining: 6.99s\n",
      "614:\tlearn: 0.3160829\ttotal: 11.1s\tremaining: 6.97s\n",
      "615:\tlearn: 0.3159806\ttotal: 11.2s\tremaining: 6.95s\n",
      "616:\tlearn: 0.3159288\ttotal: 11.2s\tremaining: 6.93s\n",
      "617:\tlearn: 0.3158403\ttotal: 11.2s\tremaining: 6.92s\n",
      "618:\tlearn: 0.3157762\ttotal: 11.2s\tremaining: 6.9s\n",
      "619:\tlearn: 0.3156827\ttotal: 11.2s\tremaining: 6.88s\n",
      "620:\tlearn: 0.3156070\ttotal: 11.2s\tremaining: 6.86s\n",
      "621:\tlearn: 0.3155328\ttotal: 11.3s\tremaining: 6.85s\n",
      "622:\tlearn: 0.3154820\ttotal: 11.3s\tremaining: 6.83s\n",
      "623:\tlearn: 0.3154128\ttotal: 11.3s\tremaining: 6.8s\n",
      "624:\tlearn: 0.3153707\ttotal: 11.3s\tremaining: 6.78s\n",
      "625:\tlearn: 0.3152954\ttotal: 11.3s\tremaining: 6.76s\n",
      "626:\tlearn: 0.3152507\ttotal: 11.3s\tremaining: 6.75s\n",
      "627:\tlearn: 0.3151732\ttotal: 11.4s\tremaining: 6.73s\n",
      "628:\tlearn: 0.3150951\ttotal: 11.4s\tremaining: 6.71s\n",
      "629:\tlearn: 0.3149825\ttotal: 11.4s\tremaining: 6.69s\n",
      "630:\tlearn: 0.3149205\ttotal: 11.4s\tremaining: 6.67s\n",
      "631:\tlearn: 0.3148561\ttotal: 11.4s\tremaining: 6.66s\n",
      "632:\tlearn: 0.3147244\ttotal: 11.5s\tremaining: 6.64s\n",
      "633:\tlearn: 0.3146640\ttotal: 11.5s\tremaining: 6.62s\n",
      "634:\tlearn: 0.3145950\ttotal: 11.5s\tremaining: 6.6s\n",
      "635:\tlearn: 0.3145299\ttotal: 11.5s\tremaining: 6.58s\n",
      "636:\tlearn: 0.3144755\ttotal: 11.5s\tremaining: 6.56s\n",
      "637:\tlearn: 0.3143751\ttotal: 11.5s\tremaining: 6.54s\n",
      "638:\tlearn: 0.3142883\ttotal: 11.5s\tremaining: 6.52s\n",
      "639:\tlearn: 0.3142078\ttotal: 11.6s\tremaining: 6.5s\n",
      "640:\tlearn: 0.3141639\ttotal: 11.6s\tremaining: 6.49s\n",
      "641:\tlearn: 0.3140884\ttotal: 11.6s\tremaining: 6.47s\n",
      "642:\tlearn: 0.3139633\ttotal: 11.6s\tremaining: 6.45s\n",
      "643:\tlearn: 0.3138678\ttotal: 11.6s\tremaining: 6.43s\n",
      "644:\tlearn: 0.3138066\ttotal: 11.7s\tremaining: 6.41s\n",
      "645:\tlearn: 0.3137309\ttotal: 11.7s\tremaining: 6.39s\n",
      "646:\tlearn: 0.3136563\ttotal: 11.7s\tremaining: 6.37s\n",
      "647:\tlearn: 0.3135849\ttotal: 11.7s\tremaining: 6.35s\n",
      "648:\tlearn: 0.3134932\ttotal: 11.7s\tremaining: 6.33s\n",
      "649:\tlearn: 0.3134406\ttotal: 11.7s\tremaining: 6.31s\n",
      "650:\tlearn: 0.3133753\ttotal: 11.7s\tremaining: 6.29s\n",
      "651:\tlearn: 0.3133029\ttotal: 11.8s\tremaining: 6.27s\n",
      "652:\tlearn: 0.3132624\ttotal: 11.8s\tremaining: 6.25s\n",
      "653:\tlearn: 0.3132111\ttotal: 11.8s\tremaining: 6.24s\n",
      "654:\tlearn: 0.3131304\ttotal: 11.8s\tremaining: 6.22s\n"
     ]
    },
    {
     "name": "stdout",
     "output_type": "stream",
     "text": [
      "655:\tlearn: 0.3130575\ttotal: 11.8s\tremaining: 6.2s\n",
      "656:\tlearn: 0.3130106\ttotal: 11.8s\tremaining: 6.17s\n",
      "657:\tlearn: 0.3129242\ttotal: 11.8s\tremaining: 6.15s\n",
      "658:\tlearn: 0.3128564\ttotal: 11.9s\tremaining: 6.13s\n",
      "659:\tlearn: 0.3127817\ttotal: 11.9s\tremaining: 6.12s\n",
      "660:\tlearn: 0.3127348\ttotal: 11.9s\tremaining: 6.1s\n",
      "661:\tlearn: 0.3126788\ttotal: 11.9s\tremaining: 6.08s\n",
      "662:\tlearn: 0.3126078\ttotal: 11.9s\tremaining: 6.06s\n",
      "663:\tlearn: 0.3125525\ttotal: 11.9s\tremaining: 6.05s\n",
      "664:\tlearn: 0.3124887\ttotal: 12s\tremaining: 6.03s\n",
      "665:\tlearn: 0.3124101\ttotal: 12s\tremaining: 6.01s\n",
      "666:\tlearn: 0.3123516\ttotal: 12s\tremaining: 5.99s\n",
      "667:\tlearn: 0.3123022\ttotal: 12s\tremaining: 5.97s\n",
      "668:\tlearn: 0.3122449\ttotal: 12s\tremaining: 5.95s\n",
      "669:\tlearn: 0.3121741\ttotal: 12s\tremaining: 5.93s\n",
      "670:\tlearn: 0.3120647\ttotal: 12.1s\tremaining: 5.91s\n",
      "671:\tlearn: 0.3119740\ttotal: 12.1s\tremaining: 5.89s\n",
      "672:\tlearn: 0.3118992\ttotal: 12.1s\tremaining: 5.87s\n",
      "673:\tlearn: 0.3118223\ttotal: 12.1s\tremaining: 5.86s\n",
      "674:\tlearn: 0.3117402\ttotal: 12.1s\tremaining: 5.84s\n",
      "675:\tlearn: 0.3116693\ttotal: 12.1s\tremaining: 5.82s\n",
      "676:\tlearn: 0.3115690\ttotal: 12.2s\tremaining: 5.8s\n",
      "677:\tlearn: 0.3115022\ttotal: 12.2s\tremaining: 5.79s\n",
      "678:\tlearn: 0.3114478\ttotal: 12.2s\tremaining: 5.77s\n",
      "679:\tlearn: 0.3113741\ttotal: 12.2s\tremaining: 5.75s\n",
      "680:\tlearn: 0.3113195\ttotal: 12.2s\tremaining: 5.73s\n",
      "681:\tlearn: 0.3112229\ttotal: 12.2s\tremaining: 5.71s\n",
      "682:\tlearn: 0.3111819\ttotal: 12.3s\tremaining: 5.69s\n",
      "683:\tlearn: 0.3111410\ttotal: 12.3s\tremaining: 5.68s\n",
      "684:\tlearn: 0.3110770\ttotal: 12.3s\tremaining: 5.66s\n",
      "685:\tlearn: 0.3110031\ttotal: 12.3s\tremaining: 5.64s\n",
      "686:\tlearn: 0.3108860\ttotal: 12.3s\tremaining: 5.62s\n",
      "687:\tlearn: 0.3108797\ttotal: 12.4s\tremaining: 5.61s\n",
      "688:\tlearn: 0.3108271\ttotal: 12.4s\tremaining: 5.59s\n",
      "689:\tlearn: 0.3107528\ttotal: 12.4s\tremaining: 5.57s\n",
      "690:\tlearn: 0.3106638\ttotal: 12.4s\tremaining: 5.55s\n",
      "691:\tlearn: 0.3106043\ttotal: 12.4s\tremaining: 5.53s\n",
      "692:\tlearn: 0.3105335\ttotal: 12.4s\tremaining: 5.51s\n",
      "693:\tlearn: 0.3104377\ttotal: 12.5s\tremaining: 5.5s\n",
      "694:\tlearn: 0.3103874\ttotal: 12.5s\tremaining: 5.48s\n",
      "695:\tlearn: 0.3103113\ttotal: 12.5s\tremaining: 5.46s\n",
      "696:\tlearn: 0.3102499\ttotal: 12.5s\tremaining: 5.44s\n",
      "697:\tlearn: 0.3101553\ttotal: 12.5s\tremaining: 5.42s\n",
      "698:\tlearn: 0.3101255\ttotal: 12.6s\tremaining: 5.41s\n",
      "699:\tlearn: 0.3100881\ttotal: 12.6s\tremaining: 5.39s\n",
      "700:\tlearn: 0.3100216\ttotal: 12.6s\tremaining: 5.37s\n",
      "701:\tlearn: 0.3099875\ttotal: 12.6s\tremaining: 5.35s\n",
      "702:\tlearn: 0.3099450\ttotal: 12.6s\tremaining: 5.33s\n",
      "703:\tlearn: 0.3098532\ttotal: 12.6s\tremaining: 5.31s\n",
      "704:\tlearn: 0.3097947\ttotal: 12.7s\tremaining: 5.3s\n",
      "705:\tlearn: 0.3097272\ttotal: 12.7s\tremaining: 5.28s\n",
      "706:\tlearn: 0.3096550\ttotal: 12.7s\tremaining: 5.26s\n",
      "707:\tlearn: 0.3095788\ttotal: 12.7s\tremaining: 5.25s\n",
      "708:\tlearn: 0.3095786\ttotal: 12.7s\tremaining: 5.22s\n",
      "709:\tlearn: 0.3094939\ttotal: 12.7s\tremaining: 5.2s\n",
      "710:\tlearn: 0.3093923\ttotal: 12.8s\tremaining: 5.18s\n",
      "711:\tlearn: 0.3092894\ttotal: 12.8s\tremaining: 5.17s\n",
      "712:\tlearn: 0.3092286\ttotal: 12.8s\tremaining: 5.15s\n",
      "713:\tlearn: 0.3091407\ttotal: 12.8s\tremaining: 5.13s\n",
      "714:\tlearn: 0.3090782\ttotal: 12.8s\tremaining: 5.12s\n",
      "715:\tlearn: 0.3090051\ttotal: 12.9s\tremaining: 5.1s\n",
      "716:\tlearn: 0.3089267\ttotal: 12.9s\tremaining: 5.08s\n",
      "717:\tlearn: 0.3088579\ttotal: 12.9s\tremaining: 5.06s\n",
      "718:\tlearn: 0.3088032\ttotal: 12.9s\tremaining: 5.04s\n",
      "719:\tlearn: 0.3087736\ttotal: 12.9s\tremaining: 5.03s\n",
      "720:\tlearn: 0.3087191\ttotal: 12.9s\tremaining: 5s\n",
      "721:\tlearn: 0.3086256\ttotal: 13s\tremaining: 4.99s\n",
      "722:\tlearn: 0.3085710\ttotal: 13s\tremaining: 4.97s\n",
      "723:\tlearn: 0.3085134\ttotal: 13s\tremaining: 4.95s\n",
      "724:\tlearn: 0.3084066\ttotal: 13s\tremaining: 4.93s\n",
      "725:\tlearn: 0.3083314\ttotal: 13s\tremaining: 4.91s\n",
      "726:\tlearn: 0.3082648\ttotal: 13s\tremaining: 4.89s\n",
      "727:\tlearn: 0.3082059\ttotal: 13s\tremaining: 4.87s\n",
      "728:\tlearn: 0.3081747\ttotal: 13.1s\tremaining: 4.86s\n",
      "729:\tlearn: 0.3081103\ttotal: 13.1s\tremaining: 4.84s\n",
      "730:\tlearn: 0.3080023\ttotal: 13.1s\tremaining: 4.82s\n",
      "731:\tlearn: 0.3079186\ttotal: 13.1s\tremaining: 4.8s\n",
      "732:\tlearn: 0.3078590\ttotal: 13.1s\tremaining: 4.78s\n",
      "733:\tlearn: 0.3077691\ttotal: 13.1s\tremaining: 4.76s\n",
      "734:\tlearn: 0.3076691\ttotal: 13.2s\tremaining: 4.75s\n",
      "735:\tlearn: 0.3076017\ttotal: 13.2s\tremaining: 4.73s\n",
      "736:\tlearn: 0.3075446\ttotal: 13.2s\tremaining: 4.71s\n",
      "737:\tlearn: 0.3074793\ttotal: 13.2s\tremaining: 4.69s\n",
      "738:\tlearn: 0.3074049\ttotal: 13.2s\tremaining: 4.67s\n",
      "739:\tlearn: 0.3073364\ttotal: 13.3s\tremaining: 4.66s\n",
      "740:\tlearn: 0.3072899\ttotal: 13.3s\tremaining: 4.64s\n",
      "741:\tlearn: 0.3072529\ttotal: 13.3s\tremaining: 4.62s\n",
      "742:\tlearn: 0.3071471\ttotal: 13.3s\tremaining: 4.6s\n",
      "743:\tlearn: 0.3070638\ttotal: 13.3s\tremaining: 4.58s\n",
      "744:\tlearn: 0.3070324\ttotal: 13.3s\tremaining: 4.56s\n",
      "745:\tlearn: 0.3069578\ttotal: 13.3s\tremaining: 4.54s\n",
      "746:\tlearn: 0.3069486\ttotal: 13.4s\tremaining: 4.53s\n",
      "747:\tlearn: 0.3068827\ttotal: 13.4s\tremaining: 4.51s\n",
      "748:\tlearn: 0.3067771\ttotal: 13.4s\tremaining: 4.49s\n",
      "749:\tlearn: 0.3067487\ttotal: 13.4s\tremaining: 4.47s\n",
      "750:\tlearn: 0.3066721\ttotal: 13.4s\tremaining: 4.45s\n",
      "751:\tlearn: 0.3066060\ttotal: 13.4s\tremaining: 4.43s\n",
      "752:\tlearn: 0.3065588\ttotal: 13.5s\tremaining: 4.41s\n",
      "753:\tlearn: 0.3064813\ttotal: 13.5s\tremaining: 4.39s\n",
      "754:\tlearn: 0.3064344\ttotal: 13.5s\tremaining: 4.38s\n",
      "755:\tlearn: 0.3063393\ttotal: 13.5s\tremaining: 4.36s\n",
      "756:\tlearn: 0.3062972\ttotal: 13.5s\tremaining: 4.34s\n",
      "757:\tlearn: 0.3062521\ttotal: 13.6s\tremaining: 4.33s\n",
      "758:\tlearn: 0.3062169\ttotal: 13.6s\tremaining: 4.31s\n",
      "759:\tlearn: 0.3061424\ttotal: 13.6s\tremaining: 4.29s\n",
      "760:\tlearn: 0.3060467\ttotal: 13.6s\tremaining: 4.28s\n",
      "761:\tlearn: 0.3059708\ttotal: 13.6s\tremaining: 4.26s\n",
      "762:\tlearn: 0.3059383\ttotal: 13.6s\tremaining: 4.24s\n",
      "763:\tlearn: 0.3058712\ttotal: 13.7s\tremaining: 4.22s\n",
      "764:\tlearn: 0.3058104\ttotal: 13.7s\tremaining: 4.2s\n",
      "765:\tlearn: 0.3057437\ttotal: 13.7s\tremaining: 4.18s\n",
      "766:\tlearn: 0.3056873\ttotal: 13.7s\tremaining: 4.17s\n",
      "767:\tlearn: 0.3055973\ttotal: 13.7s\tremaining: 4.15s\n",
      "768:\tlearn: 0.3055302\ttotal: 13.8s\tremaining: 4.13s\n",
      "769:\tlearn: 0.3054575\ttotal: 13.8s\tremaining: 4.12s\n",
      "770:\tlearn: 0.3054023\ttotal: 13.8s\tremaining: 4.1s\n",
      "771:\tlearn: 0.3053204\ttotal: 13.8s\tremaining: 4.08s\n",
      "772:\tlearn: 0.3051952\ttotal: 13.8s\tremaining: 4.06s\n",
      "773:\tlearn: 0.3051354\ttotal: 13.8s\tremaining: 4.04s\n",
      "774:\tlearn: 0.3050886\ttotal: 13.9s\tremaining: 4.03s\n",
      "775:\tlearn: 0.3050373\ttotal: 13.9s\tremaining: 4.01s\n",
      "776:\tlearn: 0.3049697\ttotal: 13.9s\tremaining: 3.99s\n",
      "777:\tlearn: 0.3049505\ttotal: 13.9s\tremaining: 3.97s\n",
      "778:\tlearn: 0.3048422\ttotal: 13.9s\tremaining: 3.95s\n",
      "779:\tlearn: 0.3047751\ttotal: 14s\tremaining: 3.94s\n",
      "780:\tlearn: 0.3047274\ttotal: 14s\tremaining: 3.92s\n",
      "781:\tlearn: 0.3046389\ttotal: 14s\tremaining: 3.9s\n",
      "782:\tlearn: 0.3045626\ttotal: 14s\tremaining: 3.88s\n",
      "783:\tlearn: 0.3045323\ttotal: 14s\tremaining: 3.86s\n",
      "784:\tlearn: 0.3044827\ttotal: 14s\tremaining: 3.85s\n",
      "785:\tlearn: 0.3044203\ttotal: 14.1s\tremaining: 3.83s\n",
      "786:\tlearn: 0.3043276\ttotal: 14.1s\tremaining: 3.81s\n",
      "787:\tlearn: 0.3042596\ttotal: 14.1s\tremaining: 3.79s\n",
      "788:\tlearn: 0.3041789\ttotal: 14.1s\tremaining: 3.77s\n",
      "789:\tlearn: 0.3040796\ttotal: 14.1s\tremaining: 3.75s\n",
      "790:\tlearn: 0.3040111\ttotal: 14.1s\tremaining: 3.73s\n",
      "791:\tlearn: 0.3039584\ttotal: 14.2s\tremaining: 3.72s\n",
      "792:\tlearn: 0.3038756\ttotal: 14.2s\tremaining: 3.7s\n",
      "793:\tlearn: 0.3038037\ttotal: 14.2s\tremaining: 3.68s\n",
      "794:\tlearn: 0.3037296\ttotal: 14.2s\tremaining: 3.66s\n",
      "795:\tlearn: 0.3036600\ttotal: 14.2s\tremaining: 3.64s\n",
      "796:\tlearn: 0.3036095\ttotal: 14.2s\tremaining: 3.63s\n",
      "797:\tlearn: 0.3035412\ttotal: 14.3s\tremaining: 3.61s\n",
      "798:\tlearn: 0.3034901\ttotal: 14.3s\tremaining: 3.59s\n",
      "799:\tlearn: 0.3034495\ttotal: 14.3s\tremaining: 3.57s\n",
      "800:\tlearn: 0.3033911\ttotal: 14.3s\tremaining: 3.55s\n",
      "801:\tlearn: 0.3033067\ttotal: 14.3s\tremaining: 3.54s\n",
      "802:\tlearn: 0.3032799\ttotal: 14.3s\tremaining: 3.52s\n",
      "803:\tlearn: 0.3032140\ttotal: 14.4s\tremaining: 3.5s\n",
      "804:\tlearn: 0.3031552\ttotal: 14.4s\tremaining: 3.48s\n",
      "805:\tlearn: 0.3030677\ttotal: 14.4s\tremaining: 3.46s\n",
      "806:\tlearn: 0.3030185\ttotal: 14.4s\tremaining: 3.44s\n",
      "807:\tlearn: 0.3029716\ttotal: 14.4s\tremaining: 3.43s\n",
      "808:\tlearn: 0.3029062\ttotal: 14.4s\tremaining: 3.41s\n",
      "809:\tlearn: 0.3028403\ttotal: 14.5s\tremaining: 3.39s\n",
      "810:\tlearn: 0.3027692\ttotal: 14.5s\tremaining: 3.37s\n",
      "811:\tlearn: 0.3027071\ttotal: 14.5s\tremaining: 3.35s\n",
      "812:\tlearn: 0.3026550\ttotal: 14.5s\tremaining: 3.34s\n",
      "813:\tlearn: 0.3025924\ttotal: 14.5s\tremaining: 3.32s\n",
      "814:\tlearn: 0.3025597\ttotal: 14.5s\tremaining: 3.3s\n"
     ]
    },
    {
     "name": "stdout",
     "output_type": "stream",
     "text": [
      "815:\tlearn: 0.3025058\ttotal: 14.6s\tremaining: 3.28s\n",
      "816:\tlearn: 0.3024520\ttotal: 14.6s\tremaining: 3.27s\n",
      "817:\tlearn: 0.3023526\ttotal: 14.6s\tremaining: 3.25s\n",
      "818:\tlearn: 0.3023109\ttotal: 14.6s\tremaining: 3.23s\n",
      "819:\tlearn: 0.3022148\ttotal: 14.6s\tremaining: 3.21s\n",
      "820:\tlearn: 0.3021629\ttotal: 14.7s\tremaining: 3.19s\n",
      "821:\tlearn: 0.3020952\ttotal: 14.7s\tremaining: 3.18s\n",
      "822:\tlearn: 0.3020296\ttotal: 14.7s\tremaining: 3.16s\n",
      "823:\tlearn: 0.3019781\ttotal: 14.7s\tremaining: 3.14s\n",
      "824:\tlearn: 0.3018931\ttotal: 14.7s\tremaining: 3.12s\n",
      "825:\tlearn: 0.3018295\ttotal: 14.7s\tremaining: 3.1s\n",
      "826:\tlearn: 0.3017405\ttotal: 14.8s\tremaining: 3.09s\n",
      "827:\tlearn: 0.3017079\ttotal: 14.8s\tremaining: 3.07s\n",
      "828:\tlearn: 0.3016562\ttotal: 14.8s\tremaining: 3.05s\n",
      "829:\tlearn: 0.3015887\ttotal: 14.8s\tremaining: 3.03s\n",
      "830:\tlearn: 0.3015408\ttotal: 14.8s\tremaining: 3.02s\n",
      "831:\tlearn: 0.3014774\ttotal: 14.8s\tremaining: 3s\n",
      "832:\tlearn: 0.3014465\ttotal: 14.9s\tremaining: 2.98s\n",
      "833:\tlearn: 0.3013818\ttotal: 14.9s\tremaining: 2.96s\n",
      "834:\tlearn: 0.3013347\ttotal: 14.9s\tremaining: 2.94s\n",
      "835:\tlearn: 0.3012750\ttotal: 14.9s\tremaining: 2.92s\n",
      "836:\tlearn: 0.3011984\ttotal: 14.9s\tremaining: 2.9s\n",
      "837:\tlearn: 0.3011487\ttotal: 14.9s\tremaining: 2.88s\n",
      "838:\tlearn: 0.3010876\ttotal: 14.9s\tremaining: 2.87s\n",
      "839:\tlearn: 0.3010527\ttotal: 15s\tremaining: 2.85s\n",
      "840:\tlearn: 0.3009549\ttotal: 15s\tremaining: 2.83s\n",
      "841:\tlearn: 0.3009063\ttotal: 15s\tremaining: 2.81s\n",
      "842:\tlearn: 0.3008817\ttotal: 15s\tremaining: 2.79s\n",
      "843:\tlearn: 0.3008522\ttotal: 15s\tremaining: 2.78s\n",
      "844:\tlearn: 0.3007713\ttotal: 15s\tremaining: 2.76s\n",
      "845:\tlearn: 0.3007094\ttotal: 15.1s\tremaining: 2.74s\n",
      "846:\tlearn: 0.3006605\ttotal: 15.1s\tremaining: 2.72s\n",
      "847:\tlearn: 0.3006203\ttotal: 15.1s\tremaining: 2.71s\n",
      "848:\tlearn: 0.3005648\ttotal: 15.1s\tremaining: 2.69s\n",
      "849:\tlearn: 0.3004968\ttotal: 15.1s\tremaining: 2.67s\n",
      "850:\tlearn: 0.3004198\ttotal: 15.2s\tremaining: 2.65s\n",
      "851:\tlearn: 0.3003843\ttotal: 15.2s\tremaining: 2.63s\n",
      "852:\tlearn: 0.3003340\ttotal: 15.2s\tremaining: 2.62s\n",
      "853:\tlearn: 0.3002415\ttotal: 15.2s\tremaining: 2.6s\n",
      "854:\tlearn: 0.3002059\ttotal: 15.2s\tremaining: 2.58s\n",
      "855:\tlearn: 0.3001545\ttotal: 15.2s\tremaining: 2.56s\n",
      "856:\tlearn: 0.3000905\ttotal: 15.3s\tremaining: 2.55s\n",
      "857:\tlearn: 0.3000647\ttotal: 15.3s\tremaining: 2.53s\n",
      "858:\tlearn: 0.3000174\ttotal: 15.3s\tremaining: 2.51s\n",
      "859:\tlearn: 0.2999656\ttotal: 15.3s\tremaining: 2.49s\n",
      "860:\tlearn: 0.2999434\ttotal: 15.3s\tremaining: 2.47s\n",
      "861:\tlearn: 0.2999019\ttotal: 15.3s\tremaining: 2.46s\n",
      "862:\tlearn: 0.2998360\ttotal: 15.4s\tremaining: 2.44s\n",
      "863:\tlearn: 0.2998058\ttotal: 15.4s\tremaining: 2.42s\n",
      "864:\tlearn: 0.2997352\ttotal: 15.4s\tremaining: 2.4s\n",
      "865:\tlearn: 0.2996556\ttotal: 15.4s\tremaining: 2.38s\n",
      "866:\tlearn: 0.2996006\ttotal: 15.4s\tremaining: 2.37s\n",
      "867:\tlearn: 0.2995296\ttotal: 15.4s\tremaining: 2.35s\n",
      "868:\tlearn: 0.2994912\ttotal: 15.5s\tremaining: 2.33s\n",
      "869:\tlearn: 0.2994191\ttotal: 15.5s\tremaining: 2.31s\n",
      "870:\tlearn: 0.2993761\ttotal: 15.5s\tremaining: 2.29s\n",
      "871:\tlearn: 0.2993400\ttotal: 15.5s\tremaining: 2.28s\n",
      "872:\tlearn: 0.2992810\ttotal: 15.5s\tremaining: 2.26s\n",
      "873:\tlearn: 0.2992448\ttotal: 15.6s\tremaining: 2.24s\n",
      "874:\tlearn: 0.2991860\ttotal: 15.6s\tremaining: 2.22s\n",
      "875:\tlearn: 0.2991325\ttotal: 15.6s\tremaining: 2.21s\n",
      "876:\tlearn: 0.2991026\ttotal: 15.6s\tremaining: 2.19s\n",
      "877:\tlearn: 0.2990565\ttotal: 15.6s\tremaining: 2.17s\n",
      "878:\tlearn: 0.2989988\ttotal: 15.7s\tremaining: 2.15s\n",
      "879:\tlearn: 0.2989624\ttotal: 15.7s\tremaining: 2.14s\n",
      "880:\tlearn: 0.2989354\ttotal: 15.7s\tremaining: 2.12s\n",
      "881:\tlearn: 0.2988599\ttotal: 15.7s\tremaining: 2.1s\n",
      "882:\tlearn: 0.2988014\ttotal: 15.7s\tremaining: 2.08s\n",
      "883:\tlearn: 0.2987276\ttotal: 15.7s\tremaining: 2.06s\n",
      "884:\tlearn: 0.2986809\ttotal: 15.8s\tremaining: 2.05s\n",
      "885:\tlearn: 0.2986364\ttotal: 15.8s\tremaining: 2.03s\n",
      "886:\tlearn: 0.2985921\ttotal: 15.8s\tremaining: 2.01s\n",
      "887:\tlearn: 0.2985582\ttotal: 15.8s\tremaining: 1.99s\n",
      "888:\tlearn: 0.2984634\ttotal: 15.8s\tremaining: 1.98s\n",
      "889:\tlearn: 0.2984049\ttotal: 15.8s\tremaining: 1.96s\n",
      "890:\tlearn: 0.2983368\ttotal: 15.8s\tremaining: 1.94s\n",
      "891:\tlearn: 0.2982555\ttotal: 15.9s\tremaining: 1.92s\n",
      "892:\tlearn: 0.2981636\ttotal: 15.9s\tremaining: 1.9s\n",
      "893:\tlearn: 0.2980980\ttotal: 15.9s\tremaining: 1.89s\n",
      "894:\tlearn: 0.2980081\ttotal: 15.9s\tremaining: 1.87s\n",
      "895:\tlearn: 0.2979469\ttotal: 15.9s\tremaining: 1.85s\n",
      "896:\tlearn: 0.2978827\ttotal: 16s\tremaining: 1.83s\n",
      "897:\tlearn: 0.2978553\ttotal: 16s\tremaining: 1.81s\n",
      "898:\tlearn: 0.2978131\ttotal: 16s\tremaining: 1.8s\n",
      "899:\tlearn: 0.2977452\ttotal: 16s\tremaining: 1.78s\n",
      "900:\tlearn: 0.2976743\ttotal: 16s\tremaining: 1.76s\n",
      "901:\tlearn: 0.2976087\ttotal: 16s\tremaining: 1.74s\n",
      "902:\tlearn: 0.2975313\ttotal: 16.1s\tremaining: 1.72s\n",
      "903:\tlearn: 0.2974757\ttotal: 16.1s\tremaining: 1.71s\n",
      "904:\tlearn: 0.2974008\ttotal: 16.1s\tremaining: 1.69s\n",
      "905:\tlearn: 0.2972632\ttotal: 16.1s\tremaining: 1.67s\n",
      "906:\tlearn: 0.2972298\ttotal: 16.1s\tremaining: 1.65s\n",
      "907:\tlearn: 0.2971800\ttotal: 16.1s\tremaining: 1.64s\n",
      "908:\tlearn: 0.2971294\ttotal: 16.2s\tremaining: 1.62s\n",
      "909:\tlearn: 0.2970548\ttotal: 16.2s\tremaining: 1.6s\n",
      "910:\tlearn: 0.2969666\ttotal: 16.2s\tremaining: 1.58s\n",
      "911:\tlearn: 0.2969418\ttotal: 16.2s\tremaining: 1.56s\n",
      "912:\tlearn: 0.2968862\ttotal: 16.2s\tremaining: 1.55s\n",
      "913:\tlearn: 0.2967944\ttotal: 16.3s\tremaining: 1.53s\n",
      "914:\tlearn: 0.2967261\ttotal: 16.3s\tremaining: 1.51s\n",
      "915:\tlearn: 0.2966676\ttotal: 16.3s\tremaining: 1.49s\n",
      "916:\tlearn: 0.2966194\ttotal: 16.3s\tremaining: 1.48s\n",
      "917:\tlearn: 0.2965529\ttotal: 16.3s\tremaining: 1.46s\n",
      "918:\tlearn: 0.2965084\ttotal: 16.3s\tremaining: 1.44s\n",
      "919:\tlearn: 0.2964903\ttotal: 16.4s\tremaining: 1.42s\n",
      "920:\tlearn: 0.2964012\ttotal: 16.4s\tremaining: 1.41s\n",
      "921:\tlearn: 0.2963568\ttotal: 16.4s\tremaining: 1.39s\n",
      "922:\tlearn: 0.2963181\ttotal: 16.4s\tremaining: 1.37s\n",
      "923:\tlearn: 0.2962503\ttotal: 16.4s\tremaining: 1.35s\n",
      "924:\tlearn: 0.2961994\ttotal: 16.4s\tremaining: 1.33s\n",
      "925:\tlearn: 0.2961622\ttotal: 16.5s\tremaining: 1.31s\n",
      "926:\tlearn: 0.2960868\ttotal: 16.5s\tremaining: 1.3s\n",
      "927:\tlearn: 0.2960411\ttotal: 16.5s\tremaining: 1.28s\n",
      "928:\tlearn: 0.2959694\ttotal: 16.5s\tremaining: 1.26s\n",
      "929:\tlearn: 0.2959186\ttotal: 16.5s\tremaining: 1.24s\n",
      "930:\tlearn: 0.2958361\ttotal: 16.6s\tremaining: 1.23s\n",
      "931:\tlearn: 0.2957499\ttotal: 16.6s\tremaining: 1.21s\n",
      "932:\tlearn: 0.2957145\ttotal: 16.6s\tremaining: 1.19s\n",
      "933:\tlearn: 0.2956662\ttotal: 16.6s\tremaining: 1.17s\n",
      "934:\tlearn: 0.2955977\ttotal: 16.6s\tremaining: 1.16s\n",
      "935:\tlearn: 0.2955445\ttotal: 16.6s\tremaining: 1.14s\n",
      "936:\tlearn: 0.2954728\ttotal: 16.7s\tremaining: 1.12s\n",
      "937:\tlearn: 0.2954280\ttotal: 16.7s\tremaining: 1.1s\n",
      "938:\tlearn: 0.2953484\ttotal: 16.7s\tremaining: 1.08s\n",
      "939:\tlearn: 0.2952913\ttotal: 16.7s\tremaining: 1.07s\n",
      "940:\tlearn: 0.2952364\ttotal: 16.7s\tremaining: 1.05s\n",
      "941:\tlearn: 0.2951418\ttotal: 16.7s\tremaining: 1.03s\n",
      "942:\tlearn: 0.2950820\ttotal: 16.8s\tremaining: 1.01s\n",
      "943:\tlearn: 0.2950500\ttotal: 16.8s\tremaining: 995ms\n",
      "944:\tlearn: 0.2949928\ttotal: 16.8s\tremaining: 977ms\n",
      "945:\tlearn: 0.2949292\ttotal: 16.8s\tremaining: 959ms\n",
      "946:\tlearn: 0.2948609\ttotal: 16.8s\tremaining: 941ms\n",
      "947:\tlearn: 0.2947969\ttotal: 16.8s\tremaining: 924ms\n",
      "948:\tlearn: 0.2947584\ttotal: 16.9s\tremaining: 906ms\n",
      "949:\tlearn: 0.2947236\ttotal: 16.9s\tremaining: 888ms\n",
      "950:\tlearn: 0.2946523\ttotal: 16.9s\tremaining: 870ms\n",
      "951:\tlearn: 0.2946054\ttotal: 16.9s\tremaining: 853ms\n",
      "952:\tlearn: 0.2945529\ttotal: 16.9s\tremaining: 835ms\n",
      "953:\tlearn: 0.2944991\ttotal: 16.9s\tremaining: 817ms\n",
      "954:\tlearn: 0.2944187\ttotal: 17s\tremaining: 799ms\n",
      "955:\tlearn: 0.2943666\ttotal: 17s\tremaining: 781ms\n",
      "956:\tlearn: 0.2943446\ttotal: 17s\tremaining: 764ms\n",
      "957:\tlearn: 0.2943203\ttotal: 17s\tremaining: 746ms\n",
      "958:\tlearn: 0.2942684\ttotal: 17s\tremaining: 729ms\n",
      "959:\tlearn: 0.2942239\ttotal: 17.1s\tremaining: 711ms\n",
      "960:\tlearn: 0.2941733\ttotal: 17.1s\tremaining: 693ms\n",
      "961:\tlearn: 0.2941463\ttotal: 17.1s\tremaining: 676ms\n",
      "962:\tlearn: 0.2941153\ttotal: 17.1s\tremaining: 658ms\n",
      "963:\tlearn: 0.2940916\ttotal: 17.1s\tremaining: 640ms\n",
      "964:\tlearn: 0.2940519\ttotal: 17.2s\tremaining: 622ms\n",
      "965:\tlearn: 0.2939797\ttotal: 17.2s\tremaining: 604ms\n",
      "966:\tlearn: 0.2939424\ttotal: 17.2s\tremaining: 587ms\n",
      "967:\tlearn: 0.2938990\ttotal: 17.2s\tremaining: 569ms\n",
      "968:\tlearn: 0.2938187\ttotal: 17.2s\tremaining: 551ms\n",
      "969:\tlearn: 0.2937389\ttotal: 17.2s\tremaining: 533ms\n",
      "970:\tlearn: 0.2937148\ttotal: 17.3s\tremaining: 516ms\n",
      "971:\tlearn: 0.2936654\ttotal: 17.3s\tremaining: 498ms\n",
      "972:\tlearn: 0.2936016\ttotal: 17.3s\tremaining: 480ms\n",
      "973:\tlearn: 0.2935509\ttotal: 17.3s\tremaining: 462ms\n",
      "974:\tlearn: 0.2935508\ttotal: 17.3s\tremaining: 444ms\n",
      "975:\tlearn: 0.2935028\ttotal: 17.3s\tremaining: 426ms\n",
      "976:\tlearn: 0.2934260\ttotal: 17.4s\tremaining: 409ms\n",
      "977:\tlearn: 0.2933976\ttotal: 17.4s\tremaining: 391ms\n",
      "978:\tlearn: 0.2933426\ttotal: 17.4s\tremaining: 373ms\n",
      "979:\tlearn: 0.2932695\ttotal: 17.4s\tremaining: 355ms\n",
      "980:\tlearn: 0.2932040\ttotal: 17.4s\tremaining: 338ms\n",
      "981:\tlearn: 0.2931424\ttotal: 17.4s\tremaining: 320ms\n",
      "982:\tlearn: 0.2931108\ttotal: 17.5s\tremaining: 302ms\n"
     ]
    },
    {
     "name": "stdout",
     "output_type": "stream",
     "text": [
      "983:\tlearn: 0.2930716\ttotal: 17.5s\tremaining: 284ms\n",
      "984:\tlearn: 0.2930143\ttotal: 17.5s\tremaining: 267ms\n",
      "985:\tlearn: 0.2929505\ttotal: 17.5s\tremaining: 249ms\n",
      "986:\tlearn: 0.2928854\ttotal: 17.5s\tremaining: 231ms\n",
      "987:\tlearn: 0.2928603\ttotal: 17.6s\tremaining: 213ms\n",
      "988:\tlearn: 0.2927829\ttotal: 17.6s\tremaining: 195ms\n",
      "989:\tlearn: 0.2927031\ttotal: 17.6s\tremaining: 178ms\n",
      "990:\tlearn: 0.2926221\ttotal: 17.6s\tremaining: 160ms\n",
      "991:\tlearn: 0.2925661\ttotal: 17.6s\tremaining: 142ms\n",
      "992:\tlearn: 0.2924815\ttotal: 17.6s\tremaining: 124ms\n",
      "993:\tlearn: 0.2924173\ttotal: 17.7s\tremaining: 107ms\n",
      "994:\tlearn: 0.2923490\ttotal: 17.7s\tremaining: 88.9ms\n",
      "995:\tlearn: 0.2922657\ttotal: 17.7s\tremaining: 71.1ms\n",
      "996:\tlearn: 0.2921870\ttotal: 17.7s\tremaining: 53.3ms\n",
      "997:\tlearn: 0.2921414\ttotal: 17.7s\tremaining: 35.5ms\n",
      "998:\tlearn: 0.2921413\ttotal: 17.7s\tremaining: 17.8ms\n",
      "999:\tlearn: 0.2920823\ttotal: 17.7s\tremaining: 0us\n"
     ]
    }
   ],
   "source": [
    "cat_rg1 = cb.CatBoostClassifier()\n",
    "cat_rg1.fit(x_train,y_train)\n",
    "prediction=cat_rg1.predict(x_test)"
   ]
  },
  {
   "cell_type": "code",
   "execution_count": 92,
   "metadata": {},
   "outputs": [
    {
     "name": "stdout",
     "output_type": "stream",
     "text": [
      "accuracy score is 0.8609295570079883\n",
      "Kappa is : 0.012115558602552201\n",
      "Sensitiviy is : 0.010554089709762533\n",
      "Precision is : 0.3333333333333333\n",
      "R2 score is: -0.17181724760449946\n",
      "Area under curve is  :0.5035928343285654\n",
      "[[4734   16]\n",
      " [ 750    8]]\n",
      "              precision    recall  f1-score   support\n",
      "\n",
      "           0       0.86      1.00      0.93      4750\n",
      "           1       0.33      0.01      0.02       758\n",
      "\n",
      "    accuracy                           0.86      5508\n",
      "   macro avg       0.60      0.50      0.47      5508\n",
      "weighted avg       0.79      0.86      0.80      5508\n",
      "\n"
     ]
    }
   ],
   "source": [
    "print(\"accuracy score is {}\".format(accuracy_score(y_test,prediction)))\n",
    "print(\"Kappa is :\",cohen_kappa_score(y_test,prediction))\n",
    "print(\"Sensitiviy is :\",recall_score(y_test, prediction))\n",
    "print(\"Precision is :\",precision_score(y_test, prediction))\n",
    "print(\"R2 score is:\",r2_score(y_test,prediction))\n",
    "fpr, tpr, thresholds = roc_curve(y_test,prediction)\n",
    "print(\"Area under curve is  :{}\".format(auc(fpr,tpr)))\n",
    "print(confusion_matrix(y_test, prediction))\n",
    "print(classification_report(y_test, prediction))"
   ]
  },
  {
   "cell_type": "code",
   "execution_count": null,
   "metadata": {},
   "outputs": [],
   "source": [
    "# xgboostclassifier"
   ]
  },
  {
   "cell_type": "code",
   "execution_count": 93,
   "metadata": {},
   "outputs": [],
   "source": [
    "xgb=XGBClassifier()\n",
    "prediction= xgb.fit(x_train,y_train).predict(x_test)"
   ]
  },
  {
   "cell_type": "code",
   "execution_count": 94,
   "metadata": {},
   "outputs": [
    {
     "name": "stdout",
     "output_type": "stream",
     "text": [
      "accuracy score is 0.853122730573711\n",
      "Kappa is : 0.028404095729835377\n",
      "Sensitiviy is : 0.03430079155672823\n",
      "Precision is : 0.2524271844660194\n",
      "R2 score is: -0.23759811137342046\n",
      "Area under curve is  :0.5090451326204694\n",
      "[[4673   77]\n",
      " [ 732   26]]\n",
      "              precision    recall  f1-score   support\n",
      "\n",
      "           0       0.86      0.98      0.92      4750\n",
      "           1       0.25      0.03      0.06       758\n",
      "\n",
      "    accuracy                           0.85      5508\n",
      "   macro avg       0.56      0.51      0.49      5508\n",
      "weighted avg       0.78      0.85      0.80      5508\n",
      "\n"
     ]
    }
   ],
   "source": [
    "print(\"accuracy score is {}\".format(accuracy_score(y_test,prediction)))\n",
    "print(\"Kappa is :\",cohen_kappa_score(y_test,prediction))\n",
    "print(\"Sensitiviy is :\",recall_score(y_test, prediction))\n",
    "print(\"Precision is :\",precision_score(y_test, prediction))\n",
    "print(\"R2 score is:\",r2_score(y_test,prediction))\n",
    "fpr, tpr, thresholds = roc_curve(y_test,prediction)\n",
    "print(\"Area under curve is  :{}\".format(auc(fpr,tpr)))\n",
    "print(confusion_matrix(y_test, prediction))\n",
    "print(classification_report(y_test, prediction))"
   ]
  },
  {
   "cell_type": "code",
   "execution_count": null,
   "metadata": {},
   "outputs": [],
   "source": [
    "# Applying best model on test dataset as per auc"
   ]
  },
  {
   "cell_type": "code",
   "execution_count": 245,
   "metadata": {},
   "outputs": [
    {
     "name": "stderr",
     "output_type": "stream",
     "text": [
      "c:\\users\\acer\\appdata\\local\\programs\\python\\python36\\lib\\site-packages\\sklearn\\ensemble\\forest.py:245: FutureWarning: The default value of n_estimators will change from 10 in version 0.20 to 100 in 0.22.\n",
      "  \"10 in version 0.20 to 100 in 0.22.\", FutureWarning)\n"
     ]
    }
   ],
   "source": [
    "rf=RandomForestClassifier(criterion=\"entropy\",max_depth=20)\n",
    "rf.fit(x,y)\n",
    "prediction=rf.predict(test)"
   ]
  },
  {
   "cell_type": "code",
   "execution_count": null,
   "metadata": {},
   "outputs": [],
   "source": [
    "# Preparing prediction dataset as per submision file "
   ]
  },
  {
   "cell_type": "code",
   "execution_count": 248,
   "metadata": {},
   "outputs": [],
   "source": [
    "final_prediction=pd.DataFrame({\"enrollee_id\":b[\"enrollee_id\"],\"target\":prediction})"
   ]
  },
  {
   "cell_type": "code",
   "execution_count": null,
   "metadata": {},
   "outputs": [],
   "source": [
    "# lets see our final prediction dataset"
   ]
  },
  {
   "cell_type": "code",
   "execution_count": 249,
   "metadata": {},
   "outputs": [
    {
     "data": {
      "text/html": [
       "<div>\n",
       "<style scoped>\n",
       "    .dataframe tbody tr th:only-of-type {\n",
       "        vertical-align: middle;\n",
       "    }\n",
       "\n",
       "    .dataframe tbody tr th {\n",
       "        vertical-align: top;\n",
       "    }\n",
       "\n",
       "    .dataframe thead th {\n",
       "        text-align: right;\n",
       "    }\n",
       "</style>\n",
       "<table border=\"1\" class=\"dataframe\">\n",
       "  <thead>\n",
       "    <tr style=\"text-align: right;\">\n",
       "      <th></th>\n",
       "      <th>enrollee_id</th>\n",
       "      <th>target</th>\n",
       "    </tr>\n",
       "  </thead>\n",
       "  <tbody>\n",
       "    <tr>\n",
       "      <th>0</th>\n",
       "      <td>16548</td>\n",
       "      <td>0</td>\n",
       "    </tr>\n",
       "    <tr>\n",
       "      <th>1</th>\n",
       "      <td>12036</td>\n",
       "      <td>0</td>\n",
       "    </tr>\n",
       "    <tr>\n",
       "      <th>2</th>\n",
       "      <td>11061</td>\n",
       "      <td>0</td>\n",
       "    </tr>\n",
       "    <tr>\n",
       "      <th>3</th>\n",
       "      <td>5032</td>\n",
       "      <td>0</td>\n",
       "    </tr>\n",
       "  </tbody>\n",
       "</table>\n",
       "</div>"
      ],
      "text/plain": [
       "   enrollee_id  target\n",
       "0        16548       0\n",
       "1        12036       0\n",
       "2        11061       0\n",
       "3         5032       0"
      ]
     },
     "execution_count": 249,
     "metadata": {},
     "output_type": "execute_result"
    }
   ],
   "source": [
    "final_prediction.head(4)"
   ]
  },
  {
   "cell_type": "code",
   "execution_count": 250,
   "metadata": {},
   "outputs": [],
   "source": [
    "# convert to csv\n",
    "final_prediction.to_csv(\"Hr1.csv\",index=False)"
   ]
  },
  {
   "cell_type": "code",
   "execution_count": null,
   "metadata": {},
   "outputs": [],
   "source": []
  },
  {
   "cell_type": "code",
   "execution_count": null,
   "metadata": {},
   "outputs": [],
   "source": [
    "# import libraries\n",
    "import pandas as pd\n",
    "import numpy as np \n",
    "import matplotlib.pyplot as plt\n",
    "#%matplotlib inline \n",
    "import os\n",
    "from catboost import CatBoostClassifier\n",
    "from sklearn.model_selection import train_test_split\n",
    "from sklearn.metrics import roc_auc_score\n",
    "\n",
    "\n",
    "#read data\n",
    "#os.chdir(\"C:/Users/pulkit_mehta/Downloads\")\n",
    "train = pd.read_csv('../input/av-hr-08may2020/train_jqd04QH.csv')\n",
    "test = pd.read_csv('../input/av-hr-08may2020/test_KaymcHn.csv')\n",
    "sub = pd.read_csv('../input/av-hr-08may2020/sample_submission_sxfcbdx.csv')\n",
    "\n",
    "\n",
    "# replacing missing data by mode\n",
    "for column in ['gender', 'enrolled_university', 'education_level', 'major_discipline', 'experience','company_size',\n",
    "              'company_type','last_new_job']:\n",
    "    train[column].fillna(train[column].mode()[0], inplace=True)\n",
    "    test[column].fillna(test[column].mode()[0], inplace=True)\n",
    "\n",
    "\t\n",
    "#prepare features , target\t\n",
    "train_x = train.drop(columns=['target','enrollee_id'],axis=1)\n",
    "train_y = train['target']\n",
    "\n",
    "test = test.drop(columns='enrollee_id',axis=1)\n",
    "\n",
    "#specifying categorical variables indexes\n",
    "categorical_var = np.array([ 0, 2, 3,  4,  5,  6, 7,   8,  9, 10])\n",
    "\n",
    "#fitting catboost classifier model\n",
    "model = CatBoostClassifier(n_estimators=100\n",
    "                          )\n",
    "model.fit(train_x,train_y,cat_features=categorical_var,verbose=True)\n",
    "\n",
    "#predict probability on test data\n",
    "predict_test = model.predict_proba(test)[:,1]\n",
    "\n",
    "sub.target = predict_test\n",
    "sub.to_csv('cb_100.csv',index = False)"
   ]
  },
  {
   "cell_type": "code",
   "execution_count": null,
   "metadata": {},
   "outputs": [],
   "source": []
  }
 ],
 "metadata": {
  "kernelspec": {
   "display_name": "Python 3",
   "language": "python",
   "name": "python3"
  },
  "language_info": {
   "codemirror_mode": {
    "name": "ipython",
    "version": 3
   },
   "file_extension": ".py",
   "mimetype": "text/x-python",
   "name": "python",
   "nbconvert_exporter": "python",
   "pygments_lexer": "ipython3",
   "version": "3.6.5"
  }
 },
 "nbformat": 4,
 "nbformat_minor": 2
}
